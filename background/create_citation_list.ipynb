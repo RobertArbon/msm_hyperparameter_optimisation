{
 "cells": [
  {
   "cell_type": "code",
   "execution_count": 1,
   "metadata": {},
   "outputs": [],
   "source": [
    "import pandas as pd"
   ]
  },
  {
   "cell_type": "code",
   "execution_count": 7,
   "metadata": {},
   "outputs": [],
   "source": [
    "hffpf = pd.concat([pd.read_excel(f\"hffpf_citations{i+1}.xls\") for i in range(3)])\n",
    "pyemma = pd.read_excel('pyemma_citations.xls')\n",
    "msmb = pd.read_excel('msmbuilder_citations.xls')"
   ]
  },
  {
   "cell_type": "code",
   "execution_count": 15,
   "metadata": {},
   "outputs": [
    {
     "data": {
      "text/plain": [
       "dtype('O')"
      ]
     },
     "execution_count": 15,
     "metadata": {},
     "output_type": "execute_result"
    }
   ],
   "source": [
    "pyemma['DOI'].dtype"
   ]
  },
  {
   "cell_type": "code",
   "execution_count": 19,
   "metadata": {},
   "outputs": [],
   "source": [
    "df1 = hffpf.loc[hffpf.DOI.isin(pyemma.DOI), :]\n",
    "df2 = hffpf.loc[hffpf.DOI.isin(msmb.DOI), :]\n",
    "df = pd.concat([df1, df2])"
   ]
  },
  {
   "cell_type": "code",
   "execution_count": 103,
   "metadata": {},
   "outputs": [],
   "source": [
    "df = df.loc[:, df.isna().mean(axis=0)!=1]\n",
    "df.drop_duplicates(subset='DOI', inplace=True)"
   ]
  },
  {
   "cell_type": "code",
   "execution_count": 104,
   "metadata": {},
   "outputs": [
    {
     "data": {
      "text/plain": [
       "56     @article{ Adaptive_M2020, author = \"Wan, HB; V...\n",
       "72     @article{ Markov_Mod2019, author = \"Noe, F; Ro...\n",
       "83     @article{ High-Resol2019, author = \"Sidky, H; ...\n",
       "94     @article{ Computing_2019, author = \"Agarwal, A...\n",
       "112    @article{ Nonlinear_2019, author = \"Chen, W; S...\n",
       "dtype: object"
      ]
     },
     "execution_count": 104,
     "metadata": {},
     "output_type": "execute_result"
    }
   ],
   "source": [
    "def to_bibtex(x):\n",
    "    if x['Publication Type'] == 'J':\n",
    "        entry_type = 'article'\n",
    "    else:\n",
    "        entry_type = 'misc'\n",
    "    authors=x['Authors']\n",
    "    year = x['Publication Year']\n",
    "    title = x['Article Title']\n",
    "    kw = str(title[:10])+str(int(year))\n",
    "    kw = kw.replace(' ', '_')\n",
    "    doi = 'https://doi.org/'+x['DOI']\n",
    "    text = f'@{entry_type}{{ {kw}, author = \"{authors}\", title = \"{title}\", doi = \"{doi}\" }}'\n",
    "    return text\n",
    "\n",
    "df.apply(to_bibtex, axis=1).head()"
   ]
  },
  {
   "cell_type": "code",
   "execution_count": 107,
   "metadata": {},
   "outputs": [],
   "source": [
    "with open('pyemma_msmb_hffpf.bib', 'w') as f:\n",
    "    f.write('\\n'.join(list(df.apply(to_bibtex, axis=1).values)))"
   ]
  },
  {
   "cell_type": "code",
   "execution_count": null,
   "metadata": {},
   "outputs": [],
   "source": []
  }
 ],
 "metadata": {
  "kernelspec": {
   "display_name": "Python 3",
   "language": "python",
   "name": "python3"
  },
  "language_info": {
   "codemirror_mode": {
    "name": "ipython",
    "version": 3
   },
   "file_extension": ".py",
   "mimetype": "text/x-python",
   "name": "python",
   "nbconvert_exporter": "python",
   "pygments_lexer": "ipython3",
   "version": "3.7.0"
  }
 },
 "nbformat": 4,
 "nbformat_minor": 4
}
