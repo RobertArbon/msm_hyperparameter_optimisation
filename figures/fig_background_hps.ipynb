{
 "cells": [
  {
   "cell_type": "code",
   "execution_count": 37,
   "metadata": {},
   "outputs": [],
   "source": [
    "import pandas as pd\n",
    "import matplotlib.pyplot as plt\n",
    "import seaborn as sns\n",
    "%matplotlib inline\n",
    "import numpy as np\n",
    "import matplotlib as mpl"
   ]
  },
  {
   "cell_type": "code",
   "execution_count": 38,
   "metadata": {},
   "outputs": [],
   "source": [
    "path = '../background/hyperparameters.csv'\n",
    "df = pd.read_csv(path)\n",
    "\n",
    "# order proteins by MW\n",
    "\n",
    "mws = {'Chignolin': 10, 'Trp-cage': 20, 'BBA': 28, 'Villin': 35, 'WW-domain': 35, 'NTL9': 39, 'BBL': 47, \n",
    "      'Protein B': 47, 'Homeodomain': 52, 'Protein G': 56, 'a3D': 73, 'Lambda-repressor': 80}\n",
    "df['n_res'] = df['Protein'].apply(lambda x: mws[x])\n",
    "df.sort_values(by=['n_res'], inplace=True)\n",
    "prot_order = df.copy(deep=True).Protein.unique()\n",
    "\n",
    "# Create these as ordinal features so that they stay in this order when plotted (hopefully)\n",
    "df['Protein'] = pd.Categorical(df['Protein'], ordered=True, categories=prot_order)\n",
    "\n"
   ]
  },
  {
   "cell_type": "code",
   "execution_count": 61,
   "metadata": {},
   "outputs": [
    {
     "data": {
      "text/html": [
       "<div>\n",
       "<style scoped>\n",
       "    .dataframe tbody tr th:only-of-type {\n",
       "        vertical-align: middle;\n",
       "    }\n",
       "\n",
       "    .dataframe tbody tr th {\n",
       "        vertical-align: top;\n",
       "    }\n",
       "\n",
       "    .dataframe thead th {\n",
       "        text-align: right;\n",
       "    }\n",
       "</style>\n",
       "<table border=\"1\" class=\"dataframe\">\n",
       "  <thead>\n",
       "    <tr style=\"text-align: right;\">\n",
       "      <th></th>\n",
       "      <th>Citation</th>\n",
       "      <th>Protein</th>\n",
       "      <th>Feature</th>\n",
       "    </tr>\n",
       "  </thead>\n",
       "  <tbody>\n",
       "    <tr>\n",
       "      <th>0</th>\n",
       "      <td>A_Minimum_2018</td>\n",
       "      <td>Chignolin</td>\n",
       "      <td>D: $C_{\\alpha}$</td>\n",
       "    </tr>\n",
       "    <tr>\n",
       "      <th>1</th>\n",
       "      <td>A_Minimum_2018</td>\n",
       "      <td>Chignolin</td>\n",
       "      <td>D: $C_{\\alpha}$</td>\n",
       "    </tr>\n",
       "    <tr>\n",
       "      <th>2</th>\n",
       "      <td>Modeling_t2017</td>\n",
       "      <td>Chignolin</td>\n",
       "      <td>D: $C_{\\alpha}$</td>\n",
       "    </tr>\n",
       "    <tr>\n",
       "      <th>3</th>\n",
       "      <td>Quantitati2018</td>\n",
       "      <td>Chignolin</td>\n",
       "      <td>R: $\\mathbf{Z}$</td>\n",
       "    </tr>\n",
       "    <tr>\n",
       "      <th>4</th>\n",
       "      <td>Optimized_2016</td>\n",
       "      <td>Chignolin</td>\n",
       "      <td>R: $\\mathrm{logit}{C_{\\alpha}}$</td>\n",
       "    </tr>\n",
       "    <tr>\n",
       "      <th>...</th>\n",
       "      <td>...</td>\n",
       "      <td>...</td>\n",
       "      <td>...</td>\n",
       "    </tr>\n",
       "    <tr>\n",
       "      <th>128</th>\n",
       "      <td>Quantitati2018</td>\n",
       "      <td>Protein B</td>\n",
       "      <td>D: all</td>\n",
       "    </tr>\n",
       "    <tr>\n",
       "      <th>130</th>\n",
       "      <td>Quantitati2018</td>\n",
       "      <td>Homeodomain</td>\n",
       "      <td>D: all</td>\n",
       "    </tr>\n",
       "    <tr>\n",
       "      <th>136</th>\n",
       "      <td>Quantitati2018</td>\n",
       "      <td>a3D</td>\n",
       "      <td>D: all</td>\n",
       "    </tr>\n",
       "    <tr>\n",
       "      <th>164</th>\n",
       "      <td>A_Data-Dri2018</td>\n",
       "      <td>WW-domain</td>\n",
       "      <td>D: $C_{\\alpha}$</td>\n",
       "    </tr>\n",
       "    <tr>\n",
       "      <th>172</th>\n",
       "      <td>A_Data-Dri2018</td>\n",
       "      <td>NTL9</td>\n",
       "      <td>D: $C_{\\alpha}$</td>\n",
       "    </tr>\n",
       "  </tbody>\n",
       "</table>\n",
       "<p>76 rows × 3 columns</p>\n",
       "</div>"
      ],
      "text/plain": [
       "           Citation      Protein                          Feature\n",
       "0    A_Minimum_2018    Chignolin                  D: $C_{\\alpha}$\n",
       "1    A_Minimum_2018    Chignolin                  D: $C_{\\alpha}$\n",
       "2    Modeling_t2017    Chignolin                  D: $C_{\\alpha}$\n",
       "3    Quantitati2018    Chignolin                  R: $\\mathbf{Z}$\n",
       "4    Optimized_2016    Chignolin  R: $\\mathrm{logit}{C_{\\alpha}}$\n",
       "..              ...          ...                              ...\n",
       "128  Quantitati2018    Protein B                           D: all\n",
       "130  Quantitati2018  Homeodomain                           D: all\n",
       "136  Quantitati2018          a3D                           D: all\n",
       "164  A_Data-Dri2018    WW-domain                  D: $C_{\\alpha}$\n",
       "172  A_Data-Dri2018         NTL9                  D: $C_{\\alpha}$\n",
       "\n",
       "[76 rows x 3 columns]"
      ]
     },
     "execution_count": 61,
     "metadata": {},
     "output_type": "execute_result"
    }
   ],
   "source": [
    "feats = df.loc[df.Hyperparameter=='feature', ['Citation', 'Protein', 'Value']]\n",
    "\n",
    "feats = (feats.join(\n",
    "    feats.Value.str\n",
    "    .split(pat=',')\n",
    "    .apply(pd.Series))\n",
    "    .drop(['Value'], axis=1)\n",
    "    .melt(id_vars=['Citation', 'Protein'], value_name='Feature')\n",
    "    .drop(['variable'], axis=1)\n",
    "    .dropna())\n",
    "feats.Feature = feats.Feature.str.strip()\n",
    "\n",
    "feat_labs = {'chi1-dihedral':     r'D: $\\chi_{1}$', \n",
    "            'backbone-dihedrals': r'D: $(\\phi, \\psi)$', \n",
    "            'alpha-dihedrals':    r'D: $C_{\\alpha}$', \n",
    "            'all-dihedrals':      r'D: all', \n",
    "            'fraction of native contacts' : r'Q: %-native', \n",
    "             'contact-map': r'Q: map', \n",
    "            'heavy-distances': r'R: $\\mathbf{Z}$', \n",
    "            'heavy-reciprocal-distances': r'R: $1/\\mathbf{Z}$', \n",
    "            'beta-distances' : r'R: $C_{\\beta}$', \n",
    "             'alpha-reciprocal-distances': r'R: $1/C_{\\alpha}$', \n",
    "             'alpha-logistic-distances': r'R: $\\mathrm{logit}{C_{\\alpha}}$',\n",
    "             'alpha-distances': r'R: $C_{\\alpha}$',\n",
    "             'beta-positions': r'X: $C_{\\beta}$', \n",
    "             'backbone-positions': r'X: backbone', \n",
    "             'alpha-angles': r'A: $C_{\\alpha}$', \n",
    "             'RMSD': r'M: RMSD', \n",
    "             'FRET efficiency': r'M: FRET $\\eta$'\n",
    "            }\n",
    "\n",
    "feats.Feature = feats.Feature.apply(lambda x: feat_labs[x])\n",
    "feats"
   ]
  },
  {
   "cell_type": "markdown",
   "metadata": {},
   "source": [
    "# Protein feature"
   ]
  },
  {
   "cell_type": "code",
   "execution_count": 62,
   "metadata": {},
   "outputs": [],
   "source": [
    "# order features by type and then alphabetical\n",
    "feats['is_dihedral'] = feats.Feature.str.startswith('D')\n",
    "feats['is_distance'] = feats.Feature.str.startswith('R')\n",
    "feats['is_contact'] = feats.Feature.str.startswith('Q')\n",
    "feats['is_angle'] = feats.Feature.str.startswith('A')\n",
    "feats['is_position'] = feats.Feature.str.startswith('X')\n",
    "feats['misc'] = (~feats['is_dihedral']) | (~feats['is_distance']) | (~feats['is_contact']) | (~feats['is_angle']) | (~feats['is_position']) \n",
    "feats.sort_values(by=['is_dihedral', 'is_contact', 'is_distance', 'is_position', 'is_angle', 'misc', 'Feature'], inplace=True, ascending=False)\n",
    "feat_order = feats.copy(deep=True).Feature.unique()\n",
    "\n",
    "\n",
    "feats['Feature'] = pd.Categorical(feats['Feature'], ordered=True, categories=feat_order)"
   ]
  },
  {
   "cell_type": "code",
   "execution_count": 63,
   "metadata": {},
   "outputs": [
    {
     "data": {
      "text/plain": [
       "array(['D: all', 'D: $\\\\chi_{1}$', 'D: $C_{\\\\alpha}$',\n",
       "       'D: $(\\\\phi, \\\\psi)$', 'Q: map', 'Q: %-native',\n",
       "       'R: $\\\\mathrm{logit}{C_{\\\\alpha}}$', 'R: $\\\\mathbf{Z}$',\n",
       "       'R: $C_{\\\\beta}$', 'R: $C_{\\\\alpha}$', 'R: $1/\\\\mathbf{Z}$',\n",
       "       'R: $1/C_{\\\\alpha}$', 'X: backbone', 'X: $C_{\\\\beta}$',\n",
       "       'A: $C_{\\\\alpha}$', 'M: RMSD', 'M: FRET $\\\\eta$'], dtype=object)"
      ]
     },
     "execution_count": 63,
     "metadata": {},
     "output_type": "execute_result"
    }
   ],
   "source": [
    "feat_order"
   ]
  },
  {
   "cell_type": "code",
   "execution_count": 64,
   "metadata": {},
   "outputs": [],
   "source": [
    "sns.set_style('white')"
   ]
  },
  {
   "cell_type": "code",
   "execution_count": 93,
   "metadata": {},
   "outputs": [
    {
     "data": {
      "image/png": "[encoded data removed]",
      "text/plain": [
       "<Figure size 432x432 with 4 Axes>"
      ]
     },
     "metadata": {},
     "output_type": "display_data"
    }
   ],
   "source": [
    "\n",
    "with sns.plotting_context('paper', font_scale=1.5):\n",
    "    y, x = feats['Protein'], feats['Feature']\n",
    "    g = sns.JointGrid(height=6, ratio=4)\n",
    "    \n",
    "    # plot the data\n",
    "    sns.histplot(x=x,ax=g.ax_marg_x, fill=True, lw=0)\n",
    "    sns.histplot(y=y,ax=g.ax_marg_y, fill=True, lw=0)\n",
    "    sns.histplot(x=x, y=y, ax=g.ax_joint, cmap='Blues')\n",
    "    # custom colorbar\n",
    "    cmap = mpl.cm.Blues\n",
    "    bounds = [0, 1, 2, 3, 4, 5]\n",
    "    norm = mpl.colors.BoundaryNorm(bounds, cmap.N, extend='neither')\n",
    "    cbar_ax = g.fig.add_axes([0.72,0.11,  0.02, 0.35])\n",
    "    cb2 = mpl.colorbar.ColorbarBase(cbar_ax, \n",
    "                                    cmap=cmap,\n",
    "                                    norm=norm,\n",
    "                                    orientation='vertical', \n",
    "                                   ticks=mpl.ticker.FixedLocator([0.5, 1.5, 2.5, 3.5, 4.5]), \n",
    "                                   format=mpl.ticker.FixedFormatter([0, 1, 2, 3, 4]))\n",
    "    \n",
    "\n",
    "    g.fig.axes[0].tick_params(axis='x', labelrotation=90)\n",
    "    plt.savefig('../figures/background_features.pdf', bbox_inches='tight')"
   ]
  },
  {
   "cell_type": "markdown",
   "metadata": {},
   "source": [
    "# Markov lag times"
   ]
  },
  {
   "cell_type": "code",
   "execution_count": 112,
   "metadata": {},
   "outputs": [],
   "source": [
    "mlags = df.loc[df.Hyperparameter.str.lower().str.contains('markov'), ['Citation', 'Protein', 'Hyperparameter', 'Value', 'units']]\n",
    "mlags.dropna(axis=0, subset=['Value'], inplace=True)\n",
    "mlags['Value'] = mlags['Value'].astype(float)\n",
    "mlags['Hyperparameter'] = \"Markov lag-time\""
   ]
  },
  {
   "cell_type": "markdown",
   "metadata": {},
   "source": [
    "# TICA parameters"
   ]
  },
  {
   "cell_type": "code",
   "execution_count": 113,
   "metadata": {},
   "outputs": [],
   "source": [
    "tica = df.loc[df.Hyperparameter.str.lower().str.contains('tica'), ['Citation', 'Protein', 'Hyperparameter', 'Value', 'units']]\n",
    "\n",
    "replace = {'kinetic-map': 1, 'commute-map': 2, 'none': 0, 'all': 200, '95pc_KV': np.nan}\n",
    "def f(x):\n",
    "    try: \n",
    "        return replace[x]\n",
    "    except KeyError:\n",
    "        return x\n",
    "\n",
    "tica['Value'] = tica['Value'].apply(f)\n",
    "tica.dropna(axis=0, subset=['Value'], inplace=True)\n",
    "tica['Value'] = tica['Value'].astype(float)\n",
    "tica = tica.loc[~tica.Hyperparameter.isin(['TICA stride', 'TICA scaling']), :]"
   ]
  },
  {
   "cell_type": "code",
   "execution_count": 114,
   "metadata": {},
   "outputs": [],
   "source": [
    "hps = pd.concat([mlags, tica])"
   ]
  },
  {
   "cell_type": "code",
   "execution_count": 125,
   "metadata": {},
   "outputs": [
    {
     "data": {
      "image/png": "[encoded data removed]",
      "text/plain": [
       "<Figure size 432x288 with 3 Axes>"
      ]
     },
     "metadata": {},
     "output_type": "display_data"
    }
   ],
   "source": [
    "with sns.plotting_context('paper', font_scale=1.5):\n",
    "    order = np.array(['TICA lag', 'TICA m', 'Markov lag-time'])\n",
    "    xlabels = ['TICA\\nlag-time', 'TICA\\ncomponents', 'Markov\\nlag-time']\n",
    "    \n",
    "    g = sns.catplot(data=hps, col='Hyperparameter', y='Protein', x='Value', sharey=True, \n",
    "                    s=5, palette='colorblind', col_order=order, jitter=0.2, height=4, aspect=2/4, alpha=1)\n",
    "    g.set_titles('')\n",
    "    for ax in g.axes.flatten():\n",
    "#         ax.tick_params(axis='x', rotation=90)\n",
    "        ax.set_xscale('log')\n",
    "        ax.grid(axis='both')\n",
    "        \n",
    "    for i, x in enumerate(order):\n",
    "        g.axes[0, np.where(order==x)[0][0]].set_xlabel(xlabels[i])\n",
    "\n",
    "    plt.savefig('../figures/background_hps.pdf', bbox_inches='tight')\n",
    "    "
   ]
  },
  {
   "cell_type": "markdown",
   "metadata": {},
   "source": [
    "# Other stats"
   ]
  },
  {
   "cell_type": "code",
   "execution_count": null,
   "metadata": {},
   "outputs": [],
   "source": [
    "# number of citations\n",
    "df.Citation.unique().shape"
   ]
  },
  {
   "cell_type": "code",
   "execution_count": null,
   "metadata": {},
   "outputs": [],
   "source": [
    "df.head()"
   ]
  },
  {
   "cell_type": "code",
   "execution_count": null,
   "metadata": {},
   "outputs": [],
   "source": [
    "# number of citations using optimisation"
   ]
  },
  {
   "cell_type": "code",
   "execution_count": null,
   "metadata": {},
   "outputs": [],
   "source": [
    "df.loc[df['Uses optimisation']==True, 'Citation'].unique().shape"
   ]
  },
  {
   "cell_type": "code",
   "execution_count": null,
   "metadata": {},
   "outputs": [],
   "source": []
  }
 ],
 "metadata": {
  "kernelspec": {
   "display_name": "Python 3",
   "language": "python",
   "name": "python3"
  },
  "language_info": {
   "codemirror_mode": {
    "name": "ipython",
    "version": 3
   },
   "file_extension": ".py",
   "mimetype": "text/x-python",
   "name": "python",
   "nbconvert_exporter": "python",
   "pygments_lexer": "ipython3",
   "version": "3.9.0"
  }
 },
 "nbformat": 4,
 "nbformat_minor": 4
}
