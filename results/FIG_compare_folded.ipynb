{
 "cells": [
  {
   "cell_type": "code",
   "execution_count": 8,
   "id": "0fde075b-a84c-42ca-bd20-1f025ec5cda5",
   "metadata": {
    "tags": []
   },
   "outputs": [],
   "source": [
    "import pyemma as pm\n",
    "import mdtraj as md\n",
    "from molpx.generate import projection_paths\n",
    "import matplotlib.pyplot as plt\n",
    "import numpy as np\n",
    "from pathlib import Path\n",
    "import pandas as pd\n",
    "from typing import Dict, Union, List\n",
    "from msmsense.featurizers import dihedrals, distances\n",
    "from msmsense.bootstrap_cmatrices import get_sub_dict, get_trajs\n",
    "from functools import partial\n",
    "import functions as funcs\n",
    "\n",
    "%matplotlib inline\n",
    "\n",
    "import pickle\n",
    "import time\n",
    "import seaborn as sns"
   ]
  },
  {
   "cell_type": "markdown",
   "id": "a950cada-e676-4cd8-a146-14e8102103cd",
   "metadata": {},
   "source": [
    "# Globals and functions"
   ]
  },
  {
   "cell_type": "code",
   "execution_count": 9,
   "id": "2dc8158b-04e5-4684-a651-93e1661084a2",
   "metadata": {},
   "outputs": [],
   "source": [
    "def get_feature_dict(df, row_num):\n",
    "    row_dict = df.filter(regex='__', axis=1).iloc[row_num, :].to_dict()\n",
    "    feature_dict = get_sub_dict(row_dict, 'feature')\n",
    "    if feature_dict['value'] == 'distances':\n",
    "        feature_dict.update(get_sub_dict(row_dict, 'distances'))\n",
    "    if feature_dict['value'] == 'dihedrals':\n",
    "        feature_dict.update(get_sub_dict(row_dict, 'dihedrals'))\n",
    "    return feature_dict\n",
    "\n",
    "def get_kws_dict(df, row_num, kws):\n",
    "    row_dict = df.filter(regex='__', axis=1).iloc[row_num, :].to_dict()   \n",
    "    kws_dict = get_sub_dict(row_dict, kws)\n",
    "    return kws_dict\n",
    "\n",
    "def set_proper_dtypes(df):\n",
    "    \"\"\"\n",
    "    forgot to save integers as integers. Only the distances feature columns have true floats. \n",
    "    \"\"\"\n",
    "    float_cols = list(df.filter(regex='distances.*', axis=1)) + list(df.filter(regex='.*vamp.*', axis=1)) \n",
    "    float_cols = float_cols + list(df.filter(regex='.*gap.*', axis=1)) \n",
    "    potential_integer_cols = df.columns.difference(float_cols)\n",
    "    for col in potential_integer_cols:\n",
    "        if str(df[col].dtype) != 'object':\n",
    "            df[col] = df[col].astype(int)\n",
    "    return df\n",
    "\n",
    "def get_trajs_top(traj_dir: Path, protein_dir: str, rng: Union[np.random.Generator, None]=None):\n",
    "    trajs = list(traj_dir.rglob(f\"*{protein_dir.upper()}*/*.xtc\"))\n",
    "    trajs.sort()\n",
    "    if rng is not None:\n",
    "        ix = rng.choice(np.arange(len(trajs)), size=len(trajs), replace=True)\n",
    "        trajs = [trajs[i] for i in ix]\n",
    "    \n",
    "    top = list(traj_dir.rglob(f\"*{protein_dir.upper()}*/*.pdb\"))[0]\n",
    "    \n",
    "    return {'trajs': trajs, 'top': top}\n",
    "    \n",
    "    \n",
    "def get_random_traj(trajs: List[md.Trajectory], num_frames: int, rng: np.random.Generator)-> md.Trajectory: \n",
    "    traj_ix = np.arange(len(trajs))\n",
    "    frame_ix = [np.arange(traj.n_frames) for traj in trajs]\n",
    "    \n",
    "    rand_ix = [(ix, rng.choice(frame_ix[ix])) for ix in rng.choice(traj_ix, size=num_frames)]\n",
    "    rand_traj = md.join([trajs[x[0]][x[1]] for x in rand_ix])\n",
    "    return rand_traj\n",
    "    "
   ]
  },
  {
   "cell_type": "code",
   "execution_count": 10,
   "id": "02cebf72-cd33-4b86-9a1a-cee376c8c846",
   "metadata": {},
   "outputs": [],
   "source": [
    "class MSM(object):\n",
    "    \n",
    "    def __init__(self, lag: int, num_evs: int, trajs: List[md.Trajectory], top: md.Trajectory,\n",
    "                 feature_kws: Dict[str, Union[str, int, float]], tica_kws: Dict[str, Union[str, int, float]], cluster_kws: Dict[str, Union[str, int, float]], seed: int):\n",
    "        \"\"\"\n",
    "        Defines the whole MSM pipeline.\n",
    "        lag: markov lag time \n",
    "        num_evs: number of eigenvectors in VAMP score. This includes stationary distribution. note: all projections are done onto the processes 1 - num_evs, i.e., exclude the stationary distribution (process 0)\n",
    "        traj_top_paths: dictionary with 'trajs' - list of Paths to trajectories, and 'top' Path to topology file. \n",
    "        \n",
    "        \"\"\"\n",
    "        self.lag = lag\n",
    "        self.num_evs = num_evs\n",
    "        self.trajs = trajs\n",
    "\n",
    "        self.top = top\n",
    "        self.feature_kws = feature_kws\n",
    "        self.tica_kws = tica_kws\n",
    "        self.cluster_kws = cluster_kws\n",
    "        self.featurizer = None\n",
    "        self._set_featurizer()\n",
    "        self.seed = seed\n",
    "\n",
    "        self.ttrajs = None\n",
    "        self.tica = None\n",
    "        self.cluster = None\n",
    "        self.msm = None\n",
    "        self.paths = None\n",
    "        \n",
    "    def _set_featurizer(self):\n",
    "        feature_kws = self.feature_kws.copy()\n",
    "        feature = feature_kws.pop('value')\n",
    "        \n",
    "        if feature == 'distances':\n",
    "            self.featurizer = partial(distances, **feature_kws)\n",
    "        elif feature == 'dihedrals':\n",
    "            self.featurizer = partial(dihedrals, **feature_kws)\n",
    "        else:\n",
    "            raise NotImplementedError('Unrecognized feature')\n",
    "        \n",
    "\n",
    "    def fit(self):\n",
    "        ftrajs = self.featurizer(self.trajs)\n",
    "        self.tica = pm.coordinates.tica(data=ftrajs, **self.tica_kws)\n",
    "        ttrajs = self.tica.get_output()\n",
    "        self.ttrajs = ttrajs\n",
    "        self.cluster = pm.coordinates.cluster_kmeans(data=ttrajs, **self.cluster_kws, fixed_seed=self.seed)\n",
    "        dtrajs = self.cluster.dtrajs\n",
    "        self.msm = pm.msm.estimate_markov_model(dtrajs=dtrajs, lag=self.lag)\n",
    "\n",
    "    \n",
    "    def _get_all_projections(self, num_procs: int, dtrajs: List[np.ndarray]) -> np.ndarray:\n",
    "        \"\"\" Project dtrajs onto first num_proc eigenvectors excluding stationary distribution. i.e., if num_proc=1 then project onto the slowest eigenvector only. \n",
    "        All projections ignore the stationary distribution\n",
    "        \"\"\"\n",
    "        evs = self.msm.eigenvectors_right(num_procs+1)\n",
    "        active_set = self.msm.active_set\n",
    "        NON_ACTIVE_PROJ_VAL = 0 # if the state is not in the active set, set the projection to this value. \n",
    "        NON_ACTIVE_IX_VAL = -1\n",
    "        evs = evs[:, 1:] # remove the stationary distribution\n",
    "        proj_trajs = []\n",
    "        for dtraj in dtrajs:\n",
    "            all_procs = []\n",
    "            for proc_num in range(num_procs):\n",
    "                \n",
    "                tmp = np.ones(dtraj.shape[0], dtype=float)\n",
    "                tmp[:] = NON_ACTIVE_PROJ_VAL\n",
    "                \n",
    "                for i in range(dtraj.shape[0]):\n",
    "                    x = self.msm._full2active[dtraj[i]]\n",
    "                    if x != NON_ACTIVE_IX_VAL:\n",
    "                        tmp[i] = evs[x, proc_num]\n",
    "                    tmp = tmp.reshape(-1, 1)\n",
    "                \n",
    "                all_procs.append(tmp)\n",
    "            all_procs = np.concatenate(all_procs, axis=1)\n",
    "            proj_trajs.append(all_procs)\n",
    "        \n",
    "        return proj_trajs\n",
    "        \n",
    "        \n",
    "    def projection_paths(self, n_projs: Union[None, int]=None, proj_dim: Union[None, int]=None, n_points: int=100, n_geom_samples: int=100):\n",
    "        \"\"\"\n",
    "        n_projs: number of paths to create. Default = None = num_evs - 1 (i.e., exclude stationary distribution)\n",
    "        proj_dim: dimensionality of the space in which distances will be computed. Default = None = num_evs - 1 (i.e., exclude stationary distribution)\n",
    "        n_points: number of points along the path (there may be less than this.)\n",
    "        n_geom_samples: For each of the n_points along the projection path, n_geom_samples will be retrieved from the trajectory files. \n",
    "                        The higher this number, the smoother the minRMSD projection path. Also, the longer it takes for the path to be computed\n",
    "        \"\"\"\n",
    "        \n",
    "        if proj_dim is None:\n",
    "            proj_dim = self.num_evs - 1\n",
    "        if n_projs is None:\n",
    "            n_projs = self.num_evs - 1\n",
    "        \n",
    "        projections = self._get_all_projections(num_procs=proj_dim, dtrajs=self.msm.discrete_trajectories_active)\n",
    "        \n",
    "        paths, _ = projection_paths(MD_trajectories=self.trajs, MD_top = self.top, projected_trajectories=projections, \n",
    "                                    n_projs=n_projs, proj_dim=proj_dim, n_geom_samples=n_geom_samples, n_points=n_points)\n",
    "        self.paths = paths\n",
    "        \n",
    "        \n",
    "    \n",
    "    def get_projection_trajectory(self, proc_num: int, kind: str='min_rmsd') -> md.Trajectory:\n",
    "        \"\"\"\n",
    "        Returns the projection trajectory for a specific dimension\n",
    "        proc_num: the number process. Min value = 1\n",
    "        \"\"\"\n",
    "        if proc_num == 0:\n",
    "            raise ValueError(\"process_num must be >=1. Processes are indexed from 0 (stationary distribution). Process 1 is the slowest projected process.\")\n",
    "            \n",
    "        return self.paths[proc_num-1][kind]['geom']\n",
    "    \n",
    "    \n",
    "    def transform(self, new_trajectory: md.Trajectory) -> np.ndarray:\n",
    "        \"\"\"\n",
    "        projects new trajectory onto the self.num_proc eigenvectors of the MSM\n",
    "        \"\"\"\n",
    "        ftrajs = self.featurizer([new_trajectory])\n",
    "        ttrajs = self.tica.transform(ftrajs)\n",
    "        dtrajs = self.cluster.transform(ttrajs)\n",
    "        projections = self._get_all_projections(num_procs=self.num_evs - 1, dtrajs=dtrajs)\n",
    "        return projections\n",
    "        \n",
    "        "
   ]
  },
  {
   "cell_type": "code",
   "execution_count": 11,
   "id": "7d6ad172-d633-49d4-a846-487ed130b4b1",
   "metadata": {},
   "outputs": [],
   "source": [
    "traj_dir = Path('/Volumes/REA/MD/12FF/strided/')\n",
    "m1_sel = set_proper_dtypes(pd.read_hdf('./summaries/m1_model_selection.h5'))\n",
    "m2_sel = set_proper_dtypes(pd.read_hdf('./summaries/m2_model_selection.h5'))"
   ]
  },
  {
   "cell_type": "code",
   "execution_count": 12,
   "id": "69e24588-00db-43d7-8904-df2dd7d86440",
   "metadata": {},
   "outputs": [],
   "source": [
    "prot_dict = dict(zip(funcs.PROTEIN_LABELS, funcs.PROTEIN_DIRS))"
   ]
  },
  {
   "cell_type": "code",
   "execution_count": 13,
   "id": "793b909b-21d1-4d8e-bad7-f6e9fbccef6b",
   "metadata": {},
   "outputs": [],
   "source": [
    "prot_pdbs = {'Chignolin': '5awl.pdb', 'BBA': '1fme.pdb', 'Trp-cage': '2jof.pdb',  'Villin': '2f4k.pdb', 'WW-domain': '2f21.pdb' , 'BBL': '2wxc.pdb' , 'Homeodomain': '2p6j.pdb', 'Protein-B': '1prb.pdb'}"
   ]
  },
  {
   "cell_type": "markdown",
   "id": "a3701689-04e3-4969-8e20-4b32c8584b86",
   "metadata": {},
   "source": [
    "# Detailed comparisons\n",
    "\n",
    "This workbook fits the best hyperparameters for each feature and provides a more detailed comparison. This complements the model comparison in terms of eigenvector projections. \n"
   ]
  },
  {
   "cell_type": "code",
   "execution_count": 16,
   "id": "1db95b85-5dcc-4fd9-8027-dc5b4f991b8d",
   "metadata": {},
   "outputs": [
    {
     "data": {
      "application/vnd.jupyter.widget-view+json": {
       "model_id": "",
       "version_major": 2,
       "version_minor": 0
      },
      "text/plain": [
       "calculate covariances:   0%|                                                                                  …"
      ]
     },
     "metadata": {},
     "output_type": "display_data"
    },
    {
     "data": {
      "application/vnd.jupyter.widget-view+json": {
       "model_id": "",
       "version_major": 2,
       "version_minor": 0
      },
      "text/plain": [
       "getting output of TICA:   0%|                                                                                 …"
      ]
     },
     "metadata": {},
     "output_type": "display_data"
    },
    {
     "data": {
      "application/vnd.jupyter.widget-view+json": {
       "model_id": "",
       "version_major": 2,
       "version_minor": 0
      },
      "text/plain": [
       "initialize kmeans++ centers:   0%|                                                                            …"
      ]
     },
     "metadata": {},
     "output_type": "display_data"
    },
    {
     "data": {
      "application/vnd.jupyter.widget-view+json": {
       "model_id": "",
       "version_major": 2,
       "version_minor": 0
      },
      "text/plain": [
       "kmeans iterations:   0%|                                                                                      …"
      ]
     },
     "metadata": {},
     "output_type": "display_data"
    },
    {
     "data": {
      "application/vnd.jupyter.widget-view+json": {
       "model_id": "",
       "version_major": 2,
       "version_minor": 0
      },
      "text/plain": [
       "getting output of KmeansClustering:   0%|                                                                     …"
      ]
     },
     "metadata": {},
     "output_type": "display_data"
    },
    {
     "data": {
      "application/vnd.jupyter.widget-view+json": {
       "model_id": "",
       "version_major": 2,
       "version_minor": 0
      },
      "text/plain": [
       "calculate covariances:   0%|                                                                                  …"
      ]
     },
     "metadata": {},
     "output_type": "display_data"
    },
    {
     "data": {
      "application/vnd.jupyter.widget-view+json": {
       "model_id": "",
       "version_major": 2,
       "version_minor": 0
      },
      "text/plain": [
       "getting output of TICA:   0%|                                                                                 …"
      ]
     },
     "metadata": {},
     "output_type": "display_data"
    },
    {
     "data": {
      "application/vnd.jupyter.widget-view+json": {
       "model_id": "",
       "version_major": 2,
       "version_minor": 0
      },
      "text/plain": [
       "initialize kmeans++ centers:   0%|                                                                            …"
      ]
     },
     "metadata": {},
     "output_type": "display_data"
    },
    {
     "data": {
      "application/vnd.jupyter.widget-view+json": {
       "model_id": "",
       "version_major": 2,
       "version_minor": 0
      },
      "text/plain": [
       "kmeans iterations:   0%|                                                                                      …"
      ]
     },
     "metadata": {},
     "output_type": "display_data"
    },
    {
     "data": {
      "application/vnd.jupyter.widget-view+json": {
       "model_id": "",
       "version_major": 2,
       "version_minor": 0
      },
      "text/plain": [
       "getting output of KmeansClustering:   0%|                                                                     …"
      ]
     },
     "metadata": {},
     "output_type": "display_data"
    },
    {
     "data": {
      "application/vnd.jupyter.widget-view+json": {
       "model_id": "",
       "version_major": 2,
       "version_minor": 0
      },
      "text/plain": [
       "calculate covariances:   0%|                                                                                  …"
      ]
     },
     "metadata": {},
     "output_type": "display_data"
    },
    {
     "data": {
      "application/vnd.jupyter.widget-view+json": {
       "model_id": "",
       "version_major": 2,
       "version_minor": 0
      },
      "text/plain": [
       "getting output of TICA:   0%|                                                                                 …"
      ]
     },
     "metadata": {},
     "output_type": "display_data"
    },
    {
     "data": {
      "application/vnd.jupyter.widget-view+json": {
       "model_id": "",
       "version_major": 2,
       "version_minor": 0
      },
      "text/plain": [
       "initialize kmeans++ centers:   0%|                                                                            …"
      ]
     },
     "metadata": {},
     "output_type": "display_data"
    },
    {
     "data": {
      "application/vnd.jupyter.widget-view+json": {
       "model_id": "",
       "version_major": 2,
       "version_minor": 0
      },
      "text/plain": [
       "kmeans iterations:   0%|                                                                                      …"
      ]
     },
     "metadata": {},
     "output_type": "display_data"
    },
    {
     "data": {
      "application/vnd.jupyter.widget-view+json": {
       "model_id": "",
       "version_major": 2,
       "version_minor": 0
      },
      "text/plain": [
       "getting output of KmeansClustering:   0%|                                                                     …"
      ]
     },
     "metadata": {},
     "output_type": "display_data"
    },
    {
     "data": {
      "application/vnd.jupyter.widget-view+json": {
       "model_id": "",
       "version_major": 2,
       "version_minor": 0
      },
      "text/plain": [
       "calculate covariances:   0%|                                                                                  …"
      ]
     },
     "metadata": {},
     "output_type": "display_data"
    },
    {
     "data": {
      "application/vnd.jupyter.widget-view+json": {
       "model_id": "",
       "version_major": 2,
       "version_minor": 0
      },
      "text/plain": [
       "getting output of TICA:   0%|                                                                                 …"
      ]
     },
     "metadata": {},
     "output_type": "display_data"
    },
    {
     "data": {
      "application/vnd.jupyter.widget-view+json": {
       "model_id": "",
       "version_major": 2,
       "version_minor": 0
      },
      "text/plain": [
       "initialize kmeans++ centers:   0%|                                                                            …"
      ]
     },
     "metadata": {},
     "output_type": "display_data"
    },
    {
     "data": {
      "application/vnd.jupyter.widget-view+json": {
       "model_id": "",
       "version_major": 2,
       "version_minor": 0
      },
      "text/plain": [
       "kmeans iterations:   0%|                                                                                      …"
      ]
     },
     "metadata": {},
     "output_type": "display_data"
    },
    {
     "data": {
      "application/vnd.jupyter.widget-view+json": {
       "model_id": "",
       "version_major": 2,
       "version_minor": 0
      },
      "text/plain": [
       "getting output of KmeansClustering:   0%|                                                                     …"
      ]
     },
     "metadata": {},
     "output_type": "display_data"
    },
    {
     "data": {
      "application/vnd.jupyter.widget-view+json": {
       "model_id": "",
       "version_major": 2,
       "version_minor": 0
      },
      "text/plain": [
       "calculate covariances:   0%|                                                                                  …"
      ]
     },
     "metadata": {},
     "output_type": "display_data"
    },
    {
     "data": {
      "application/vnd.jupyter.widget-view+json": {
       "model_id": "",
       "version_major": 2,
       "version_minor": 0
      },
      "text/plain": [
       "getting output of TICA:   0%|                                                                                 …"
      ]
     },
     "metadata": {},
     "output_type": "display_data"
    },
    {
     "data": {
      "application/vnd.jupyter.widget-view+json": {
       "model_id": "",
       "version_major": 2,
       "version_minor": 0
      },
      "text/plain": [
       "initialize kmeans++ centers:   0%|                                                                            …"
      ]
     },
     "metadata": {},
     "output_type": "display_data"
    },
    {
     "data": {
      "application/vnd.jupyter.widget-view+json": {
       "model_id": "",
       "version_major": 2,
       "version_minor": 0
      },
      "text/plain": [
       "kmeans iterations:   0%|                                                                                      …"
      ]
     },
     "metadata": {},
     "output_type": "display_data"
    },
    {
     "data": {
      "application/vnd.jupyter.widget-view+json": {
       "model_id": "",
       "version_major": 2,
       "version_minor": 0
      },
      "text/plain": [
       "getting output of KmeansClustering:   0%|                                                                     …"
      ]
     },
     "metadata": {},
     "output_type": "display_data"
    },
    {
     "data": {
      "application/vnd.jupyter.widget-view+json": {
       "model_id": "",
       "version_major": 2,
       "version_minor": 0
      },
      "text/plain": [
       "calculate covariances:   0%|                                                                                  …"
      ]
     },
     "metadata": {},
     "output_type": "display_data"
    },
    {
     "data": {
      "application/vnd.jupyter.widget-view+json": {
       "model_id": "",
       "version_major": 2,
       "version_minor": 0
      },
      "text/plain": [
       "getting output of TICA:   0%|                                                                                 …"
      ]
     },
     "metadata": {},
     "output_type": "display_data"
    },
    {
     "data": {
      "application/vnd.jupyter.widget-view+json": {
       "model_id": "",
       "version_major": 2,
       "version_minor": 0
      },
      "text/plain": [
       "initialize kmeans++ centers:   0%|                                                                            …"
      ]
     },
     "metadata": {},
     "output_type": "display_data"
    },
    {
     "data": {
      "application/vnd.jupyter.widget-view+json": {
       "model_id": "",
       "version_major": 2,
       "version_minor": 0
      },
      "text/plain": [
       "kmeans iterations:   0%|                                                                                      …"
      ]
     },
     "metadata": {},
     "output_type": "display_data"
    },
    {
     "data": {
      "application/vnd.jupyter.widget-view+json": {
       "model_id": "",
       "version_major": 2,
       "version_minor": 0
      },
      "text/plain": [
       "getting output of KmeansClustering:   0%|                                                                     …"
      ]
     },
     "metadata": {},
     "output_type": "display_data"
    }
   ],
   "source": [
    "seed = 12098345\n",
    "num_structures = 100 # how many samples\n",
    "\n",
    "for protein in ['Villin']: #funcs.PROTEIN_LABELS[:4]+funcs.PROTEIN_LABELS[6:9]:\n",
    "\n",
    "    # Setup output dir\n",
    "    protein_dir = prot_dict[protein]\n",
    "#     Path(f\"compare_structures/{protein}\").mkdir(exist_ok=True)\n",
    "\n",
    "    # Get trajectories\n",
    "    traj_paths = get_trajs_top(traj_dir, protein_dir)\n",
    "    traj_paths_str = dict(top=str(traj_paths['top']), trajs=[str(x) for x in traj_paths['trajs']])\n",
    "    top = md.load(str(traj_paths['top']))\n",
    "    trajs = [md.load(str(x), top=top) for x in traj_paths['trajs']]\n",
    "\n",
    "    # Fit models on a single bootstrap sample\n",
    "\n",
    "    def fit_model(mod_defs, row_num, trajs, top, seed):\n",
    "\n",
    "        lag = int(mod_defs.chosen_lag.values[row_num])\n",
    "        num_evs = int(mod_defs.new_num_its.values[row_num])\n",
    "        feat_kws = get_feature_dict(mod_defs, row_num)\n",
    "        tica_kws = get_kws_dict(mod_defs, row_num, 'tica')\n",
    "        cluster_kws = get_kws_dict(mod_defs, row_num, 'cluster')\n",
    "\n",
    "        # Fit model\n",
    "        model = MSM(lag = lag, num_evs=num_evs, trajs=trajs, top=top,  feature_kws=feat_kws, tica_kws=tica_kws, cluster_kws=cluster_kws, seed=seed)\n",
    "        model.fit()\n",
    "        return model\n",
    "\n",
    "\n",
    "    features = m1_sel.feature.unique()\n",
    "    m1_models = {}\n",
    "    m2_models = {}\n",
    "\n",
    "    for feat in features:\n",
    "        mod_defs = m1_sel.loc[m1_sel.protein==protein, :].copy()\n",
    "#         mod_defs['tica__stride'] = 2\n",
    "        row_num = np.where(mod_defs['feature'].values==feat)[0][0]\n",
    "        m1_models[feat] = fit_model(mod_defs, row_num, trajs, top, seed)\n",
    "\n",
    "        mod_defs = m2_sel.loc[m2_sel.protein==protein, :].copy()\n",
    "#         mod_defs['tica__stride'] = 2\n",
    "\n",
    "        row_num = np.where(mod_defs['feature'].values==feat)[0][0]\n",
    "        m2_models[feat] = fit_model(mod_defs, row_num, trajs, top, seed)\n",
    "\n",
    "    # Coarsegrain and extract structures\n",
    "\n",
    "#     top.save_pdb(f'compare_structures/{protein}/top.pdb') # For easy reference\n",
    "\n",
    "    all_dfs = []\n",
    "    all_models = {'VAMP' : m1_models, 'VAMP_and_Gap': m2_models}\n",
    "    \n",
    "    for sele_method, models in all_models.items():\n",
    "\n",
    "        for feat, model in models.items():\n",
    "            # Do PCCA\n",
    "            num_procs = model.num_evs\n",
    "            pcca = model.msm.pcca(m=num_procs)\n",
    "            sd = pcca.coarse_grained_stationary_probability\n",
    "\n",
    "            # Sort states and get distributions\n",
    "            state_ix = np.argsort(sd)[::-1]\n",
    "            sd = sd[state_ix]\n",
    "            ms_dist = model.msm.metastable_distributions\n",
    "            ms_dist = ms_dist[state_ix, :]\n",
    "            \n",
    "#             # Get samples\n",
    "#             samples = [pm.coordinates.save_traj(traj_paths_str['trajs'], idist, outfile=None, top=traj_paths_str['top'])\n",
    "#                       for idist in model.msm.sample_by_distributions(ms_dist, num_structures)]\n",
    "\n",
    "#             # Load xtal structure (and save in convenient place)\n",
    "#             reference = md.load(f\"compare_structures/{prot_pdbs[protein]}\")\n",
    "# #             reference.save_pdb(f\"compare_structures/{protein}/xtal.pdb\")\n",
    "\n",
    "#             ref_ix = reference.top.select('name CA')\n",
    "#             for i, traj in enumerate(samples):\n",
    "\n",
    "#                 # superpose and save structures\n",
    "#                 ix = traj.top.select('name CA')\n",
    "#                 traj.superpose(reference=reference, atom_indices=ix, ref_atom_indices=ref_ix)\n",
    "# #                 traj.save_xtc(f\"compare_structures/{protein}/{sele_method}_model_{feat}_state_{i}.xtc\")\n",
    "#                 traj.save_xtc(f\"compare_structures/{protein}/tica_2ns_stride/{sele_method}_model_{feat}_state_{i}.xtc\")\n",
    "\n",
    "#                 rmsd = md.rmsd(traj, reference, frame=0,  atom_indices=ix, ref_atom_indices=ref_ix)*10\n",
    "\n",
    "#                 df = pd.DataFrame(rmsd, columns=['RMSD'])\n",
    "#                 df['Method'] = sele_method\n",
    "#                 df['Feature'] = feat\n",
    "#                 df['State'] = str(i+1)\n",
    "#                 df['stat_dist'] = sd[i]\n",
    "#                 all_dfs.append(df)\n",
    "\n",
    "#     df = pd.concat(all_dfs)\n",
    "# #     df.to_hdf(f'compare_structures/{protein}/rmsd_all_models.hdf', key='rmsd')\n",
    "#     df.to_hdf(f'compare_structures/{protein}/tica_2ns_stride/rmsd_all_models.hdf', key='rmsd')\n",
    "\n",
    "\n",
    "#     with sns.plotting_context('paper', font_scale=1.25):\n",
    "#         sns.displot(data=df, row='State', col='Feature', x='RMSD', hue='Method', kind='kde')\n",
    "#         plt.savefig(f\"compare_structures/{protein}/tica_2ns_stride/comparison.pdf\", bbox_inches='tight')\n",
    "# #         plt.savefig(funcs.FIG_DIR.joinpath('model_comparisons', f'{protein}_folded_comparison.pdf'), bbox_inches='tight')\n",
    "#         plt.close()"
   ]
  },
  {
   "cell_type": "code",
   "execution_count": 36,
   "id": "df84604a-0999-4d3e-b6a6-0544d9bceceb",
   "metadata": {},
   "outputs": [],
   "source": [
    "from scipy.stats import entropy\n",
    "\n",
    "\n",
    "dists = m1_models['dist.'].msm.metastable_memberships"
   ]
  },
  {
   "cell_type": "code",
   "execution_count": 49,
   "id": "c85b9b4b-45e2-4cf5-9ca2-70e3adcf4773",
   "metadata": {},
   "outputs": [
    {
     "data": {
      "text/plain": [
       "0.9999999999999994"
      ]
     },
     "execution_count": 49,
     "metadata": {},
     "output_type": "execute_result"
    }
   ],
   "source": [
    "fake_dists = np.ones((100, 3))/3\n",
    "np.mean(entropy(fake_dists.T))/((-np.log(1/3)))"
   ]
  },
  {
   "cell_type": "code",
   "execution_count": 46,
   "id": "cfd4af90-f2b3-4d97-90ef-1b2b86a824e6",
   "metadata": {},
   "outputs": [
    {
     "data": {
      "text/plain": [
       "0.35219167242226174"
      ]
     },
     "execution_count": 46,
     "metadata": {},
     "output_type": "execute_result"
    }
   ],
   "source": [
    "np.mean(entropy(dists.T))/(-np.log(1/3))"
   ]
  },
  {
   "cell_type": "code",
   "execution_count": 45,
   "id": "e5790aef-2d95-4a09-bc9a-12e263b0598a",
   "metadata": {},
   "outputs": [
    {
     "data": {
      "text/plain": [
       "1.0986122886681098"
      ]
     },
     "execution_count": 45,
     "metadata": {},
     "output_type": "execute_result"
    }
   ],
   "source": [
    "-np.log(1/3)"
   ]
  },
  {
   "cell_type": "code",
   "execution_count": 50,
   "id": "5059bdeb-5808-4921-bcb3-4848c87c19e3",
   "metadata": {},
   "outputs": [],
   "source": [
    "hmm = m1_models['dist.'].msm.coarse_grain(3)"
   ]
  },
  {
   "cell_type": "code",
   "execution_count": 54,
   "id": "589d787e-4c86-42b0-ad27-e5cbe63cc003",
   "metadata": {},
   "outputs": [
    {
     "data": {
      "text/plain": [
       "0.05919806679241879"
      ]
     },
     "execution_count": 54,
     "metadata": {},
     "output_type": "execute_result"
    }
   ],
   "source": [
    "np.mean(entropy(hmm.metastable_memberships.T))"
   ]
  },
  {
   "cell_type": "code",
   "execution_count": 58,
   "id": "a03cab36-7c6e-4a5d-a9c9-daac4f450af3",
   "metadata": {},
   "outputs": [
    {
     "data": {
      "text/plain": [
       "[<matplotlib.lines.Line2D at 0x7ff073a693a0>,\n",
       " <matplotlib.lines.Line2D at 0x7ff073a69490>,\n",
       " <matplotlib.lines.Line2D at 0x7ff073a695b0>]"
      ]
     },
     "execution_count": 58,
     "metadata": {},
     "output_type": "execute_result"
    },
    {
     "data": {
      "image/png": "[encoded data removed]",
      "text/plain": [
       "<Figure size 432x288 with 1 Axes>"
      ]
     },
     "metadata": {
      "needs_background": "light"
     },
     "output_type": "display_data"
    }
   ],
   "source": [
    "plt.plot(hmm.metastable_memberships, lw=0, marker='o')"
   ]
  },
  {
   "cell_type": "code",
   "execution_count": 60,
   "id": "94b73bfe-7d6a-4e7c-81da-00e234e76cce",
   "metadata": {},
   "outputs": [
    {
     "data": {
      "text/plain": [
       "[<matplotlib.lines.Line2D at 0x7ff0267ac430>,\n",
       " <matplotlib.lines.Line2D at 0x7ff0267a2310>,\n",
       " <matplotlib.lines.Line2D at 0x7ff0267ac4f0>]"
      ]
     },
     "execution_count": 60,
     "metadata": {},
     "output_type": "execute_result"
    },
    {
     "data": {
      "image/png": "[encoded data removed]",
      "text/plain": [
       "<Figure size 432x288 with 1 Axes>"
      ]
     },
     "metadata": {
      "needs_background": "light"
     },
     "output_type": "display_data"
    }
   ],
   "source": [
    "plt.plot(m1_models['dist.'].msm.metastable_memberships, lw=0, marker='o')"
   ]
  },
  {
   "cell_type": "code",
   "execution_count": 64,
   "id": "6c5facab-acd0-4406-85e5-13b40bd5c725",
   "metadata": {},
   "outputs": [
    {
     "data": {
      "text/plain": [
       "array([[97.6,  0. ,  2.4],\n",
       "       [ 0. , 95.3,  4.7],\n",
       "       [ 0.2,  1.5, 98.3]])"
      ]
     },
     "execution_count": 64,
     "metadata": {},
     "output_type": "execute_result"
    }
   ],
   "source": [
    "np.round(hmm.transition_matrix*100, 1)"
   ]
  },
  {
   "cell_type": "code",
   "execution_count": null,
   "id": "9cf5f2bd-80c5-4b4a-ae10-9f80d2b95781",
   "metadata": {},
   "outputs": [],
   "source": []
  }
 ],
 "metadata": {
  "kernelspec": {
   "display_name": "Python 3 (ipykernel)",
   "language": "python",
   "name": "python3"
  },
  "language_info": {
   "codemirror_mode": {
    "name": "ipython",
    "version": 3
   },
   "file_extension": ".py",
   "mimetype": "text/x-python",
   "name": "python",
   "nbconvert_exporter": "python",
   "pygments_lexer": "ipython3",
   "version": "3.8.0"
  }
 },
 "nbformat": 4,
 "nbformat_minor": 5
}
