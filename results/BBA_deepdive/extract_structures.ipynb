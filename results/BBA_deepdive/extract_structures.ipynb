{
 "cells": [
  {
   "cell_type": "code",
   "execution_count": 14,
   "id": "0fde075b-a84c-42ca-bd20-1f025ec5cda5",
   "metadata": {
    "tags": []
   },
   "outputs": [],
   "source": [
    "import pyemma as pm\n",
    "import mdtraj as md\n",
    "from molpx.generate import projection_paths\n",
    "import matplotlib.pyplot as plt\n",
    "import numpy as np\n",
    "from pathlib import Path\n",
    "import pandas as pd\n",
    "from typing import Dict, Union, List\n",
    "import msmsense.featurizers as feats\n",
    "from msmsense.bootstrap_cmatrices import get_sub_dict, get_trajs\n",
    "from functools import partial\n",
    "\n",
    "%matplotlib inline\n",
    "\n",
    "import pickle\n",
    "import time"
   ]
  },
  {
   "cell_type": "markdown",
   "id": "a950cada-e676-4cd8-a146-14e8102103cd",
   "metadata": {},
   "source": [
    "# Globals and functions"
   ]
  },
  {
   "cell_type": "code",
   "execution_count": 15,
   "id": "2dc8158b-04e5-4684-a651-93e1661084a2",
   "metadata": {},
   "outputs": [],
   "source": [
    "def distances(trajs, **kwargs):\n",
    "    return feats.distances(trajs, scheme=kwargs.get('scheme'), transform=kwargs.get('transform'), steepness=kwargs.get('steepness'), centre=kwargs.get('centre'))\n",
    "\n",
    "\n",
    "def dihedrals(trajs, **kwargs):\n",
    "    return feats.dihedrals(trajs, which=kwargs.get('which'))\n",
    "\n",
    "\n",
    "def get_feature_dict(df, row_num):\n",
    "    row_dict = df.filter(regex='__', axis=1).loc[row_num, :].to_dict()\n",
    "    feature_dict = get_sub_dict(row_dict, 'feature')\n",
    "    if feature_dict['value'] == 'distances':\n",
    "        feature_dict.update(get_sub_dict(row_dict, 'distances'))\n",
    "    if feature_dict['value'] == 'dihedrals':\n",
    "        feature_dict.update(get_sub_dict(row_dict, 'dihedrals'))\n",
    "    return feature_dict\n",
    "\n",
    "def get_kws_dict(df, row_num, kws):\n",
    "    row_dict = df.filter(regex='__', axis=1).loc[row_num, :].to_dict()   \n",
    "    kws_dict = get_sub_dict(row_dict, kws)\n",
    "    return kws_dict\n",
    "\n",
    "def set_proper_dtypes(df):\n",
    "    \"\"\"\n",
    "    forgot to save integers as integers. Only the distances feature columns have true floats. \n",
    "    \"\"\"\n",
    "    potential_integer_cols = df.columns.difference(list(df.filter(regex='distances.*', axis=1)))\n",
    "    for col in potential_integer_cols:\n",
    "        if str(df[col].dtype) != 'object':\n",
    "            df[col] = df[col].astype(int)\n",
    "    return df\n",
    "\n",
    "def get_trajs_top(traj_dir: Path, protein_dir: str, rng: Union[np.random.Generator, None]=None):\n",
    "    trajs = list(traj_dir.rglob(f\"*{protein_dir.upper()}*/*.xtc\"))\n",
    "    trajs.sort()\n",
    "    if rng is not None:\n",
    "        ix = rng.choice(np.arange(len(trajs)), size=len(trajs), replace=True)\n",
    "        trajs = [trajs[i] for i in ix]\n",
    "    \n",
    "    top = list(traj_dir.rglob(f\"*{protein_dir.upper()}*/*.pdb\"))[0]\n",
    "    \n",
    "    return {'trajs': trajs, 'top': top}\n",
    "    \n",
    "    \n",
    "def get_random_traj(trajs: List[md.Trajectory], num_frames: int, rng: np.random.Generator)-> md.Trajectory: \n",
    "    traj_ix = np.arange(len(trajs))\n",
    "    frame_ix = [np.arange(traj.n_frames) for traj in trajs]\n",
    "    \n",
    "    rand_ix = [(ix, rng.choice(frame_ix[ix])) for ix in rng.choice(traj_ix, size=num_frames)]\n",
    "    rand_traj = md.join([trajs[x[0]][x[1]] for x in rand_ix])\n",
    "    return rand_traj\n",
    "    "
   ]
  },
  {
   "cell_type": "code",
   "execution_count": 16,
   "id": "02cebf72-cd33-4b86-9a1a-cee376c8c846",
   "metadata": {},
   "outputs": [],
   "source": [
    "class MSM(object):\n",
    "    \n",
    "    def __init__(self, lag: int,  trajs: List[md.Trajectory], top: md.Trajectory,\n",
    "                 feature_kws: Dict[str, Union[str, int, float]], tica_kws: Dict[str, Union[str, int, float]], cluster_kws: Dict[str, Union[str, int, float]], seed: int):\n",
    "        \"\"\"\n",
    "        Defines the whole MSM pipeline.\n",
    "        lag: markov lag time \n",
    "        num_evs: number of eigenvectors in VAMP score. This includes stationary distribution. note: all projections are done onto the processes 1 - num_evs, i.e., exclude the stationary distribution (process 0)\n",
    "        traj_top_paths: dictionary with 'trajs' - list of Paths to trajectories, and 'top' Path to topology file. \n",
    "        \n",
    "        \"\"\"\n",
    "        self.lag = lag\n",
    "        self.trajs = trajs\n",
    "        self.top = top\n",
    "        \n",
    "        if not isinstance(feature_kws, (list, tuple)): \n",
    "            self.feature_kws = [feature_kws]\n",
    "        else:\n",
    "            self.feature_kws = feature_kws\n",
    "            \n",
    "        self.tica_kws = tica_kws\n",
    "        self.cluster_kws = cluster_kws\n",
    "        self.featurizer = None\n",
    "        self._set_featurizer()\n",
    "        self.seed = seed\n",
    "\n",
    "        self.ttrajs = None\n",
    "        self.tica = None\n",
    "        self.cluster = None\n",
    "        self.msm = None\n",
    "        self.paths = None\n",
    "        \n",
    "    def _set_featurizer(self):\n",
    "        \n",
    "        featurizers = []\n",
    "        for feature_kws in self.feature_kws: \n",
    "            print(feature_kws)\n",
    "            value = feature_kws.pop('value')\n",
    "            if value == 'distances':\n",
    "                featurizers.append(partial(distances, **feature_kws))\n",
    "            elif value == 'dihedrals':\n",
    "                featurizers.append(partial(dihedrals, **feature_kws))\n",
    "            elif value == 'reciprocal_distances': \n",
    "\n",
    "                def f(trajs, **kwargs): \n",
    "                    dist_trajs = distances(trajs, **kwargs)\n",
    "                    recip_trajs = [1/x for x in dist_trajs]\n",
    "                    return recip_trajs\n",
    "\n",
    "                featurizers.append(partial(f, **feature_kws))\n",
    "\n",
    "            else:\n",
    "                raise NotImplementedError('Unrecognized feature')\n",
    "        \n",
    "        def featurizer(trajs):\n",
    "            ftrajs_all = None\n",
    "            for featurizer in featurizers: \n",
    "                \n",
    "                tmp = featurizer(trajs)\n",
    "                if tmp[0].ndim == 1: \n",
    "                    tmp = [x.reshape(-1, 1) for x in tmp]\n",
    "                    \n",
    "                if ftrajs_all is None: \n",
    "                    ftrajs_all = tmp\n",
    "                else:\n",
    "                    for i in range(len(ftrajs_all)): \n",
    "                        ftrajs_all[i] = np.concatenate([ftrajs_all[i], tmp[i]], axis=1)\n",
    "            return ftrajs_all\n",
    "        \n",
    "        self.featurizer = partial(featurizer)\n",
    "        \n",
    "                    \n",
    "    def fit(self):\n",
    "        ftrajs = self.featurizer(self.trajs)\n",
    "        self.tica = pm.coordinates.tica(data=ftrajs, **self.tica_kws)\n",
    "        ttrajs = self.tica.get_output()\n",
    "        self.ttrajs = ttrajs\n",
    "        self.cluster = pm.coordinates.cluster_kmeans(data=ttrajs, **self.cluster_kws, fixed_seed=self.seed)\n",
    "        dtrajs = self.cluster.dtrajs\n",
    "        self.msm = pm.msm.estimate_markov_model(dtrajs=dtrajs, lag=self.lag)\n",
    "    \n",
    "#     def score(self, use_new_trajs=False, new_trajs = None,  score_ks = [2, 3, 4]): \n",
    "#         if use_new_trajs:\n",
    "#             ftrajs = self.featurizer(trajs)\n",
    "#             ttrajs = self.tica.transform(ftrajs)\n",
    "#             dtrajs = self.cluster.transform(ttrajs)\n",
    "#         else: \n",
    "#             dtrajs = self.msm.discrete_trajectories_active\n",
    "#         for k in score_ks: \n",
    "#             score = self.msm.\n",
    "            \n",
    "        "
   ]
  },
  {
   "cell_type": "code",
   "execution_count": 17,
   "id": "7d6ad172-d633-49d4-a846-487ed130b4b1",
   "metadata": {},
   "outputs": [],
   "source": [
    "traj_dir = Path('/Volumes/REA/MD/12FF/strided/')\n",
    "all_mod_defs = set_proper_dtypes(pd.read_hdf('../best_hps_per_feature.h5', key='best_hps_per_feature'))\n",
    "seed = 12098345\n"
   ]
  },
  {
   "cell_type": "code",
   "execution_count": 18,
   "id": "47a3d2c0-a63f-49a8-8211-2a574d7cd5a6",
   "metadata": {},
   "outputs": [],
   "source": [
    "protein_dir = '1FME'"
   ]
  },
  {
   "cell_type": "markdown",
   "id": "3ce96a52-f7fa-4d08-acf7-98ff2c03c6fd",
   "metadata": {},
   "source": [
    "# Introduction\n",
    "\n",
    "This notebook does a comparison of the four models I selected - the three best for each feature and the 'worst' one - and the two models used in the literature. These two are: \n",
    "\n",
    "\n",
    "1. Cecilia Clementi's work:\n",
    "    1. Features - closest-heave distances, reciprocal distances, all dihedrals. \n",
    "    2. TICA - 20ns lag, unknown number of TICA dimensions (I will assume retaining 95% of the kinetic variance), commute mapping for the scaling. \n",
    "    3. k-means clustering with 1000 cluster centres. \n",
    "    4. Markov lag time of 1ns.\n",
    "    Note: work used all of the data (strided at 0.2ns) whereas I will uses strided at 1ns. \n",
    "    \n",
    "2. Brooke Husic's work: \n",
    "    1. Features - alpha carbon distances.\n",
    "    2. TICA - 46ns lag, 2 TICA dimensions, kinetic mapping scaling. \n",
    "    3. minibatch k-medoids clustering.  I will use k-means though with 102 clusters. \n",
    "    4. Markov lag time of 50ns. \n",
    "    \n"
   ]
  },
  {
   "cell_type": "markdown",
   "id": "6b3b5e76-e6a8-4564-a67f-9908f93794ac",
   "metadata": {},
   "source": [
    "# Set model definitions. "
   ]
  },
  {
   "cell_type": "code",
   "execution_count": 19,
   "id": "cd32d91a-e272-4e14-b86c-8a5326ccb72b",
   "metadata": {},
   "outputs": [],
   "source": [
    "mod_defs = all_mod_defs.loc[all_mod_defs.protein_dir==protein_dir.lower(), :].copy()\n",
    "mod_defs.sort_values(by=['protein', 'hp_rank'], inplace=True)\n",
    "mod_defs.reset_index(inplace=True, drop=True)\n",
    "\n",
    "\n",
    "model_definitions = {}\n",
    "\n",
    "for row_num in [0, 1, 2, 3]:\n",
    "\n",
    "    lag = mod_defs.lag[row_num]\n",
    "    feat_kws = get_feature_dict(mod_defs, row_num)\n",
    "    tica_kws = get_kws_dict(mod_defs, row_num, 'tica')\n",
    "    cluster_kws = get_kws_dict(mod_defs, row_num, 'cluster')\n",
    "    \n",
    "    model_definitions[row_num] = dict(lag=lag, feature_kws=feat_kws, tica_kws=tica_kws, cluster_kws=cluster_kws)\n",
    "\n",
    "\n",
    "model_definitions[4] = dict(lag=1, \n",
    "                        feature_kws=[dict(value='distances', scheme='closest-heavy', transform='linear'), \n",
    "                                         dict(value='reciprocal_distances', scheme='closest-heavy', transform='linear'), \n",
    "                                        dict(value='dihedrals', which='all')],\n",
    "                        tica_kws=dict(lag=10, var_cutoff=0.95, stride=1, commute_map=True, kinetic_map=False), \n",
    "                        cluster_kws=dict(k=1000, max_iter=1000, stride=1))\n",
    "\n",
    "\n",
    "\n",
    "\n",
    "model_definitions[5] = dict(lag=50, \n",
    "                       feature_kws=dict(value='distances', scheme='ca', transform='linear'), \n",
    "                       tica_kws=dict(lag=46, dim=2, commute_map=False, kinetic_map=True, stride=1), \n",
    "                       cluster_kws=dict(k=102, max_iter=1000, stride=1))\n"
   ]
  },
  {
   "cell_type": "markdown",
   "id": "1b39a64d-c9e7-40cf-82d5-d4eda6ed4cff",
   "metadata": {},
   "source": [
    "# Compare structures\n",
    "\n",
    "Fit all the models and sample the structures"
   ]
  },
  {
   "cell_type": "code",
   "execution_count": 20,
   "id": "ef5a1506-fb7c-4108-89b7-970c968d6635",
   "metadata": {},
   "outputs": [
    {
     "ename": "KeyboardInterrupt",
     "evalue": "",
     "output_type": "error",
     "traceback": [
      "\u001b[0;31m---------------------------------------------------------------------------\u001b[0m",
      "\u001b[0;31mKeyboardInterrupt\u001b[0m                         Traceback (most recent call last)",
      "\u001b[0;32m/var/folders/b1/0b53wj0509376104__2tttb00000gn/T/ipykernel_94332/2423035133.py\u001b[0m in \u001b[0;36m<module>\u001b[0;34m\u001b[0m\n\u001b[1;32m      3\u001b[0m \u001b[0;34m\u001b[0m\u001b[0m\n\u001b[1;32m      4\u001b[0m \u001b[0mtop\u001b[0m \u001b[0;34m=\u001b[0m \u001b[0mmd\u001b[0m\u001b[0;34m.\u001b[0m\u001b[0mload\u001b[0m\u001b[0;34m(\u001b[0m\u001b[0mstr\u001b[0m\u001b[0;34m(\u001b[0m\u001b[0mtraj_paths\u001b[0m\u001b[0;34m[\u001b[0m\u001b[0;34m'top'\u001b[0m\u001b[0;34m]\u001b[0m\u001b[0;34m)\u001b[0m\u001b[0;34m)\u001b[0m\u001b[0;34m\u001b[0m\u001b[0;34m\u001b[0m\u001b[0m\n\u001b[0;32m----> 5\u001b[0;31m \u001b[0mtrajs\u001b[0m \u001b[0;34m=\u001b[0m \u001b[0;34m[\u001b[0m\u001b[0mmd\u001b[0m\u001b[0;34m.\u001b[0m\u001b[0mload\u001b[0m\u001b[0;34m(\u001b[0m\u001b[0mstr\u001b[0m\u001b[0;34m(\u001b[0m\u001b[0mx\u001b[0m\u001b[0;34m)\u001b[0m\u001b[0;34m,\u001b[0m \u001b[0mtop\u001b[0m\u001b[0;34m=\u001b[0m\u001b[0mtop\u001b[0m\u001b[0;34m)\u001b[0m \u001b[0;32mfor\u001b[0m \u001b[0mx\u001b[0m \u001b[0;32min\u001b[0m \u001b[0mtraj_paths\u001b[0m\u001b[0;34m[\u001b[0m\u001b[0;34m'trajs'\u001b[0m\u001b[0;34m]\u001b[0m\u001b[0;34m]\u001b[0m\u001b[0;34m\u001b[0m\u001b[0;34m\u001b[0m\u001b[0m\n\u001b[0m",
      "\u001b[0;32m/var/folders/b1/0b53wj0509376104__2tttb00000gn/T/ipykernel_94332/2423035133.py\u001b[0m in \u001b[0;36m<listcomp>\u001b[0;34m(.0)\u001b[0m\n\u001b[1;32m      3\u001b[0m \u001b[0;34m\u001b[0m\u001b[0m\n\u001b[1;32m      4\u001b[0m \u001b[0mtop\u001b[0m \u001b[0;34m=\u001b[0m \u001b[0mmd\u001b[0m\u001b[0;34m.\u001b[0m\u001b[0mload\u001b[0m\u001b[0;34m(\u001b[0m\u001b[0mstr\u001b[0m\u001b[0;34m(\u001b[0m\u001b[0mtraj_paths\u001b[0m\u001b[0;34m[\u001b[0m\u001b[0;34m'top'\u001b[0m\u001b[0;34m]\u001b[0m\u001b[0;34m)\u001b[0m\u001b[0;34m)\u001b[0m\u001b[0;34m\u001b[0m\u001b[0;34m\u001b[0m\u001b[0m\n\u001b[0;32m----> 5\u001b[0;31m \u001b[0mtrajs\u001b[0m \u001b[0;34m=\u001b[0m \u001b[0;34m[\u001b[0m\u001b[0mmd\u001b[0m\u001b[0;34m.\u001b[0m\u001b[0mload\u001b[0m\u001b[0;34m(\u001b[0m\u001b[0mstr\u001b[0m\u001b[0;34m(\u001b[0m\u001b[0mx\u001b[0m\u001b[0;34m)\u001b[0m\u001b[0;34m,\u001b[0m \u001b[0mtop\u001b[0m\u001b[0;34m=\u001b[0m\u001b[0mtop\u001b[0m\u001b[0;34m)\u001b[0m \u001b[0;32mfor\u001b[0m \u001b[0mx\u001b[0m \u001b[0;32min\u001b[0m \u001b[0mtraj_paths\u001b[0m\u001b[0;34m[\u001b[0m\u001b[0;34m'trajs'\u001b[0m\u001b[0;34m]\u001b[0m\u001b[0;34m]\u001b[0m\u001b[0;34m\u001b[0m\u001b[0;34m\u001b[0m\u001b[0m\n\u001b[0m",
      "\u001b[0;32m~/opt/miniconda3/envs/msmsense/lib/python3.8/site-packages/mdtraj/core/trajectory.py\u001b[0m in \u001b[0;36mload\u001b[0;34m(filename_or_filenames, discard_overlapping_frames, **kwargs)\u001b[0m\n\u001b[1;32m    431\u001b[0m         \u001b[0m_assert_files_or_dirs_exist\u001b[0m\u001b[0;34m(\u001b[0m\u001b[0mfilename_or_filenames\u001b[0m\u001b[0;34m)\u001b[0m\u001b[0;34m\u001b[0m\u001b[0;34m\u001b[0m\u001b[0m\n\u001b[1;32m    432\u001b[0m \u001b[0;34m\u001b[0m\u001b[0m\n\u001b[0;32m--> 433\u001b[0;31m     \u001b[0mvalue\u001b[0m \u001b[0;34m=\u001b[0m \u001b[0mloader\u001b[0m\u001b[0;34m(\u001b[0m\u001b[0mfilename\u001b[0m\u001b[0;34m,\u001b[0m \u001b[0;34m**\u001b[0m\u001b[0mkwargs\u001b[0m\u001b[0;34m)\u001b[0m\u001b[0;34m\u001b[0m\u001b[0;34m\u001b[0m\u001b[0m\n\u001b[0m\u001b[1;32m    434\u001b[0m     \u001b[0;32mreturn\u001b[0m \u001b[0mvalue\u001b[0m\u001b[0;34m\u001b[0m\u001b[0;34m\u001b[0m\u001b[0m\n\u001b[1;32m    435\u001b[0m \u001b[0;34m\u001b[0m\u001b[0m\n",
      "\u001b[0;32mmdtraj/formats/xtc/xtc.pyx\u001b[0m in \u001b[0;36mmdtraj.formats.xtc.load_xtc\u001b[0;34m()\u001b[0m\n",
      "\u001b[0;32mmdtraj/formats/xtc/xtc.pyx\u001b[0m in \u001b[0;36mmdtraj.formats.xtc.load_xtc\u001b[0;34m()\u001b[0m\n",
      "\u001b[0;32mmdtraj/formats/xtc/xtc.pyx\u001b[0m in \u001b[0;36mmdtraj.formats.xtc.XTCTrajectoryFile.read_as_traj\u001b[0;34m()\u001b[0m\n",
      "\u001b[0;32mmdtraj/formats/xtc/xtc.pyx\u001b[0m in \u001b[0;36mmdtraj.formats.xtc.XTCTrajectoryFile.read\u001b[0;34m()\u001b[0m\n",
      "\u001b[0;32m<__array_function__ internals>\u001b[0m in \u001b[0;36mconcatenate\u001b[0;34m(*args, **kwargs)\u001b[0m\n",
      "\u001b[0;31mKeyboardInterrupt\u001b[0m: "
     ]
    }
   ],
   "source": [
    "traj_paths = get_trajs_top(traj_dir, protein_dir)\n",
    "traj_paths_str = dict(top=str(traj_paths['top']), trajs=[str(x) for x in traj_paths['trajs']])\n",
    "\n",
    "top = md.load(str(traj_paths['top']))\n",
    "trajs = [md.load(str(x), top=top) for x in traj_paths['trajs']]"
   ]
  },
  {
   "cell_type": "markdown",
   "id": "3a91a549-13c7-49e9-a8ea-114e765ae949",
   "metadata": {},
   "source": [
    "## Fit models"
   ]
  },
  {
   "cell_type": "code",
   "execution_count": null,
   "id": "c9a6b60d-0669-4a69-b750-76d1a417c2c5",
   "metadata": {
    "tags": []
   },
   "outputs": [],
   "source": [
    "models = {}\n",
    "for row_num in model_definitions.keys():\n",
    "    \n",
    "    model_definition = model_definitions[row_num].copy()\n",
    "\n",
    "#     Fit model\n",
    "    model = MSM(trajs=trajs, top=top, seed=seed, **model_definition)\n",
    "    model.fit()\n",
    "    models[row_num] = model\n"
   ]
  },
  {
   "cell_type": "markdown",
   "id": "033fe651-930d-4d40-a3db-6762454e2110",
   "metadata": {},
   "source": [
    "# Extract structures"
   ]
  },
  {
   "cell_type": "markdown",
   "id": "942ad01b-fafd-4c62-a266-923fc0db741b",
   "metadata": {},
   "source": [
    "Coarsegrain and extract structures"
   ]
  },
  {
   "cell_type": "code",
   "execution_count": null,
   "id": "e83a6c7c-5e55-47ab-9e9b-8ea65efde719",
   "metadata": {},
   "outputs": [],
   "source": [
    "num_structures = 100\n",
    "top.save_pdb(f'top.pdb') # For easy reference\n",
    "num_procs = 2\n",
    "for k, model in models.items():\n",
    "    pcca = model.msm.pcca(m=num_procs)\n",
    "    sd = pcca.coarse_grained_stationary_probability\n",
    "    state_ix = np.argsort(sd)[::-1]\n",
    "    \n",
    "    ms_dist = model.msm.metastable_distributions\n",
    "    ms_dist = ms_dist[state_ix, :]\n",
    "    \n",
    "    samples = [pm.coordinates.save_traj(traj_paths_str['trajs'], idist, outfile=None, top=traj_paths_str['top'])\n",
    "              for idist in model.msm.sample_by_distributions(ms_dist, num_structures)]\n",
    "    \n",
    "    reference = md.load(\"xtal.pdb\")\n",
    "#     reference.save_pdb(f\"{protein_dir}/xtal.pdb\")\n",
    "    ref_ix = reference.top.select('name CA')\n",
    "    for i, traj in enumerate(samples):\n",
    "        \n",
    "        ix = traj.top.select('name CA')\n",
    "        \n",
    "        traj.superpose(reference=reference, atom_indices=ix, ref_atom_indices=ref_ix)\n",
    "        traj.save_xtc(f\"model_{k}_state_{i}.xtc\")"
   ]
  }
 ],
 "metadata": {
  "kernelspec": {
   "display_name": "Python 3 (ipykernel)",
   "language": "python",
   "name": "python3"
  },
  "language_info": {
   "codemirror_mode": {
    "name": "ipython",
    "version": 3
   },
   "file_extension": ".py",
   "mimetype": "text/x-python",
   "name": "python",
   "nbconvert_exporter": "python",
   "pygments_lexer": "ipython3",
   "version": "3.8.0"
  }
 },
 "nbformat": 4,
 "nbformat_minor": 5
}
