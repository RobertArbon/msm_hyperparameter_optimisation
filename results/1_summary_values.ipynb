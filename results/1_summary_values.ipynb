{
 "cells": [
  {
   "cell_type": "code",
   "execution_count": 1,
   "id": "bffe6e98-9b2b-49c1-b290-bbb728c5e6b1",
   "metadata": {},
   "outputs": [],
   "source": [
    "import matplotlib.pyplot as plt\n",
    "import pandas as pd\n",
    "import numpy as np\n",
    "from pathlib import Path\n",
    "import seaborn as sns\n",
    "import plotly.express as px\n",
    "import functions as funcs\n",
    "import pyemma as pm\n",
    "\n",
    "import matplotlib as mpl"
   ]
  },
  {
   "cell_type": "markdown",
   "id": "a6670740-1c3e-469f-80e3-fe2d044710e2",
   "metadata": {},
   "source": [
    "# Load data"
   ]
  },
  {
   "cell_type": "code",
   "execution_count": 2,
   "id": "f9ea547d-2400-483f-a3f2-4db85a7ad7f6",
   "metadata": {},
   "outputs": [],
   "source": [
    "all_ts = pd.read_hdf('timescales.h5', key='timescales')\n",
    "all_vamps = pd.read_hdf('vamps.h5', key='vamps')\n",
    "all_vamps.rename(columns={'k': 'num_its'}, inplace=True)\n",
    "chosen_lags = pd.read_hdf('chosen_lag_times.h5', key='chosen_lags')\n",
    "chosen_dom_procs = pd.read_hdf('chosen_num_dominant.h5', key='chosen_num_dominant')"
   ]
  },
  {
   "cell_type": "markdown",
   "id": "49a04644-8897-49fb-920c-9b487e0a721b",
   "metadata": {},
   "source": [
    "# Tidy dataframes\n",
    "\n",
    "We're only interested in VAMP2 scores and the non-hyperparameter columns"
   ]
  },
  {
   "cell_type": "code",
   "execution_count": 185,
   "id": "1884923f-7f06-4ddf-85d0-3687afad301c",
   "metadata": {},
   "outputs": [],
   "source": [
    "\n",
    "\n",
    "def create_feature_dict(df):\n",
    "    def f(x):\n",
    "        if x['feature__value'] == 'dihedrals':\n",
    "            return 'dihed.'\n",
    "        if x['feature__value'] == 'distances':\n",
    "            if x['distances__transform'] == 'linear': \n",
    "                return 'dist'\n",
    "            elif x['distances__transform'] == 'logistic':\n",
    "                return 'logit(dist.)'\n",
    "        \n",
    "    df['feature'] = df.apply(f, axis=1)\n",
    "    fdict = dict(zip(df['hp_index'].values, df['feature'].values))\n",
    "    \n",
    "    return fdict\n",
    "\n",
    "\n",
    "def subset_columns(df): \n",
    "    df = df.loc[:, ['iteration', 'value','protein', 'hp_index', 'lag', 'num_its', 'feature']]\n",
    "    return df\n",
    "    \n",
    "\n",
    "def subset_method(df, method='VAMP2'):\n",
    "    df['choose_method'] = method\n",
    "    return df.loc[df.method==df.choose_method, :].copy()\n",
    "    \n",
    "    \n",
    "vamps = subset_method(all_vamps)\n",
    "\n",
    "fdict = create_feature_dict(vamps)\n",
    "\n",
    "ts = subset_columns(ts)\n",
    "vamps = subset_columns(vamps)\n",
    "\n",
    "\n"
   ]
  },
  {
   "cell_type": "markdown",
   "id": "4d73af44-d25d-43be-99da-f9905206de9a",
   "metadata": {},
   "source": [
    "#  Calculate ratio"
   ]
  },
  {
   "cell_type": "code",
   "execution_count": 186,
   "id": "fca47fd3-781b-4d90-a1c3-663fa1162f07",
   "metadata": {},
   "outputs": [],
   "source": [
    "def timescale_ratio(df):\n",
    "\n",
    "    t = df.loc[:, ['value', 'iteration', 'protein', 'hp_index', 'lag', 'num_its']].copy()\n",
    "    dupes = t.duplicated(subset=['iteration', 'protein', 'hp_index', 'lag', 'num_its'])\n",
    "    assert not np.any(dupes.values)\n",
    "\n",
    "    t['log_value'] = np.log(t['value'])\n",
    "    t.sort_values(by=['protein','hp_index', 'lag', 'iteration', 'num_its'], inplace=True)\n",
    "    t['ratio'] = np.exp(t.groupby(['protein', 'hp_index', 'lag', 'iteration']).diff(periods=-1)['log_value'])\n",
    "    return t\n",
    "\n",
    "ts_ratio = timescale_ratio(ts)"
   ]
  },
  {
   "cell_type": "markdown",
   "id": "87fb573b-8c40-4b10-9169-5e3f6e8ed6c2",
   "metadata": {},
   "source": [
    "# Calculate bootstrap summary"
   ]
  },
  {
   "cell_type": "code",
   "execution_count": 187,
   "id": "5460131d-db2f-4755-b906-43d1a4486ef7",
   "metadata": {},
   "outputs": [],
   "source": [
    "def bs_summary(df, score_column='value', subset=['protein', 'hp_index', 'lag', 'num_its']):\n",
    "    score = df.groupby(subset, as_index=False).agg(\n",
    "                            median = (score_column, lambda x: np.quantile(x, 0.5)), \n",
    "                            lb = (score_column, lambda x: np.quantile(x, 0.025)), \n",
    "                            ub = (score_column, lambda x: np.quantile(x, 0.975)))\n",
    "    score['lb_diff'] = score['median'] - score['lb']\n",
    "    score['ub_diff'] = score['ub'] - score['median']\n",
    "    score.drop(labels=['lb', 'ub'], axis=1, inplace=True)\n",
    "    return score\n",
    "    \n",
    "\n",
    "vamps_summary = bs_summary(vamps)\n",
    "ts_ratio_summary = bs_summary(ts_ratio, score_column='ratio')\n",
    "ts_summary = bs_summary(ts)"
   ]
  },
  {
   "cell_type": "code",
   "execution_count": 188,
   "id": "1739e6bf-6739-4fd2-9f1a-4b45333411fb",
   "metadata": {},
   "outputs": [],
   "source": [
    "vamps_summary.to_hdf('vamps_bs_summary.h5', key='vamps_summary')\n",
    "ts_ratio_summary.to_hdf('ts_ratio_bs_summary.h5', key='ts_ratio_summary')\n",
    "ts_summary.to_hdf('ts_bs_summary.h5', key='ts_summary')"
   ]
  },
  {
   "cell_type": "markdown",
   "id": "e4b820a6-84d5-4047-8aac-0de920a8e41e",
   "metadata": {},
   "source": [
    "# Figure"
   ]
  },
  {
   "cell_type": "code",
   "execution_count": 182,
   "id": "e08d8f91-40ff-4b40-b96d-9e864514c457",
   "metadata": {},
   "outputs": [],
   "source": [
    "# df = vamps_summary.merge(ts_ratio_summary, on=['protein', 'hp_index', 'lag', 'num_its'], suffixes=['_vamp', '_gap'])\n",
    "\n",
    "# df['feature'] = df['hp_index'].apply(lambda x: fdict[x])"
   ]
  },
  {
   "cell_type": "code",
   "execution_count": 183,
   "id": "a3b1ded4-c599-4656-be33-557bf03d272e",
   "metadata": {},
   "outputs": [],
   "source": [
    "# all_best_models = pd.read_hdf('best_hps_per_feature.h5')\n",
    "# all_best_models.rename(columns={'k':'num_its'}, inplace=True)\n"
   ]
  },
  {
   "cell_type": "code",
   "execution_count": 184,
   "id": "acf6e560-e1a7-4894-a377-96c0cc0fe2f6",
   "metadata": {},
   "outputs": [
    {
     "data": {
      "image/png": "[encoded data removed]",
      "text/plain": [
       "<Figure size 432x360 with 4 Axes>"
      ]
     },
     "metadata": {
      "needs_background": "light"
     },
     "output_type": "display_data"
    }
   ],
   "source": [
    "# # for protein in funcs.PROTEIN_DIRS[:5]+funcs.PROTEIN_DIRS[6:8]:\n",
    "# protein = 'BBA'\n",
    "\n",
    "# max_k = chosen_dom_procs.loc[chosen_dom_procs.protein==protein, 'num_its'].values[0]+1\n",
    "# lag = chosen_lags.loc[chosen_lags.protein==protein, 'lag'].values[0]\n",
    "\n",
    "\n",
    "# ks = np.arange(2, max_k+1)\n",
    "# n_ks = ks.shape[0]\n",
    "# features = np.unique(df.feature.values)\n",
    "\n",
    "\n",
    "# best_df = all_best_models.loc[all_best_models.protein==protein, :].copy()\n",
    "# best_df.sort_values(by='hp_rank', inplace=True)\n",
    "# best_model_num = dict(zip(np.arange(1, best_df.shape[0]+1), best_df['hp_index']))\n",
    "# best_markers = ['P','X', 'D', 'o']\n",
    "\n",
    "# cols = sns.color_palette('colorblind', features.shape[0])\n",
    "\n",
    "# n_cols = 2\n",
    "# n_rows = n_ks//n_cols + (n_ks % n_cols)\n",
    "\n",
    "# with sns.plotting_context('paper', font_scale=1.25):\n",
    "    \n",
    "#     fig, axes = plt.subplots(n_rows, n_cols, figsize=(6, 1+2*n_rows), sharey=False, sharex=True)\n",
    "\n",
    "#     for i in range(ks.shape[0]):\n",
    "#         ax = axes.flatten()[i]\n",
    "\n",
    "#         for j, feat in enumerate(features):\n",
    "\n",
    "#             ix = (df.protein == protein) & (df.num_its == ks[i] ) & (df.lag == lag) & (df.feature == feat)\n",
    "#             x = df.loc[ix, 'median_gap'].values\n",
    "#             xerr = df.loc[ix, ['lb_diff_gap', 'ub_diff_gap']].values.T\n",
    "\n",
    "#             y = df.loc[ix, 'median_vamp'].values\n",
    "#             yerr = df.loc[ix, ['lb_diff_vamp', 'ub_diff_vamp']].values.T\n",
    "\n",
    "#             ax.errorbar(x, y, xerr=xerr, yerr=yerr, lw=0, elinewidth=0.5, marker='o', color=cols[j], alpha=0.5, label=feat, ms=5)\n",
    "#             ax.set_xscale('log')\n",
    "\n",
    "# #         for mod_num, hp_ix in best_model_num.items():\n",
    "# #             best_ix = (df.protein == protein) & (df.num_its == ks[i] ) & (df.lag == lag) & (df.hp_index == hp_ix)\n",
    "# #             best_x = df.loc[best_ix, 'median_gap'].values\n",
    "# #             best_y = df.loc[best_ix, 'median_vamp'].values       \n",
    "# #             best_f = df.loc[best_ix, 'feature'].values[0]\n",
    "# #     #         ax.annotate(text=f\"{mod_num}\", xy=(best_x, best_y), xytext=(20, 20), textcoords='offset points',arrowprops=dict(arrowstyle=\"->\",connectionstyle=\"arc3\"),)\n",
    "# #             ax.scatter(best_x, best_y, marker=best_markers[mod_num-1], alpha=1, s=100, color=cols[np.where(features == best_f)[0][0]], label=f\"Model {mod_num}\", edgecolor='k', zorder=10)\n",
    "\n",
    "#         if i % n_cols == 0: \n",
    "#             ax.set_ylabel(f'VAMP-2')\n",
    "\n",
    "#         if i // n_rows == 1: \n",
    "#             ax.set_xlabel('Timescale ratio')\n",
    "\n",
    "#         ax.annotate(text=f\"$k={{{ks[i]}}}$\", xy=(0.9, 0.95), ha='right', va='top' , xycoords='axes fraction')\n",
    "\n",
    "\n",
    "#     axes[0, -1].legend(bbox_to_anchor=(1, 1), loc='upper left')\n",
    "#     plt.tight_layout()\n",
    "    "
   ]
  },
  {
   "cell_type": "code",
   "execution_count": null,
   "id": "321adc50-6ba3-4abd-b8e6-78fdaf6db1d3",
   "metadata": {},
   "outputs": [],
   "source": []
  }
 ],
 "metadata": {
  "kernelspec": {
   "display_name": "Python 3 (ipykernel)",
   "language": "python",
   "name": "python3"
  },
  "language_info": {
   "codemirror_mode": {
    "name": "ipython",
    "version": 3
   },
   "file_extension": ".py",
   "mimetype": "text/x-python",
   "name": "python",
   "nbconvert_exporter": "python",
   "pygments_lexer": "ipython3",
   "version": "3.8.0"
  }
 },
 "nbformat": 4,
 "nbformat_minor": 5
}
