{
 "cells": [
  {
   "cell_type": "code",
   "execution_count": 17,
   "id": "0fde075b-a84c-42ca-bd20-1f025ec5cda5",
   "metadata": {
    "tags": []
   },
   "outputs": [],
   "source": [
    "import pyemma as pm\n",
    "import mdtraj as md\n",
    "from molpx.generate import projection_paths\n",
    "import matplotlib.pyplot as plt\n",
    "import numpy as np\n",
    "from pathlib import Path\n",
    "import pandas as pd\n",
    "from typing import Dict, Union, List\n",
    "from msmsense.featurizers import dihedrals, distances\n",
    "from msmsense.bootstrap_cmatrices import get_sub_dict, get_trajs\n",
    "from functools import partial\n",
    "\n",
    "%matplotlib inline\n",
    "\n",
    "import pickle\n",
    "import time"
   ]
  },
  {
   "cell_type": "markdown",
   "id": "a950cada-e676-4cd8-a146-14e8102103cd",
   "metadata": {},
   "source": [
    "# Globals and functions"
   ]
  },
  {
   "cell_type": "code",
   "execution_count": 18,
   "id": "2dc8158b-04e5-4684-a651-93e1661084a2",
   "metadata": {},
   "outputs": [],
   "source": [
    "def get_feature_dict(df, row_num):\n",
    "    row_dict = df.filter(regex='__', axis=1).loc[row_num, :].to_dict()\n",
    "    feature_dict = get_sub_dict(row_dict, 'feature')\n",
    "    if feature_dict['value'] == 'distances':\n",
    "        feature_dict.update(get_sub_dict(row_dict, 'distances'))\n",
    "    if feature_dict['value'] == 'dihedrals':\n",
    "        feature_dict.update(get_sub_dict(row_dict, 'dihedrals'))\n",
    "    return feature_dict\n",
    "\n",
    "def get_kws_dict(df, row_num, kws):\n",
    "    row_dict = df.filter(regex='__', axis=1).loc[row_num, :].to_dict()   \n",
    "    kws_dict = get_sub_dict(row_dict, kws)\n",
    "    return kws_dict\n",
    "\n",
    "def set_proper_dtypes(df):\n",
    "    \"\"\"\n",
    "    forgot to save integers as integers. Only the distances feature columns have true floats. \n",
    "    \"\"\"\n",
    "    potential_integer_cols = df.columns.difference(list(df.filter(regex='distances.*', axis=1)))\n",
    "    for col in potential_integer_cols:\n",
    "        if str(df[col].dtype) != 'object':\n",
    "            df[col] = df[col].astype(int)\n",
    "    return df\n",
    "\n",
    "def get_trajs_top(traj_dir: Path, protein_dir: str, rng: Union[np.random.Generator, None]=None):\n",
    "    trajs = list(traj_dir.rglob(f\"*{protein_dir.upper()}*/*.xtc\"))\n",
    "    trajs.sort()\n",
    "    if rng is not None:\n",
    "        ix = rng.choice(np.arange(len(trajs)), size=len(trajs), replace=True)\n",
    "        trajs = [trajs[i] for i in ix]\n",
    "    \n",
    "    top = list(traj_dir.rglob(f\"*{protein_dir.upper()}*/*.pdb\"))[0]\n",
    "    \n",
    "    return {'trajs': trajs, 'top': top}\n",
    "    \n",
    "    \n",
    "def get_random_traj(trajs: List[md.Trajectory], num_frames: int, rng: np.random.Generator)-> md.Trajectory: \n",
    "    traj_ix = np.arange(len(trajs))\n",
    "    frame_ix = [np.arange(traj.n_frames) for traj in trajs]\n",
    "    \n",
    "    rand_ix = [(ix, rng.choice(frame_ix[ix])) for ix in rng.choice(traj_ix, size=num_frames)]\n",
    "    rand_traj = md.join([trajs[x[0]][x[1]] for x in rand_ix])\n",
    "    return rand_traj\n",
    "    "
   ]
  },
  {
   "cell_type": "code",
   "execution_count": 19,
   "id": "02cebf72-cd33-4b86-9a1a-cee376c8c846",
   "metadata": {},
   "outputs": [],
   "source": [
    "class MSM(object):\n",
    "    \n",
    "    def __init__(self, lag: int, num_evs: int, trajs: List[md.Trajectory], top: md.Trajectory,\n",
    "                 feature_kws: Dict[str, Union[str, int, float]], tica_kws: Dict[str, Union[str, int, float]], cluster_kws: Dict[str, Union[str, int, float]], seed: int):\n",
    "        \"\"\"\n",
    "        Defines the whole MSM pipeline.\n",
    "        lag: markov lag time \n",
    "        num_evs: number of eigenvectors in VAMP score. This includes stationary distribution. note: all projections are done onto the processes 1 - num_evs, i.e., exclude the stationary distribution (process 0)\n",
    "        traj_top_paths: dictionary with 'trajs' - list of Paths to trajectories, and 'top' Path to topology file. \n",
    "        \n",
    "        \"\"\"\n",
    "        self.lag = lag\n",
    "        self.num_evs = num_evs\n",
    "        self.trajs = trajs\n",
    "\n",
    "        self.top = top\n",
    "        self.feature_kws = feature_kws\n",
    "        self.tica_kws = tica_kws\n",
    "        self.cluster_kws = cluster_kws\n",
    "        self.featurizer = None\n",
    "        self._set_featurizer()\n",
    "        self.seed = seed\n",
    "\n",
    "        self.ttrajs = None\n",
    "        self.tica = None\n",
    "        self.cluster = None\n",
    "        self.msm = None\n",
    "        self.paths = None\n",
    "        \n",
    "    def _set_featurizer(self):\n",
    "        feature_kws = self.feature_kws.copy()\n",
    "        feature = feature_kws.pop('value')\n",
    "        \n",
    "        if feature == 'distances':\n",
    "            self.featurizer = partial(distances, **feature_kws)\n",
    "        elif feature == 'dihedrals':\n",
    "            self.featurizer = partial(dihedrals, **feature_kws)\n",
    "        else:\n",
    "            raise NotImplementedError('Unrecognized feature')\n",
    "        \n",
    "\n",
    "    def fit(self):\n",
    "        ftrajs = self.featurizer(self.trajs)\n",
    "        self.tica = pm.coordinates.tica(data=ftrajs, **self.tica_kws)\n",
    "        ttrajs = self.tica.get_output()\n",
    "        self.ttrajs = ttrajs\n",
    "        self.cluster = pm.coordinates.cluster_kmeans(data=ttrajs, **self.cluster_kws, fixed_seed=self.seed)\n",
    "        dtrajs = self.cluster.dtrajs\n",
    "        self.msm = pm.msm.estimate_markov_model(dtrajs=dtrajs, lag=self.lag)\n",
    "\n",
    "    \n",
    "    def _get_all_projections(self, num_procs: int, dtrajs: List[np.ndarray]) -> np.ndarray:\n",
    "        \"\"\" Project dtrajs onto first num_proc eigenvectors excluding stationary distribution. i.e., if num_proc=1 then project onto the slowest eigenvector only. \n",
    "        All projections ignore the stationary distribution\n",
    "        \"\"\"\n",
    "        evs = self.msm.eigenvectors_right(num_procs+1)\n",
    "        active_set = self.msm.active_set\n",
    "        NON_ACTIVE_PROJ_VAL = 0 # if the state is not in the active set, set the projection to this value. \n",
    "        NON_ACTIVE_IX_VAL = -1\n",
    "        evs = evs[:, 1:] # remove the stationary distribution\n",
    "        proj_trajs = []\n",
    "        for dtraj in dtrajs:\n",
    "            all_procs = []\n",
    "            for proc_num in range(num_procs):\n",
    "                \n",
    "                tmp = np.ones(dtraj.shape[0], dtype=float)\n",
    "                tmp[:] = NON_ACTIVE_PROJ_VAL\n",
    "                \n",
    "                for i in range(dtraj.shape[0]):\n",
    "                    x = self.msm._full2active[dtraj[i]]\n",
    "                    if x != NON_ACTIVE_IX_VAL:\n",
    "                        tmp[i] = evs[x, proc_num]\n",
    "                    tmp = tmp.reshape(-1, 1)\n",
    "                \n",
    "                all_procs.append(tmp)\n",
    "            all_procs = np.concatenate(all_procs, axis=1)\n",
    "            proj_trajs.append(all_procs)\n",
    "        \n",
    "        return proj_trajs\n",
    "        \n",
    "        \n",
    "    def projection_paths(self, n_projs: Union[None, int]=None, proj_dim: Union[None, int]=None, n_points: int=100, n_geom_samples: int=100):\n",
    "        \"\"\"\n",
    "        n_projs: number of paths to create. Default = None = num_evs - 1 (i.e., exclude stationary distribution)\n",
    "        proj_dim: dimensionality of the space in which distances will be computed. Default = None = num_evs - 1 (i.e., exclude stationary distribution)\n",
    "        n_points: number of points along the path (there may be less than this.)\n",
    "        n_geom_samples: For each of the n_points along the projection path, n_geom_samples will be retrieved from the trajectory files. \n",
    "                        The higher this number, the smoother the minRMSD projection path. Also, the longer it takes for the path to be computed\n",
    "        \"\"\"\n",
    "        \n",
    "        if proj_dim is None:\n",
    "            proj_dim = self.num_evs - 1\n",
    "        if n_projs is None:\n",
    "            n_projs = self.num_evs - 1\n",
    "        \n",
    "        projections = self._get_all_projections(num_procs=proj_dim, dtrajs=self.msm.discrete_trajectories_active)\n",
    "        \n",
    "        paths, _ = projection_paths(MD_trajectories=self.trajs, MD_top = self.top, projected_trajectories=projections, \n",
    "                                    n_projs=n_projs, proj_dim=proj_dim, n_geom_samples=n_geom_samples, n_points=n_points)\n",
    "        self.paths = paths\n",
    "        \n",
    "        \n",
    "    \n",
    "    def get_projection_trajectory(self, proc_num: int, kind: str='min_rmsd') -> md.Trajectory:\n",
    "        \"\"\"\n",
    "        Returns the projection trajectory for a specific dimension\n",
    "        proc_num: the number process. Min value = 1\n",
    "        \"\"\"\n",
    "        if proc_num == 0:\n",
    "            raise ValueError(\"process_num must be >=1. Processes are indexed from 0 (stationary distribution). Process 1 is the slowest projected process.\")\n",
    "            \n",
    "        return self.paths[proc_num-1][kind]['geom']\n",
    "    \n",
    "    \n",
    "    def transform(self, new_trajectory: md.Trajectory) -> np.ndarray:\n",
    "        \"\"\"\n",
    "        projects new trajectory onto the self.num_proc eigenvectors of the MSM\n",
    "        \"\"\"\n",
    "        ftrajs = self.featurizer([new_trajectory])\n",
    "        ttrajs = self.tica.transform(ftrajs)\n",
    "        dtrajs = self.cluster.transform(ttrajs)\n",
    "        projections = self._get_all_projections(num_procs=self.num_evs - 1, dtrajs=dtrajs)\n",
    "        return projections\n",
    "        \n",
    "        "
   ]
  },
  {
   "cell_type": "code",
   "execution_count": 20,
   "id": "7d6ad172-d633-49d4-a846-487ed130b4b1",
   "metadata": {},
   "outputs": [],
   "source": [
    "traj_dir = Path('/Volumes/REA/MD/12FF/strided/')\n",
    "all_mod_defs = set_proper_dtypes(pd.read_hdf('../best_hps_per_feature.h5', key='best_hps_per_feature'))\n",
    "seed = 12098345\n"
   ]
  },
  {
   "cell_type": "markdown",
   "id": "a3701689-04e3-4969-8e20-4b32c8584b86",
   "metadata": {},
   "source": [
    "# Detailed comparisons\n",
    "\n",
    "This workbook fits the best hyperparameters for each feature and provides a more detailed comparison. This complements the model comparison in terms of eigenvector projections. \n"
   ]
  },
  {
   "cell_type": "code",
   "execution_count": 21,
   "id": "793b909b-21d1-4d8e-bad7-f6e9fbccef6b",
   "metadata": {},
   "outputs": [],
   "source": [
    "xtal = {'CLN025': '5awl.pdb', '1FME': '1fme.pdb' }"
   ]
  },
  {
   "cell_type": "code",
   "execution_count": 22,
   "id": "47a3d2c0-a63f-49a8-8211-2a574d7cd5a6",
   "metadata": {},
   "outputs": [],
   "source": [
    "protein_dir = '1FME'\n",
    "Path(protein_dir).mkdir(exist_ok=True)\n",
    "num_procs = 4 # Get this from inspection its_comparators\n",
    "num_structures = 100 # how many samples"
   ]
  },
  {
   "cell_type": "markdown",
   "id": "6b3b5e76-e6a8-4564-a67f-9908f93794ac",
   "metadata": {},
   "source": [
    "Get model definitions and trajectories"
   ]
  },
  {
   "cell_type": "code",
   "execution_count": 23,
   "id": "cd32d91a-e272-4e14-b86c-8a5326ccb72b",
   "metadata": {},
   "outputs": [],
   "source": [
    "mod_defs = all_mod_defs.loc[all_mod_defs.protein_dir==protein_dir.lower(), :].copy()\n",
    "mod_defs.sort_values(by=['protein', 'hp_rank'], inplace=True)\n",
    "mod_defs.reset_index(inplace=True, drop=True)\n",
    "\n",
    "# rng = np.random.default_rng(seed)\n",
    "traj_paths = get_trajs_top(traj_dir, protein_dir)\n",
    "traj_paths_str = dict(top=str(traj_paths['top']), trajs=[str(x) for x in traj_paths['trajs']])\n",
    "\n",
    "top = md.load(str(traj_paths['top']))\n",
    "trajs = [md.load(str(x), top=top) for x in traj_paths['trajs']]"
   ]
  },
  {
   "cell_type": "code",
   "execution_count": 24,
   "id": "a3e049c7-6079-4bc5-945b-7c955f6ec5f4",
   "metadata": {},
   "outputs": [],
   "source": [
    "mod_defs['tica__stride'] = 1"
   ]
  },
  {
   "cell_type": "code",
   "execution_count": 38,
   "id": "60206d4d-e5e5-4d5a-9b16-c01dae95c8b7",
   "metadata": {},
   "outputs": [
    {
     "data": {
      "text/html": [
       "<div>\n",
       "<style scoped>\n",
       "    .dataframe tbody tr th:only-of-type {\n",
       "        vertical-align: middle;\n",
       "    }\n",
       "\n",
       "    .dataframe tbody tr th {\n",
       "        vertical-align: top;\n",
       "    }\n",
       "\n",
       "    .dataframe thead th {\n",
       "        text-align: right;\n",
       "    }\n",
       "</style>\n",
       "<table border=\"1\" class=\"dataframe\">\n",
       "  <thead>\n",
       "    <tr style=\"text-align: right;\">\n",
       "      <th></th>\n",
       "      <th>protein</th>\n",
       "      <th>protein_dir</th>\n",
       "      <th>lag</th>\n",
       "      <th>k</th>\n",
       "      <th>hp_index</th>\n",
       "      <th>hp_rank</th>\n",
       "      <th>feature</th>\n",
       "      <th>cluster__k</th>\n",
       "      <th>cluster__max_iter</th>\n",
       "      <th>cluster__stride</th>\n",
       "      <th>dihedrals__which</th>\n",
       "      <th>distances__centre</th>\n",
       "      <th>distances__scheme</th>\n",
       "      <th>distances__steepness</th>\n",
       "      <th>distances__transform</th>\n",
       "      <th>feature__value</th>\n",
       "      <th>tica__dim</th>\n",
       "      <th>tica__lag</th>\n",
       "      <th>tica__stride</th>\n",
       "    </tr>\n",
       "  </thead>\n",
       "  <tbody>\n",
       "    <tr>\n",
       "      <th>0</th>\n",
       "      <td>BBA</td>\n",
       "      <td>1fme</td>\n",
       "      <td>40</td>\n",
       "      <td>4</td>\n",
       "      <td>81</td>\n",
       "      <td>1</td>\n",
       "      <td>Contact distance logistic</td>\n",
       "      <td>349</td>\n",
       "      <td>1000</td>\n",
       "      <td>10</td>\n",
       "      <td>all</td>\n",
       "      <td>0.612370</td>\n",
       "      <td>ca</td>\n",
       "      <td>24.721685</td>\n",
       "      <td>logistic</td>\n",
       "      <td>distances</td>\n",
       "      <td>6</td>\n",
       "      <td>63</td>\n",
       "      <td>1</td>\n",
       "    </tr>\n",
       "    <tr>\n",
       "      <th>1</th>\n",
       "      <td>BBA</td>\n",
       "      <td>1fme</td>\n",
       "      <td>40</td>\n",
       "      <td>4</td>\n",
       "      <td>99</td>\n",
       "      <td>3</td>\n",
       "      <td>Contact distance</td>\n",
       "      <td>260</td>\n",
       "      <td>1000</td>\n",
       "      <td>10</td>\n",
       "      <td>all</td>\n",
       "      <td>0.799548</td>\n",
       "      <td>ca</td>\n",
       "      <td>8.262109</td>\n",
       "      <td>linear</td>\n",
       "      <td>distances</td>\n",
       "      <td>10</td>\n",
       "      <td>84</td>\n",
       "      <td>1</td>\n",
       "    </tr>\n",
       "    <tr>\n",
       "      <th>2</th>\n",
       "      <td>BBA</td>\n",
       "      <td>1fme</td>\n",
       "      <td>40</td>\n",
       "      <td>4</td>\n",
       "      <td>47</td>\n",
       "      <td>35</td>\n",
       "      <td>Dihedral angles</td>\n",
       "      <td>291</td>\n",
       "      <td>1000</td>\n",
       "      <td>10</td>\n",
       "      <td>all</td>\n",
       "      <td>0.822180</td>\n",
       "      <td>ca</td>\n",
       "      <td>14.431844</td>\n",
       "      <td>linear</td>\n",
       "      <td>dihedrals</td>\n",
       "      <td>9</td>\n",
       "      <td>45</td>\n",
       "      <td>1</td>\n",
       "    </tr>\n",
       "    <tr>\n",
       "      <th>3</th>\n",
       "      <td>BBA</td>\n",
       "      <td>1fme</td>\n",
       "      <td>40</td>\n",
       "      <td>4</td>\n",
       "      <td>40</td>\n",
       "      <td>100</td>\n",
       "      <td>Contact distance logistic</td>\n",
       "      <td>96</td>\n",
       "      <td>1000</td>\n",
       "      <td>10</td>\n",
       "      <td>all</td>\n",
       "      <td>1.329784</td>\n",
       "      <td>closest-heavy</td>\n",
       "      <td>17.368070</td>\n",
       "      <td>logistic</td>\n",
       "      <td>distances</td>\n",
       "      <td>1</td>\n",
       "      <td>87</td>\n",
       "      <td>1</td>\n",
       "    </tr>\n",
       "  </tbody>\n",
       "</table>\n",
       "</div>"
      ],
      "text/plain": [
       "  protein protein_dir  lag  k  hp_index  hp_rank                    feature  \\\n",
       "0     BBA        1fme   40  4        81        1  Contact distance logistic   \n",
       "1     BBA        1fme   40  4        99        3           Contact distance   \n",
       "2     BBA        1fme   40  4        47       35            Dihedral angles   \n",
       "3     BBA        1fme   40  4        40      100  Contact distance logistic   \n",
       "\n",
       "   cluster__k  cluster__max_iter  cluster__stride dihedrals__which  \\\n",
       "0         349               1000               10              all   \n",
       "1         260               1000               10              all   \n",
       "2         291               1000               10              all   \n",
       "3          96               1000               10              all   \n",
       "\n",
       "   distances__centre distances__scheme  distances__steepness  \\\n",
       "0           0.612370                ca             24.721685   \n",
       "1           0.799548                ca              8.262109   \n",
       "2           0.822180                ca             14.431844   \n",
       "3           1.329784     closest-heavy             17.368070   \n",
       "\n",
       "  distances__transform feature__value  tica__dim  tica__lag  tica__stride  \n",
       "0             logistic      distances          6         63             1  \n",
       "1               linear      distances         10         84             1  \n",
       "2               linear      dihedrals          9         45             1  \n",
       "3             logistic      distances          1         87             1  "
      ]
     },
     "execution_count": 38,
     "metadata": {},
     "output_type": "execute_result"
    }
   ],
   "source": [
    "mod_defs"
   ]
  },
  {
   "cell_type": "markdown",
   "id": "1b39a64d-c9e7-40cf-82d5-d4eda6ed4cff",
   "metadata": {},
   "source": [
    "Fit models on a single bootstrap sample"
   ]
  },
  {
   "cell_type": "code",
   "execution_count": 25,
   "id": "c9a6b60d-0669-4a69-b750-76d1a417c2c5",
   "metadata": {
    "scrolled": true,
    "tags": []
   },
   "outputs": [
    {
     "data": {
      "application/vnd.jupyter.widget-view+json": {
       "model_id": "",
       "version_major": 2,
       "version_minor": 0
      },
      "text/plain": [
       "calculate covariances:   0%|                                                                                  …"
      ]
     },
     "metadata": {},
     "output_type": "display_data"
    },
    {
     "data": {
      "application/vnd.jupyter.widget-view+json": {
       "model_id": "",
       "version_major": 2,
       "version_minor": 0
      },
      "text/plain": [
       "getting output of TICA:   0%|                                                                                 …"
      ]
     },
     "metadata": {},
     "output_type": "display_data"
    },
    {
     "data": {
      "application/vnd.jupyter.widget-view+json": {
       "model_id": "",
       "version_major": 2,
       "version_minor": 0
      },
      "text/plain": [
       "initialize kmeans++ centers:   0%|                                                                            …"
      ]
     },
     "metadata": {},
     "output_type": "display_data"
    },
    {
     "data": {
      "application/vnd.jupyter.widget-view+json": {
       "model_id": "",
       "version_major": 2,
       "version_minor": 0
      },
      "text/plain": [
       "kmeans iterations:   0%|                                                                                      …"
      ]
     },
     "metadata": {},
     "output_type": "display_data"
    },
    {
     "data": {
      "application/vnd.jupyter.widget-view+json": {
       "model_id": "",
       "version_major": 2,
       "version_minor": 0
      },
      "text/plain": [
       "getting output of KmeansClustering:   0%|                                                                     …"
      ]
     },
     "metadata": {},
     "output_type": "display_data"
    },
    {
     "data": {
      "application/vnd.jupyter.widget-view+json": {
       "model_id": "",
       "version_major": 2,
       "version_minor": 0
      },
      "text/plain": [
       "calculate covariances:   0%|                                                                                  …"
      ]
     },
     "metadata": {},
     "output_type": "display_data"
    },
    {
     "data": {
      "application/vnd.jupyter.widget-view+json": {
       "model_id": "",
       "version_major": 2,
       "version_minor": 0
      },
      "text/plain": [
       "getting output of TICA:   0%|                                                                                 …"
      ]
     },
     "metadata": {},
     "output_type": "display_data"
    },
    {
     "data": {
      "application/vnd.jupyter.widget-view+json": {
       "model_id": "",
       "version_major": 2,
       "version_minor": 0
      },
      "text/plain": [
       "initialize kmeans++ centers:   0%|                                                                            …"
      ]
     },
     "metadata": {},
     "output_type": "display_data"
    },
    {
     "data": {
      "application/vnd.jupyter.widget-view+json": {
       "model_id": "",
       "version_major": 2,
       "version_minor": 0
      },
      "text/plain": [
       "kmeans iterations:   0%|                                                                                      …"
      ]
     },
     "metadata": {},
     "output_type": "display_data"
    },
    {
     "data": {
      "application/vnd.jupyter.widget-view+json": {
       "model_id": "",
       "version_major": 2,
       "version_minor": 0
      },
      "text/plain": [
       "getting output of KmeansClustering:   0%|                                                                     …"
      ]
     },
     "metadata": {},
     "output_type": "display_data"
    },
    {
     "data": {
      "application/vnd.jupyter.widget-view+json": {
       "model_id": "",
       "version_major": 2,
       "version_minor": 0
      },
      "text/plain": [
       "calculate covariances:   0%|                                                                                  …"
      ]
     },
     "metadata": {},
     "output_type": "display_data"
    },
    {
     "data": {
      "application/vnd.jupyter.widget-view+json": {
       "model_id": "",
       "version_major": 2,
       "version_minor": 0
      },
      "text/plain": [
       "getting output of TICA:   0%|                                                                                 …"
      ]
     },
     "metadata": {},
     "output_type": "display_data"
    },
    {
     "data": {
      "application/vnd.jupyter.widget-view+json": {
       "model_id": "",
       "version_major": 2,
       "version_minor": 0
      },
      "text/plain": [
       "initialize kmeans++ centers:   0%|                                                                            …"
      ]
     },
     "metadata": {},
     "output_type": "display_data"
    },
    {
     "data": {
      "application/vnd.jupyter.widget-view+json": {
       "model_id": "",
       "version_major": 2,
       "version_minor": 0
      },
      "text/plain": [
       "kmeans iterations:   0%|                                                                                      …"
      ]
     },
     "metadata": {},
     "output_type": "display_data"
    },
    {
     "data": {
      "application/vnd.jupyter.widget-view+json": {
       "model_id": "",
       "version_major": 2,
       "version_minor": 0
      },
      "text/plain": [
       "getting output of KmeansClustering:   0%|                                                                     …"
      ]
     },
     "metadata": {},
     "output_type": "display_data"
    },
    {
     "data": {
      "application/vnd.jupyter.widget-view+json": {
       "model_id": "",
       "version_major": 2,
       "version_minor": 0
      },
      "text/plain": [
       "calculate covariances:   0%|                                                                                  …"
      ]
     },
     "metadata": {},
     "output_type": "display_data"
    },
    {
     "data": {
      "application/vnd.jupyter.widget-view+json": {
       "model_id": "",
       "version_major": 2,
       "version_minor": 0
      },
      "text/plain": [
       "getting output of TICA:   0%|                                                                                 …"
      ]
     },
     "metadata": {},
     "output_type": "display_data"
    },
    {
     "data": {
      "application/vnd.jupyter.widget-view+json": {
       "model_id": "",
       "version_major": 2,
       "version_minor": 0
      },
      "text/plain": [
       "initialize kmeans++ centers:   0%|                                                                            …"
      ]
     },
     "metadata": {},
     "output_type": "display_data"
    },
    {
     "data": {
      "application/vnd.jupyter.widget-view+json": {
       "model_id": "",
       "version_major": 2,
       "version_minor": 0
      },
      "text/plain": [
       "kmeans iterations:   0%|                                                                                      …"
      ]
     },
     "metadata": {},
     "output_type": "display_data"
    },
    {
     "data": {
      "application/vnd.jupyter.widget-view+json": {
       "model_id": "",
       "version_major": 2,
       "version_minor": 0
      },
      "text/plain": [
       "getting output of KmeansClustering:   0%|                                                                     …"
      ]
     },
     "metadata": {},
     "output_type": "display_data"
    }
   ],
   "source": [
    "models = {}\n",
    "for row_num in [0, 1, 2, 3]:\n",
    "\n",
    "    hp_ix = mod_defs.hp_index[row_num]\n",
    "    hp_rank = mod_defs.hp_rank[row_num]\n",
    "\n",
    "    lag = mod_defs.lag[row_num]\n",
    "    num_evs = mod_defs.k[row_num]\n",
    "    feat_kws = get_feature_dict(mod_defs, row_num)\n",
    "    tica_kws = get_kws_dict(mod_defs, row_num, 'tica')\n",
    "    cluster_kws = get_kws_dict(mod_defs, row_num, 'cluster')\n",
    "\n",
    "    # Fit model\n",
    "    model = MSM(lag = lag, num_evs=num_evs, trajs=trajs, top=top,  feature_kws=feat_kws, tica_kws=tica_kws, cluster_kws=cluster_kws, seed=seed)\n",
    "    model.fit()\n",
    "    models[row_num] = model\n"
   ]
  },
  {
   "cell_type": "markdown",
   "id": "942ad01b-fafd-4c62-a266-923fc0db741b",
   "metadata": {},
   "source": [
    "Coarsegrain and extract structures"
   ]
  },
  {
   "cell_type": "code",
   "execution_count": 57,
   "id": "e83a6c7c-5e55-47ab-9e9b-8ea65efde719",
   "metadata": {},
   "outputs": [
    {
     "data": {
      "application/vnd.jupyter.widget-view+json": {
       "model_id": "",
       "version_major": 2,
       "version_minor": 0
      },
      "text/plain": [
       "Obtaining file info:   0%|                                                                                    …"
      ]
     },
     "metadata": {},
     "output_type": "display_data"
    },
    {
     "data": {
      "application/vnd.jupyter.widget-view+json": {
       "model_id": "",
       "version_major": 2,
       "version_minor": 0
      },
      "text/plain": [
       "Obtaining file info:   0%|                                                                                    …"
      ]
     },
     "metadata": {},
     "output_type": "display_data"
    },
    {
     "data": {
      "application/vnd.jupyter.widget-view+json": {
       "model_id": "",
       "version_major": 2,
       "version_minor": 0
      },
      "text/plain": [
       "Obtaining file info:   0%|                                                                                    …"
      ]
     },
     "metadata": {},
     "output_type": "display_data"
    },
    {
     "data": {
      "application/vnd.jupyter.widget-view+json": {
       "model_id": "",
       "version_major": 2,
       "version_minor": 0
      },
      "text/plain": [
       "Obtaining file info:   0%|                                                                                    …"
      ]
     },
     "metadata": {},
     "output_type": "display_data"
    },
    {
     "data": {
      "application/vnd.jupyter.widget-view+json": {
       "model_id": "",
       "version_major": 2,
       "version_minor": 0
      },
      "text/plain": [
       "Obtaining file info:   0%|                                                                                    …"
      ]
     },
     "metadata": {},
     "output_type": "display_data"
    },
    {
     "data": {
      "application/vnd.jupyter.widget-view+json": {
       "model_id": "",
       "version_major": 2,
       "version_minor": 0
      },
      "text/plain": [
       "Obtaining file info:   0%|                                                                                    …"
      ]
     },
     "metadata": {},
     "output_type": "display_data"
    },
    {
     "data": {
      "application/vnd.jupyter.widget-view+json": {
       "model_id": "",
       "version_major": 2,
       "version_minor": 0
      },
      "text/plain": [
       "Obtaining file info:   0%|                                                                                    …"
      ]
     },
     "metadata": {},
     "output_type": "display_data"
    },
    {
     "data": {
      "application/vnd.jupyter.widget-view+json": {
       "model_id": "",
       "version_major": 2,
       "version_minor": 0
      },
      "text/plain": [
       "Obtaining file info:   0%|                                                                                    …"
      ]
     },
     "metadata": {},
     "output_type": "display_data"
    },
    {
     "data": {
      "application/vnd.jupyter.widget-view+json": {
       "model_id": "",
       "version_major": 2,
       "version_minor": 0
      },
      "text/plain": [
       "Obtaining file info:   0%|                                                                                    …"
      ]
     },
     "metadata": {},
     "output_type": "display_data"
    },
    {
     "data": {
      "application/vnd.jupyter.widget-view+json": {
       "model_id": "",
       "version_major": 2,
       "version_minor": 0
      },
      "text/plain": [
       "Obtaining file info:   0%|                                                                                    …"
      ]
     },
     "metadata": {},
     "output_type": "display_data"
    },
    {
     "data": {
      "application/vnd.jupyter.widget-view+json": {
       "model_id": "",
       "version_major": 2,
       "version_minor": 0
      },
      "text/plain": [
       "Obtaining file info:   0%|                                                                                    …"
      ]
     },
     "metadata": {},
     "output_type": "display_data"
    },
    {
     "data": {
      "application/vnd.jupyter.widget-view+json": {
       "model_id": "",
       "version_major": 2,
       "version_minor": 0
      },
      "text/plain": [
       "Obtaining file info:   0%|                                                                                    …"
      ]
     },
     "metadata": {},
     "output_type": "display_data"
    }
   ],
   "source": [
    "top.save_pdb(f'{protein_dir}/top.pdb') # For easy reference\n",
    "num_procs = 3\n",
    "for k, model in models.items():\n",
    "    pcca = model.msm.pcca(m=num_procs)\n",
    "    sd = pcca.coarse_grained_stationary_probability\n",
    "    state_ix = np.argsort(sd)[::-1]\n",
    "    \n",
    "    ms_dist = model.msm.metastable_distributions\n",
    "    ms_dist = ms_dist[state_ix, :]\n",
    "    \n",
    "    samples = [pm.coordinates.save_traj(traj_paths_str['trajs'], idist, outfile=None, top=traj_paths_str['top'])\n",
    "              for idist in model.msm.sample_by_distributions(ms_dist, num_structures)]\n",
    "    \n",
    "    reference = md.load(f\"{protein_dir}/{xtal[protein_dir]}\")\n",
    "    reference.save_pdb(f\"{protein_dir}/xtal.pdb\")\n",
    "    ref_ix = reference.top.select('name CA')\n",
    "    for i, traj in enumerate(samples):\n",
    "        \n",
    "        ix = traj.top.select('name CA')\n",
    "        \n",
    "        traj.superpose(reference=reference, atom_indices=ix, ref_atom_indices=ref_ix)\n",
    "        traj.save_xtc(f\"{protein_dir}/model_{k}_state_{i}.xtc\")"
   ]
  },
  {
   "cell_type": "code",
   "execution_count": 68,
   "id": "259c91fe-2aab-4895-b3d1-1b4e2949bfee",
   "metadata": {},
   "outputs": [],
   "source": [
    "import seaborn as sns"
   ]
  },
  {
   "cell_type": "code",
   "execution_count": 75,
   "id": "6d1253d7-9a6e-4bcc-b705-e847c68182cb",
   "metadata": {},
   "outputs": [
    {
     "ename": "ValueError",
     "evalue": "x and y must be the same size",
     "output_type": "error",
     "traceback": [
      "\u001b[0;31m---------------------------------------------------------------------------\u001b[0m",
      "\u001b[0;31mValueError\u001b[0m                                Traceback (most recent call last)",
      "\u001b[0;32m/var/folders/b1/0b53wj0509376104__2tttb00000gn/T/ipykernel_73841/272606350.py\u001b[0m in \u001b[0;36m<module>\u001b[0;34m\u001b[0m\n\u001b[1;32m      6\u001b[0m \u001b[0mstate_1\u001b[0m \u001b[0;34m=\u001b[0m \u001b[0mmodels\u001b[0m\u001b[0;34m[\u001b[0m\u001b[0;36m3\u001b[0m\u001b[0;34m]\u001b[0m\u001b[0;34m.\u001b[0m\u001b[0mmsm\u001b[0m\u001b[0;34m.\u001b[0m\u001b[0mmetastable_assignments\u001b[0m \u001b[0;34m==\u001b[0m \u001b[0;36m0\u001b[0m\u001b[0;34m\u001b[0m\u001b[0;34m\u001b[0m\u001b[0m\n\u001b[1;32m      7\u001b[0m \u001b[0mstate_2\u001b[0m \u001b[0;34m=\u001b[0m \u001b[0mmodels\u001b[0m\u001b[0;34m[\u001b[0m\u001b[0;36m3\u001b[0m\u001b[0;34m]\u001b[0m\u001b[0;34m.\u001b[0m\u001b[0mmsm\u001b[0m\u001b[0;34m.\u001b[0m\u001b[0mmetastable_assignments\u001b[0m \u001b[0;34m==\u001b[0m \u001b[0;36m1\u001b[0m\u001b[0;34m\u001b[0m\u001b[0;34m\u001b[0m\u001b[0m\n\u001b[0;32m----> 8\u001b[0;31m \u001b[0mplt\u001b[0m\u001b[0;34m.\u001b[0m\u001b[0mscatter\u001b[0m\u001b[0;34m(\u001b[0m\u001b[0mccs\u001b[0m\u001b[0;34m[\u001b[0m\u001b[0mmodels\u001b[0m\u001b[0;34m[\u001b[0m\u001b[0;36m3\u001b[0m\u001b[0;34m]\u001b[0m\u001b[0;34m.\u001b[0m\u001b[0mmsm\u001b[0m\u001b[0;34m.\u001b[0m\u001b[0mmetastable_assignments\u001b[0m\u001b[0;34m,\u001b[0m \u001b[0;36m0\u001b[0m\u001b[0;34m]\u001b[0m\u001b[0;34m,\u001b[0m \u001b[0mnp\u001b[0m\u001b[0;34m.\u001b[0m\u001b[0mrepeat\u001b[0m\u001b[0;34m(\u001b[0m\u001b[0;36m1000\u001b[0m\u001b[0;34m,\u001b[0m \u001b[0mnp\u001b[0m\u001b[0;34m.\u001b[0m\u001b[0msum\u001b[0m\u001b[0;34m(\u001b[0m\u001b[0mstate_1\u001b[0m\u001b[0;34m)\u001b[0m\u001b[0;34m)\u001b[0m\u001b[0;34m,\u001b[0m \u001b[0mc\u001b[0m\u001b[0;34m=\u001b[0m\u001b[0;34m'k'\u001b[0m\u001b[0;34m)\u001b[0m\u001b[0;34m\u001b[0m\u001b[0;34m\u001b[0m\u001b[0m\n\u001b[0m",
      "\u001b[0;32m~/opt/miniconda3/envs/msmsense/lib/python3.8/site-packages/matplotlib/pyplot.py\u001b[0m in \u001b[0;36mscatter\u001b[0;34m(x, y, s, c, marker, cmap, norm, vmin, vmax, alpha, linewidths, edgecolors, plotnonfinite, data, **kwargs)\u001b[0m\n\u001b[1;32m   3066\u001b[0m         \u001b[0mvmin\u001b[0m\u001b[0;34m=\u001b[0m\u001b[0;32mNone\u001b[0m\u001b[0;34m,\u001b[0m \u001b[0mvmax\u001b[0m\u001b[0;34m=\u001b[0m\u001b[0;32mNone\u001b[0m\u001b[0;34m,\u001b[0m \u001b[0malpha\u001b[0m\u001b[0;34m=\u001b[0m\u001b[0;32mNone\u001b[0m\u001b[0;34m,\u001b[0m \u001b[0mlinewidths\u001b[0m\u001b[0;34m=\u001b[0m\u001b[0;32mNone\u001b[0m\u001b[0;34m,\u001b[0m \u001b[0;34m*\u001b[0m\u001b[0;34m,\u001b[0m\u001b[0;34m\u001b[0m\u001b[0;34m\u001b[0m\u001b[0m\n\u001b[1;32m   3067\u001b[0m         edgecolors=None, plotnonfinite=False, data=None, **kwargs):\n\u001b[0;32m-> 3068\u001b[0;31m     __ret = gca().scatter(\n\u001b[0m\u001b[1;32m   3069\u001b[0m         \u001b[0mx\u001b[0m\u001b[0;34m,\u001b[0m \u001b[0my\u001b[0m\u001b[0;34m,\u001b[0m \u001b[0ms\u001b[0m\u001b[0;34m=\u001b[0m\u001b[0ms\u001b[0m\u001b[0;34m,\u001b[0m \u001b[0mc\u001b[0m\u001b[0;34m=\u001b[0m\u001b[0mc\u001b[0m\u001b[0;34m,\u001b[0m \u001b[0mmarker\u001b[0m\u001b[0;34m=\u001b[0m\u001b[0mmarker\u001b[0m\u001b[0;34m,\u001b[0m \u001b[0mcmap\u001b[0m\u001b[0;34m=\u001b[0m\u001b[0mcmap\u001b[0m\u001b[0;34m,\u001b[0m \u001b[0mnorm\u001b[0m\u001b[0;34m=\u001b[0m\u001b[0mnorm\u001b[0m\u001b[0;34m,\u001b[0m\u001b[0;34m\u001b[0m\u001b[0;34m\u001b[0m\u001b[0m\n\u001b[1;32m   3070\u001b[0m         \u001b[0mvmin\u001b[0m\u001b[0;34m=\u001b[0m\u001b[0mvmin\u001b[0m\u001b[0;34m,\u001b[0m \u001b[0mvmax\u001b[0m\u001b[0;34m=\u001b[0m\u001b[0mvmax\u001b[0m\u001b[0;34m,\u001b[0m \u001b[0malpha\u001b[0m\u001b[0;34m=\u001b[0m\u001b[0malpha\u001b[0m\u001b[0;34m,\u001b[0m \u001b[0mlinewidths\u001b[0m\u001b[0;34m=\u001b[0m\u001b[0mlinewidths\u001b[0m\u001b[0;34m,\u001b[0m\u001b[0;34m\u001b[0m\u001b[0;34m\u001b[0m\u001b[0m\n",
      "\u001b[0;32m~/opt/miniconda3/envs/msmsense/lib/python3.8/site-packages/matplotlib/__init__.py\u001b[0m in \u001b[0;36minner\u001b[0;34m(ax, data, *args, **kwargs)\u001b[0m\n\u001b[1;32m   1359\u001b[0m     \u001b[0;32mdef\u001b[0m \u001b[0minner\u001b[0m\u001b[0;34m(\u001b[0m\u001b[0max\u001b[0m\u001b[0;34m,\u001b[0m \u001b[0;34m*\u001b[0m\u001b[0margs\u001b[0m\u001b[0;34m,\u001b[0m \u001b[0mdata\u001b[0m\u001b[0;34m=\u001b[0m\u001b[0;32mNone\u001b[0m\u001b[0;34m,\u001b[0m \u001b[0;34m**\u001b[0m\u001b[0mkwargs\u001b[0m\u001b[0;34m)\u001b[0m\u001b[0;34m:\u001b[0m\u001b[0;34m\u001b[0m\u001b[0;34m\u001b[0m\u001b[0m\n\u001b[1;32m   1360\u001b[0m         \u001b[0;32mif\u001b[0m \u001b[0mdata\u001b[0m \u001b[0;32mis\u001b[0m \u001b[0;32mNone\u001b[0m\u001b[0;34m:\u001b[0m\u001b[0;34m\u001b[0m\u001b[0;34m\u001b[0m\u001b[0m\n\u001b[0;32m-> 1361\u001b[0;31m             \u001b[0;32mreturn\u001b[0m \u001b[0mfunc\u001b[0m\u001b[0;34m(\u001b[0m\u001b[0max\u001b[0m\u001b[0;34m,\u001b[0m \u001b[0;34m*\u001b[0m\u001b[0mmap\u001b[0m\u001b[0;34m(\u001b[0m\u001b[0msanitize_sequence\u001b[0m\u001b[0;34m,\u001b[0m \u001b[0margs\u001b[0m\u001b[0;34m)\u001b[0m\u001b[0;34m,\u001b[0m \u001b[0;34m**\u001b[0m\u001b[0mkwargs\u001b[0m\u001b[0;34m)\u001b[0m\u001b[0;34m\u001b[0m\u001b[0;34m\u001b[0m\u001b[0m\n\u001b[0m\u001b[1;32m   1362\u001b[0m \u001b[0;34m\u001b[0m\u001b[0m\n\u001b[1;32m   1363\u001b[0m         \u001b[0mbound\u001b[0m \u001b[0;34m=\u001b[0m \u001b[0mnew_sig\u001b[0m\u001b[0;34m.\u001b[0m\u001b[0mbind\u001b[0m\u001b[0;34m(\u001b[0m\u001b[0max\u001b[0m\u001b[0;34m,\u001b[0m \u001b[0;34m*\u001b[0m\u001b[0margs\u001b[0m\u001b[0;34m,\u001b[0m \u001b[0;34m**\u001b[0m\u001b[0mkwargs\u001b[0m\u001b[0;34m)\u001b[0m\u001b[0;34m\u001b[0m\u001b[0;34m\u001b[0m\u001b[0m\n",
      "\u001b[0;32m~/opt/miniconda3/envs/msmsense/lib/python3.8/site-packages/matplotlib/axes/_axes.py\u001b[0m in \u001b[0;36mscatter\u001b[0;34m(self, x, y, s, c, marker, cmap, norm, vmin, vmax, alpha, linewidths, edgecolors, plotnonfinite, **kwargs)\u001b[0m\n\u001b[1;32m   4496\u001b[0m         \u001b[0my\u001b[0m \u001b[0;34m=\u001b[0m \u001b[0mnp\u001b[0m\u001b[0;34m.\u001b[0m\u001b[0mma\u001b[0m\u001b[0;34m.\u001b[0m\u001b[0mravel\u001b[0m\u001b[0;34m(\u001b[0m\u001b[0my\u001b[0m\u001b[0;34m)\u001b[0m\u001b[0;34m\u001b[0m\u001b[0;34m\u001b[0m\u001b[0m\n\u001b[1;32m   4497\u001b[0m         \u001b[0;32mif\u001b[0m \u001b[0mx\u001b[0m\u001b[0;34m.\u001b[0m\u001b[0msize\u001b[0m \u001b[0;34m!=\u001b[0m \u001b[0my\u001b[0m\u001b[0;34m.\u001b[0m\u001b[0msize\u001b[0m\u001b[0;34m:\u001b[0m\u001b[0;34m\u001b[0m\u001b[0;34m\u001b[0m\u001b[0m\n\u001b[0;32m-> 4498\u001b[0;31m             \u001b[0;32mraise\u001b[0m \u001b[0mValueError\u001b[0m\u001b[0;34m(\u001b[0m\u001b[0;34m\"x and y must be the same size\"\u001b[0m\u001b[0;34m)\u001b[0m\u001b[0;34m\u001b[0m\u001b[0;34m\u001b[0m\u001b[0m\n\u001b[0m\u001b[1;32m   4499\u001b[0m \u001b[0;34m\u001b[0m\u001b[0m\n\u001b[1;32m   4500\u001b[0m         \u001b[0;32mif\u001b[0m \u001b[0ms\u001b[0m \u001b[0;32mis\u001b[0m \u001b[0;32mNone\u001b[0m\u001b[0;34m:\u001b[0m\u001b[0;34m\u001b[0m\u001b[0;34m\u001b[0m\u001b[0m\n",
      "\u001b[0;31mValueError\u001b[0m: x and y must be the same size"
     ]
    },
    {
     "data": {
      "image/png": "[encoded data removed]",
      "text/plain": [
       "<Figure size 402.375x360 with 1 Axes>"
      ]
     },
     "metadata": {
      "needs_background": "light"
     },
     "output_type": "display_data"
    }
   ],
   "source": [
    "Y = np.concatenate(models[3].ttrajs, axis=0)\n",
    "sns.displot(Y, alpha=0.5)\n",
    "\n",
    "# pm.plots.plot_free_energy(Y[:, 0], Y[:, 1], cbar=False, alpha=0.5)\n",
    "# ccs = models[1].cluster.cluster_centers_\n",
    "state_1 = models[3].msm.metastable_assignments == 0\n",
    "state_2 = models[3].msm.metastable_assignments == 1\n",
    "plt.scatter(ccs[models[3].msm.metastable_assignments, 0], np.repeat(1000, np.sum(state_1)), c='k')"
   ]
  },
  {
   "cell_type": "code",
   "execution_count": 60,
   "id": "b19f3f52-198c-4b10-a305-aa6902d83408",
   "metadata": {},
   "outputs": [
    {
     "data": {
      "text/plain": [
       "'/Volumes/REA/MD/12FF/strided/DESRES-Trajectory_1FME-0-protein_xtc_1ns/1FME-0-protein/protein.pdb'"
      ]
     },
     "execution_count": 60,
     "metadata": {},
     "output_type": "execute_result"
    }
   ],
   "source": [
    "traj_paths_str['top']"
   ]
  },
  {
   "cell_type": "code",
   "execution_count": 64,
   "id": "5b5fd8af-99b9-47dc-a8cc-d483df70cc51",
   "metadata": {},
   "outputs": [
    {
     "name": "stdout",
     "output_type": "stream",
     "text": [
      "13-10-21 19:08:56 pyemma.msm.estimators.maximum_likelihood_msm.MaximumLikelihoodMSM[85] WARNING  Requested coarse-grained model with 4 metastable states at lag=40. The ratio of relaxation timescales between 4 and 5 states is only 1.2097414349395306 while we recommend at least 1.5. It is possible that the resulting HMM is inaccurate. Handle with caution.\n"
     ]
    },
    {
     "name": "stderr",
     "output_type": "stream",
     "text": [
      "WARNING:pyemma.msm.estimators.maximum_likelihood_msm.MaximumLikelihoodMSM[85]:Requested coarse-grained model with 4 metastable states at lag=40. The ratio of relaxation timescales between 4 and 5 states is only 1.2097414349395306 while we recommend at least 1.5. It is possible that the resulting HMM is inaccurate. Handle with caution.\n"
     ]
    }
   ],
   "source": [
    "hmm = models[0].msm.coarse_grain(4)"
   ]
  },
  {
   "cell_type": "code",
   "execution_count": null,
   "id": "454f3a19-064b-475a-9ee3-78dc92ffef41",
   "metadata": {},
   "outputs": [],
   "source": []
  }
 ],
 "metadata": {
  "kernelspec": {
   "display_name": "Python 3 (ipykernel)",
   "language": "python",
   "name": "python3"
  },
  "language_info": {
   "codemirror_mode": {
    "name": "ipython",
    "version": 3
   },
   "file_extension": ".py",
   "mimetype": "text/x-python",
   "name": "python",
   "nbconvert_exporter": "python",
   "pygments_lexer": "ipython3",
   "version": "3.8.0"
  }
 },
 "nbformat": 4,
 "nbformat_minor": 5
}
