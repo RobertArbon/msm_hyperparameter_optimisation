{
 "cells": [
  {
   "cell_type": "markdown",
   "id": "319b7d1f-fda4-47d2-98cb-30b861cb6349",
   "metadata": {},
   "source": [
    "# Introduction\n",
    "\n",
    "This notebook will select models using two different methods.  \n",
    "\n",
    "**Method 1**\n",
    "\n",
    "The best VAMP scores at a given lag and fixed number of implied processes. \n",
    "\n",
    "**Method 2**\n",
    "\n",
    "The best joint ranked VAMP and timescale gap. \n",
    "\n"
   ]
  },
  {
   "cell_type": "code",
   "execution_count": 1,
   "id": "d4c59e44-f8ed-4385-bc2e-caf2c4dba19f",
   "metadata": {},
   "outputs": [],
   "source": [
    "# Method 1"
   ]
  },
  {
   "cell_type": "code",
   "execution_count": null,
   "id": "969ec15b-1e4b-4a1d-bbc5-811f220a73c5",
   "metadata": {},
   "outputs": [],
   "source": []
  }
 ],
 "metadata": {
  "kernelspec": {
   "display_name": "Python 3 (ipykernel)",
   "language": "python",
   "name": "python3"
  },
  "language_info": {
   "codemirror_mode": {
    "name": "ipython",
    "version": 3
   },
   "file_extension": ".py",
   "mimetype": "text/x-python",
   "name": "python",
   "nbconvert_exporter": "python",
   "pygments_lexer": "ipython3",
   "version": "3.8.0"
  }
 },
 "nbformat": 4,
 "nbformat_minor": 5
}
