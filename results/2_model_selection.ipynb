{
 "cells": [
  {
   "cell_type": "code",
   "execution_count": 1,
   "id": "027744c3-d356-4457-b85a-6faca5fdd55a",
   "metadata": {},
   "outputs": [],
   "source": [
    "import matplotlib.pyplot as plt\n",
    "import pandas as pd\n",
    "import numpy as np\n",
    "from pathlib import Path\n",
    "import seaborn as sns\n",
    "import functions as funcs"
   ]
  },
  {
   "cell_type": "markdown",
   "id": "319b7d1f-fda4-47d2-98cb-30b861cb6349",
   "metadata": {},
   "source": [
    "# Introduction\n",
    "\n",
    "This notebook will select models using two different methods.  \n",
    "\n",
    "**Method 1**\n",
    "\n",
    "The best VAMP scores at a given lag and fixed number of implied processes. \n",
    "\n",
    "**Method 2**\n",
    "\n",
    "The best joint ranked VAMP and timescale gap. \n",
    "\n"
   ]
  },
  {
   "cell_type": "code",
   "execution_count": 2,
   "id": "994becfa-60d6-45cc-87c1-0d683f155a30",
   "metadata": {},
   "outputs": [],
   "source": [
    "vamps = pd.read_hdf('./summaries/vamps_bs_summary.h5')\n",
    "vampe = pd.read_hdf('./summaries/vampe_bs_summary.h5')\n",
    "\n",
    "ratios = pd.read_hdf('./summaries/ts_ratio_bs_summary.h5')\n",
    "hps = pd.read_hdf('./summaries/hp_summary.h5')\n",
    "chosen_lags = pd.read_hdf('chosen_lag_times.h5')\n",
    "chosen_ks = pd.read_hdf('chosen_num_dominant.h5')\n",
    "lags = dict(zip(chosen_lags['protein'], chosen_lags['lag']))\n",
    "num_its = dict(zip(chosen_ks['protein'], chosen_ks['num_its']))"
   ]
  },
  {
   "cell_type": "code",
   "execution_count": 3,
   "id": "bb71f619-3254-4c7b-ad4a-c71d91bb4447",
   "metadata": {},
   "outputs": [
    {
     "data": {
      "text/html": [
       "<div>\n",
       "<style scoped>\n",
       "    .dataframe tbody tr th:only-of-type {\n",
       "        vertical-align: middle;\n",
       "    }\n",
       "\n",
       "    .dataframe tbody tr th {\n",
       "        vertical-align: top;\n",
       "    }\n",
       "\n",
       "    .dataframe thead th {\n",
       "        text-align: right;\n",
       "    }\n",
       "</style>\n",
       "<table border=\"1\" class=\"dataframe\">\n",
       "  <thead>\n",
       "    <tr style=\"text-align: right;\">\n",
       "      <th></th>\n",
       "      <th>protein</th>\n",
       "      <th>hp_index</th>\n",
       "      <th>lag</th>\n",
       "      <th>num_its</th>\n",
       "      <th>median</th>\n",
       "      <th>lb_diff</th>\n",
       "      <th>ub_diff</th>\n",
       "    </tr>\n",
       "  </thead>\n",
       "  <tbody>\n",
       "    <tr>\n",
       "      <th>0</th>\n",
       "      <td>BBA</td>\n",
       "      <td>0.0</td>\n",
       "      <td>10.0</td>\n",
       "      <td>2.0</td>\n",
       "      <td>1.705263</td>\n",
       "      <td>0.660876</td>\n",
       "      <td>1.315530</td>\n",
       "    </tr>\n",
       "    <tr>\n",
       "      <th>1</th>\n",
       "      <td>BBA</td>\n",
       "      <td>0.0</td>\n",
       "      <td>10.0</td>\n",
       "      <td>3.0</td>\n",
       "      <td>1.408334</td>\n",
       "      <td>0.372168</td>\n",
       "      <td>1.497887</td>\n",
       "    </tr>\n",
       "    <tr>\n",
       "      <th>2</th>\n",
       "      <td>BBA</td>\n",
       "      <td>0.0</td>\n",
       "      <td>10.0</td>\n",
       "      <td>4.0</td>\n",
       "      <td>1.170877</td>\n",
       "      <td>0.143348</td>\n",
       "      <td>0.827098</td>\n",
       "    </tr>\n",
       "    <tr>\n",
       "      <th>3</th>\n",
       "      <td>BBA</td>\n",
       "      <td>0.0</td>\n",
       "      <td>10.0</td>\n",
       "      <td>5.0</td>\n",
       "      <td>1.175784</td>\n",
       "      <td>0.138526</td>\n",
       "      <td>0.475747</td>\n",
       "    </tr>\n",
       "    <tr>\n",
       "      <th>4</th>\n",
       "      <td>BBA</td>\n",
       "      <td>0.0</td>\n",
       "      <td>10.0</td>\n",
       "      <td>6.0</td>\n",
       "      <td>1.162832</td>\n",
       "      <td>0.148188</td>\n",
       "      <td>0.554509</td>\n",
       "    </tr>\n",
       "  </tbody>\n",
       "</table>\n",
       "</div>"
      ],
      "text/plain": [
       "  protein  hp_index   lag  num_its    median   lb_diff   ub_diff\n",
       "0     BBA       0.0  10.0      2.0  1.705263  0.660876  1.315530\n",
       "1     BBA       0.0  10.0      3.0  1.408334  0.372168  1.497887\n",
       "2     BBA       0.0  10.0      4.0  1.170877  0.143348  0.827098\n",
       "3     BBA       0.0  10.0      5.0  1.175784  0.138526  0.475747\n",
       "4     BBA       0.0  10.0      6.0  1.162832  0.148188  0.554509"
      ]
     },
     "execution_count": 3,
     "metadata": {},
     "output_type": "execute_result"
    }
   ],
   "source": [
    "ratios.head()"
   ]
  },
  {
   "cell_type": "code",
   "execution_count": 4,
   "id": "aa33c771-0d8e-4e8b-815a-7598707ab804",
   "metadata": {},
   "outputs": [],
   "source": [
    "def select_rows_by_dict(df, select_dict, selector):\n",
    "    ix = df.apply(lambda x: x[selector] == select_dict[x['protein']], axis=1)\n",
    "    return df.loc[ix, :].copy()\n",
    "\n",
    "\n",
    "vamps = select_rows_by_dict(vamps, lags, 'lag')\n",
    "ratios = select_rows_by_dict(ratios, lags, 'lag')\n",
    "vampe = select_rows_by_dict(vampe, lags, 'lag')"
   ]
  },
  {
   "cell_type": "markdown",
   "id": "b8664114-c154-489a-9319-08796b7a0751",
   "metadata": {},
   "source": [
    "# Method 1\n",
    "\n",
    "We'll select the best models per feature based on the selected values of $k$ (`num_its`) and lag time. Also include the wors"
   ]
  },
  {
   "cell_type": "code",
   "execution_count": 7,
   "id": "969ec15b-1e4b-4a1d-bbc5-811f220a73c5",
   "metadata": {},
   "outputs": [],
   "source": [
    "df = select_rows_by_dict(vamps, num_its, 'num_its')\n",
    "df = df.merge(hps.loc[:, ['protein', 'hp_index', 'feature']], on=['protein', 'hp_index'])\n",
    "df['feature_vamp_rank'] = df.groupby(['protein', 'feature'])['median'].rank(ascending=False)\n",
    "\n",
    "df['overall_vamp_rank'] = df.groupby(['protein'])['median'].rank(ascending=False)\n",
    "\n",
    "m1_selection = df.loc[df.feature_vamp_rank == 1.0, :].copy()\n",
    "\n",
    "# grps = df.groupby(['protein'], as_index=False)\n",
    "# worst = grps.apply(lambda g: g[g['overall_vamp_rank']==g['overall_vamp_rank'].max()])\n",
    "# worst.reset_index(inplace=True, drop=True)\n",
    "\n",
    "\n",
    "# m1_selection = pd.concat([best_per_feature, worst], axis=0)\n",
    "m1_selection.drop(labels=['feature'], inplace=True, axis=1)\n",
    "m1_selection = m1_selection.merge(hps, on=['protein', 'hp_index'], how='left')\n",
    "m1_selection.sort_values(by=['protein', 'overall_vamp_rank'], inplace=True)\n",
    "m1_selection.to_hdf('./summaries/m1_model_selection.h5', key='m1_selection')\n",
    "\n"
   ]
  },
  {
   "cell_type": "code",
   "execution_count": 7,
   "id": "7a80bd60-255c-4475-a1a5-75086965632e",
   "metadata": {},
   "outputs": [],
   "source": [
    "# old_selection = pd.read_hdf('best_hps_per_feature.h5')\n",
    "\n",
    "# pd.concat([m1_selection.loc[:, ['overall_vamp_rank', 'hp_index', 'protein']], old_selection.loc[:, ['hp_rank', 'hp_index', 'protein']]], axis=1)"
   ]
  },
  {
   "cell_type": "markdown",
   "id": "4c4000d8-2ccd-49a3-99a2-aaeb8b93e58c",
   "metadata": {},
   "source": [
    "# Method 2\n",
    "\n",
    "Best VAMP scores conditional on timescale gap threshold"
   ]
  },
  {
   "cell_type": "code",
   "execution_count": 10,
   "id": "140270bb-2f1d-4876-ba96-67cb0aefcd29",
   "metadata": {},
   "outputs": [],
   "source": [
    "threshold = 0.98 # Percentage of timescale gaps to consider. hopefully this give a range of different features. "
   ]
  },
  {
   "cell_type": "code",
   "execution_count": 19,
   "id": "c1491d55-3181-4558-8dfb-4582ef0f23e7",
   "metadata": {},
   "outputs": [],
   "source": [
    "df = vamps.merge(ratios, on=['protein', 'hp_index', 'lag', 'num_its'], suffixes=('_vamp', '_gap'))\n",
    "df = df.merge(hps.loc[:, ['protein', 'hp_index', 'feature']], on=['protein', 'hp_index'])\n",
    "\n",
    "m2_selection = []\n",
    "for protein in funcs.PROTEIN_LABELS[:5]+funcs.PROTEIN_LABELS[6:9]:\n",
    "\n",
    "    q = np.quantile(df.loc[df.protein == protein, 'median_gap'].values, q=threshold)\n",
    "    best_gap = df.loc[(df.protein==protein) & (df.median_gap > q), :].copy()\n",
    "\n",
    "    best_gap['feature_vamp_rank'] = best_gap.groupby(['feature'])['median_vamp'].rank(ascending=False)\n",
    "    best_per_feature = best_gap.loc[best_gap.feature_vamp_rank==1.0, :]\n",
    "    m2_selection.append(best_per_feature)\n",
    "    \n",
    "m2_selection = pd.concat(m2_selection, axis=0)\n",
    "m2_selection.drop(labels='feature', axis=1,  inplace=True)\n",
    "\n",
    "m2_selection = m2_selection.merge(hps, on=['protein', 'hp_index'], how='left')\n",
    "\n",
    "m2_selection.to_hdf('./summaries/m2_model_selection.h5', key='m2_selection')"
   ]
  },
  {
   "cell_type": "code",
   "execution_count": null,
   "id": "691d7af1-f369-4928-b55a-82f7c7b558f6",
   "metadata": {},
   "outputs": [],
   "source": []
  }
 ],
 "metadata": {
  "kernelspec": {
   "display_name": "Python 3 (ipykernel)",
   "language": "python",
   "name": "python3"
  },
  "language_info": {
   "codemirror_mode": {
    "name": "ipython",
    "version": 3
   },
   "file_extension": ".py",
   "mimetype": "text/x-python",
   "name": "python",
   "nbconvert_exporter": "python",
   "pygments_lexer": "ipython3",
   "version": "3.8.0"
  }
 },
 "nbformat": 4,
 "nbformat_minor": 5
}
