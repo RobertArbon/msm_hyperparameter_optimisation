{
 "cells": [
  {
   "cell_type": "code",
   "execution_count": 1,
   "metadata": {},
   "outputs": [
    {
     "data": {
      "application/vnd.jupyter.widget-view+json": {
       "model_id": "561ada60a3844571aa62a0c4f0ec700c",
       "version_major": 2,
       "version_minor": 0
      },
      "text/plain": []
     },
     "metadata": {},
     "output_type": "display_data"
    }
   ],
   "source": [
    "import matplotlib.pyplot as plt\n",
    "import matplotlib as mpl\n",
    "import numpy as np\n",
    "import pyemma\n",
    "from pyemma.util.contexts import settings\n",
    "import pandas as pd\n",
    "import mdtraj as md\n",
    "\n",
    "from molpx.generate import projection_paths"
   ]
  },
  {
   "cell_type": "code",
   "execution_count": 2,
   "metadata": {},
   "outputs": [],
   "source": [
    "files = ['data/pentapeptide-{:02d}-500ns-impl-solv.xtc'.format(i) for i in range(25)]\n",
    "pdb = 'data/pentapeptide-impl-solv.pdb'"
   ]
  },
  {
   "cell_type": "code",
   "execution_count": 3,
   "metadata": {},
   "outputs": [
    {
     "data": {
      "application/vnd.jupyter.widget-view+json": {
       "model_id": "7289c233641a479fb3a9f3447d654274",
       "version_major": 2,
       "version_minor": 0
      },
      "text/plain": [
       "Obtaining file info:   0%|                                                                                    …"
      ]
     },
     "metadata": {},
     "output_type": "display_data"
    },
    {
     "data": {
      "application/vnd.jupyter.widget-view+json": {
       "model_id": "2b67d36ed9494352b347b7e907e1bf8f",
       "version_major": 2,
       "version_minor": 0
      },
      "text/plain": [
       "getting output of FeatureReader:   0%|                                                                        …"
      ]
     },
     "metadata": {},
     "output_type": "display_data"
    },
    {
     "data": {
      "application/vnd.jupyter.widget-view+json": {
       "model_id": "86788ac608b94337b90a721f3919dfe9",
       "version_major": 2,
       "version_minor": 0
      },
      "text/plain": [
       "Obtaining file info:   0%|                                                                                    …"
      ]
     },
     "metadata": {},
     "output_type": "display_data"
    },
    {
     "data": {
      "application/vnd.jupyter.widget-view+json": {
       "model_id": "a0c68e598a4e48669e3f0c64571686b1",
       "version_major": 2,
       "version_minor": 0
      },
      "text/plain": [
       "getting output of FeatureReader:   0%|                                                                        …"
      ]
     },
     "metadata": {},
     "output_type": "display_data"
    }
   ],
   "source": [
    "k_a = 100\n",
    "k_b = 10\n",
    "k_c = 105\n",
    "\n",
    "\n",
    "torsions_feat = pyemma.coordinates.featurizer(pdb)\n",
    "torsions_feat.add_backbone_torsions(cossin=True, periodic=False)\n",
    "data_a = pyemma.coordinates.load(files, features=torsions_feat)\n",
    "\n",
    "\n",
    "distances_feat = pyemma.coordinates.featurizer(pdb)\n",
    "distances_feat.add_distances(\n",
    "    distances_feat.pairs(distances_feat.select_Backbone(), excluded_neighbors=2), periodic=False)\n",
    "data_b = pyemma.coordinates.load(files, features=distances_feat)"
   ]
  },
  {
   "cell_type": "code",
   "execution_count": 4,
   "metadata": {
    "tags": []
   },
   "outputs": [
    {
     "data": {
      "application/vnd.jupyter.widget-view+json": {
       "model_id": "f022b816057244f3ae8a5bd9864177d1",
       "version_major": 2,
       "version_minor": 0
      },
      "text/plain": [
       "calculate covariances:   0%|                                                                                  …"
      ]
     },
     "metadata": {},
     "output_type": "display_data"
    },
    {
     "data": {
      "application/vnd.jupyter.widget-view+json": {
       "model_id": "84b789a3add8403eb4b7fdc650fa9112",
       "version_major": 2,
       "version_minor": 0
      },
      "text/plain": [
       "getting output of TICA:   0%|                                                                                 …"
      ]
     },
     "metadata": {},
     "output_type": "display_data"
    },
    {
     "data": {
      "application/vnd.jupyter.widget-view+json": {
       "model_id": "4523a8812b8d4a8fa7d5a8cd16ecd9ea",
       "version_major": 2,
       "version_minor": 0
      },
      "text/plain": [
       "initialize kmeans++ centers:   0%|                                                                            …"
      ]
     },
     "metadata": {},
     "output_type": "display_data"
    },
    {
     "data": {
      "application/vnd.jupyter.widget-view+json": {
       "model_id": "d46979c4acbc47afba9fcdf2f077d50c",
       "version_major": 2,
       "version_minor": 0
      },
      "text/plain": [
       "kmeans iterations:   0%|                                                                                      …"
      ]
     },
     "metadata": {},
     "output_type": "display_data"
    },
    {
     "data": {
      "application/vnd.jupyter.widget-view+json": {
       "model_id": "12f2cad74f76403bac1a4340230f3efc",
       "version_major": 2,
       "version_minor": 0
      },
      "text/plain": [
       "getting output of KmeansClustering:   0%|                                                                     …"
      ]
     },
     "metadata": {},
     "output_type": "display_data"
    },
    {
     "data": {
      "application/vnd.jupyter.widget-view+json": {
       "model_id": "6845b997cbea4dd59bf8eca340da294e",
       "version_major": 2,
       "version_minor": 0
      },
      "text/plain": [
       "calculate covariances:   0%|                                                                                  …"
      ]
     },
     "metadata": {},
     "output_type": "display_data"
    },
    {
     "data": {
      "application/vnd.jupyter.widget-view+json": {
       "model_id": "3369e8c5204f481ea4e5a9a514d9cc96",
       "version_major": 2,
       "version_minor": 0
      },
      "text/plain": [
       "getting output of TICA:   0%|                                                                                 …"
      ]
     },
     "metadata": {},
     "output_type": "display_data"
    },
    {
     "data": {
      "application/vnd.jupyter.widget-view+json": {
       "model_id": "43e5a1f32ef24ee7bad3a9b90ea73824",
       "version_major": 2,
       "version_minor": 0
      },
      "text/plain": [
       "initialize kmeans++ centers:   0%|                                                                            …"
      ]
     },
     "metadata": {},
     "output_type": "display_data"
    },
    {
     "data": {
      "application/vnd.jupyter.widget-view+json": {
       "model_id": "34ba40ac2bb244c9a9b71427bf6ef2eb",
       "version_major": 2,
       "version_minor": 0
      },
      "text/plain": [
       "kmeans iterations:   0%|                                                                                      …"
      ]
     },
     "metadata": {},
     "output_type": "display_data"
    },
    {
     "data": {
      "application/vnd.jupyter.widget-view+json": {
       "model_id": "a62e671a93c64b91a1a864ce79ff9269",
       "version_major": 2,
       "version_minor": 0
      },
      "text/plain": [
       "getting output of KmeansClustering:   0%|                                                                     …"
      ]
     },
     "metadata": {},
     "output_type": "display_data"
    },
    {
     "data": {
      "application/vnd.jupyter.widget-view+json": {
       "model_id": "9bb5ba9a5db74ab0869db330bae9305f",
       "version_major": 2,
       "version_minor": 0
      },
      "text/plain": [
       "calculate covariances:   0%|                                                                                  …"
      ]
     },
     "metadata": {},
     "output_type": "display_data"
    },
    {
     "data": {
      "application/vnd.jupyter.widget-view+json": {
       "model_id": "8dee0861474a48e69186bfbaf8ae5255",
       "version_major": 2,
       "version_minor": 0
      },
      "text/plain": [
       "getting output of TICA:   0%|                                                                                 …"
      ]
     },
     "metadata": {},
     "output_type": "display_data"
    },
    {
     "data": {
      "application/vnd.jupyter.widget-view+json": {
       "model_id": "e0c0facbd034430ea6dc1ec1079578c3",
       "version_major": 2,
       "version_minor": 0
      },
      "text/plain": [
       "initialize kmeans++ centers:   0%|                                                                            …"
      ]
     },
     "metadata": {},
     "output_type": "display_data"
    },
    {
     "data": {
      "application/vnd.jupyter.widget-view+json": {
       "model_id": "825b04d88d664a388441ca42ff56a192",
       "version_major": 2,
       "version_minor": 0
      },
      "text/plain": [
       "kmeans iterations:   0%|                                                                                      …"
      ]
     },
     "metadata": {},
     "output_type": "display_data"
    },
    {
     "data": {
      "application/vnd.jupyter.widget-view+json": {
       "model_id": "5c309a3e64a34e50897d4130c15a1b5d",
       "version_major": 2,
       "version_minor": 0
      },
      "text/plain": [
       "getting output of KmeansClustering:   0%|                                                                     …"
      ]
     },
     "metadata": {},
     "output_type": "display_data"
    }
   ],
   "source": [
    "# see http://www.emma-project.org/latest/tutorials/notebooks/00-pentapeptide-showcase.html\n",
    "tau = 5\n",
    "tica_lag = 5\n",
    "dim = 5\n",
    "\n",
    "\n",
    "# Model 1 - data_a + k_a\n",
    "tica_1 = pyemma.coordinates.tica(data_a, lag=tica_lag, dim=dim)\n",
    "ttrajs_1 = tica_1.get_output()\n",
    "kmeans_1 = pyemma.coordinates.cluster_kmeans(ttrajs_1, k=k_a, max_iter=1000)\n",
    "dtrajs_1 = kmeans_1.dtrajs\n",
    "msm_1 = pyemma.msm.estimate_markov_model(dtrajs_1, tau)\n",
    "\n",
    "\n",
    "# Model 2 - data_b + k_b\n",
    "tica_2 = pyemma.coordinates.tica(data_b, lag=tica_lag, dim=dim)\n",
    "ttrajs_2 = tica_2.get_output()\n",
    "kmeans_2 = pyemma.coordinates.cluster_kmeans(ttrajs_2, k=k_b, max_iter=1000)\n",
    "dtrajs_2 = kmeans_2.dtrajs\n",
    "msm_2 = pyemma.msm.estimate_markov_model(dtrajs_2, tau)\n",
    "\n",
    "\n",
    "# Model 3 - data_a + k_c - this should be basically the same as model 1\n",
    "tica_3 = pyemma.coordinates.tica(data_a, lag=tica_lag, dim=dim)\n",
    "ttrajs_3 = tica_3.get_output()\n",
    "kmeans_3 = pyemma.coordinates.cluster_kmeans(ttrajs_3, k=k_c, max_iter=1000)\n",
    "dtrajs_3 = kmeans_3.dtrajs\n",
    "msm_3 = pyemma.msm.estimate_markov_model(dtrajs_3, tau)\n"
   ]
  },
  {
   "cell_type": "code",
   "execution_count": 5,
   "metadata": {},
   "outputs": [],
   "source": [
    "def get_projection(num_ev, msm_obj, concat=True):\n",
    "    \"\"\"\n",
    "    num_ev = index of the eigenvector to project onto.  num_ev = 0 is the stationary distribution. \n",
    "    \"\"\"\n",
    "    dtrajs = msm_obj.discrete_trajectories_active\n",
    "    ev = msm_obj.eigenvectors_left(num_ev+1)[-1, :]\n",
    "    if ev[0] < 0:\n",
    "        ev = -1*ev\n",
    "    proj_traj = [ev[x] for x in dtrajs]\n",
    "    if concat:\n",
    "        proj_traj = np.concatenate(proj_traj)\n",
    "    return proj_traj\n",
    "    \n",
    "\n",
    "def get_all_projections(max_ev, msm_obj):\n",
    "    dtrajs = msm_obj.discrete_trajectories_active\n",
    "    evs = msm_obj.eigenvectors_left(max_ev+1)\n",
    "    proj_trajs = [np.concatenate([evs[i, :][x].reshape(-1, 1)  for i in range(1, max_ev+1)], axis=1) for x in dtrajs]\n",
    "    return proj_trajs"
   ]
  },
  {
   "cell_type": "code",
   "execution_count": 6,
   "metadata": {},
   "outputs": [],
   "source": [
    "\n",
    "proj_1 = np.concatenate([get_projection(x, msm_1).reshape(-1, 1) for x in range(1, 4)], axis=1)\n",
    "proj_2 = np.concatenate([get_projection(x, msm_2).reshape(-1, 1) for x in range(1, 4)], axis=1)\n",
    "proj_3 = np.concatenate([get_projection(x, msm_3).reshape(-1, 1) for x in range(1, 4)], axis=1)\n",
    "all_projs = [proj_1, proj_2, proj_3]"
   ]
  },
  {
   "cell_type": "code",
   "execution_count": 7,
   "metadata": {},
   "outputs": [
    {
     "data": {
      "image/png": "[encoded data removed]",
      "text/plain": [
       "<Figure size 864x288 with 3 Axes>"
      ]
     },
     "metadata": {
      "needs_background": "light"
     },
     "output_type": "display_data"
    }
   ],
   "source": [
    "fig, axes = plt.subplots(1, 3, figsize=(12, 4))\n",
    "stride = 1\n",
    "for i, proj in enumerate(all_projs):\n",
    "    axes[i].scatter(proj[::stride, 0], proj[::stride, 1], alpha=0.01, s=100)"
   ]
  },
  {
   "cell_type": "code",
   "execution_count": 8,
   "metadata": {},
   "outputs": [
    {
     "data": {
      "application/vnd.jupyter.widget-view+json": {
       "model_id": "57c5cf4c21d5416883154aeea65fdbfd",
       "version_major": 2,
       "version_minor": 0
      },
      "text/plain": [
       "Obtaining file info:   0%|                                                                                    …"
      ]
     },
     "metadata": {},
     "output_type": "display_data"
    },
    {
     "data": {
      "application/vnd.jupyter.widget-view+json": {
       "model_id": "e25c5da5f72d49febc413f494d203db7",
       "version_major": 2,
       "version_minor": 0
      },
      "text/plain": [
       "getting output of RegularSpaceClustering:   0%|                                                               …"
      ]
     },
     "metadata": {},
     "output_type": "display_data"
    },
    {
     "data": {
      "application/vnd.jupyter.widget-view+json": {
       "model_id": "bab04de6cc9d4c629bce1eaacbd77d76",
       "version_major": 2,
       "version_minor": 0
      },
      "text/plain": [
       "getting output of RegularSpaceClustering:   0%|                                                               …"
      ]
     },
     "metadata": {},
     "output_type": "display_data"
    },
    {
     "data": {
      "application/vnd.jupyter.widget-view+json": {
       "model_id": "aec921ab6ced448e8ce37931dcc93a8a",
       "version_major": 2,
       "version_minor": 0
      },
      "text/plain": [
       "getting output of RegularSpaceClustering:   0%|                                                               …"
      ]
     },
     "metadata": {},
     "output_type": "display_data"
    },
    {
     "data": {
      "application/vnd.jupyter.widget-view+json": {
       "model_id": "18d4c40c28e44b59b9362292b2e1e054",
       "version_major": 2,
       "version_minor": 0
      },
      "text/plain": [
       "getting output of RegularSpaceClustering:   0%|                                                               …"
      ]
     },
     "metadata": {},
     "output_type": "display_data"
    },
    {
     "data": {
      "application/vnd.jupyter.widget-view+json": {
       "model_id": "be5fe7184bb84414a3dfddfb577f4831",
       "version_major": 2,
       "version_minor": 0
      },
      "text/plain": [
       "getting output of RegularSpaceClustering:   0%|                                                               …"
      ]
     },
     "metadata": {},
     "output_type": "display_data"
    }
   ],
   "source": [
    "max_evs = 10\n",
    "projs_1 = get_all_projections(max_evs, msm_1)\n",
    "paths, _ = projection_paths(MD_trajectories=files,  MD_top=pdb, projected_trajectories=projs_1, n_projs=5, proj_dim=5, n_geom_samples=100, n_points=200)"
   ]
  },
  {
   "cell_type": "code",
   "execution_count": 9,
   "metadata": {},
   "outputs": [],
   "source": [
    "mod_1_path_1 = paths[0]['min_rmsd']['geom']\n",
    "mod_1_path_2 = paths[1]['min_rmsd']['geom']\n",
    "\n",
    "mod_1_path_1.save_xtc('mod_1_path_1.xtc')\n",
    "mod_1_path_2.save_xtc('mod_1_path_2.xtc')"
   ]
  },
  {
   "cell_type": "code",
   "execution_count": 10,
   "metadata": {},
   "outputs": [
    {
     "data": {
      "image/png": "[encoded data removed]",
      "text/plain": [
       "<Figure size 432x288 with 2 Axes>"
      ]
     },
     "metadata": {
      "needs_background": "light"
     },
     "output_type": "display_data"
    }
   ],
   "source": [
    "proj_path = paths[0]['min_disp']['proj']\n",
    "fig, axes = plt.subplots(2, sharex=True, sharey=True)\n",
    "for i in range(2):\n",
    "    axes[i].plot(proj_path[:, i])"
   ]
  },
  {
   "cell_type": "code",
   "execution_count": 11,
   "metadata": {},
   "outputs": [
    {
     "data": {
      "image/png": "[encoded data removed]",
      "text/plain": [
       "<Figure size 432x288 with 2 Axes>"
      ]
     },
     "metadata": {
      "needs_background": "light"
     },
     "output_type": "display_data"
    }
   ],
   "source": [
    "proj_path = paths[1]['min_disp']['proj']\n",
    "fig, axes = plt.subplots(2, sharex=True)\n",
    "for i in range(2):\n",
    "    axes[i].plot(proj_path[:, i], marker='o')"
   ]
  },
  {
   "cell_type": "markdown",
   "metadata": {},
   "source": [
    "Paths from model 1 in model 2:"
   ]
  },
  {
   "cell_type": "code",
   "execution_count": 12,
   "metadata": {},
   "outputs": [
    {
     "data": {
      "image/png": "[encoded data removed]",
      "text/plain": [
       "<Figure size 432x288 with 2 Axes>"
      ]
     },
     "metadata": {
      "needs_background": "light"
     },
     "output_type": "display_data"
    }
   ],
   "source": [
    "data_b_m1_p1 = pyemma.coordinates.load(['mod_1_path_1.xtc'], features=distances_feat)\n",
    "data_b_m1_p2 = pyemma.coordinates.load(['mod_1_path_2.xtc'], features=distances_feat)\n",
    "\n",
    "ttrajs_2_m1_p1 = tica_2.transform(data_b_m1_p1)\n",
    "dtrajs_2_m1_p1 = kmeans_2.transform(ttrajs_2_m1_p1)\n",
    "path_2_m1_p1 = msm_2.eigenvectors_left(2)[-1, :][dtrajs_2_m1_p1]\n",
    "\n",
    "fig, axes = plt.subplots(1, 2)\n",
    "axes[0].plot(paths[0]['min_rmsd']['proj'][:, 0])\n",
    "axes[0].plot(path_2_m1_p1.flatten())\n",
    "\n",
    "ttrajs_2_m1_p2 = tica_2.transform(data_b_m1_p2)\n",
    "dtrajs_2_m1_p2 = kmeans_2.transform(ttrajs_2_m1_p2)\n",
    "path_2_m1_p2 = msm_2.eigenvectors_left(3)[-1, :][dtrajs_2_m1_p2]\n",
    "axes[1].plot(paths[1]['min_rmsd']['proj'][:, 1])\n",
    "axes[1].plot(path_2_m1_p2.flatten())\n",
    "plt.tight_layout()"
   ]
  },
  {
   "cell_type": "markdown",
   "metadata": {},
   "source": [
    "Paths from model 1 in model 3:"
   ]
  },
  {
   "cell_type": "code",
   "execution_count": 13,
   "metadata": {},
   "outputs": [
    {
     "data": {
      "image/png": "[encoded data removed]",
      "text/plain": [
       "<Figure size 432x288 with 2 Axes>"
      ]
     },
     "metadata": {
      "needs_background": "light"
     },
     "output_type": "display_data"
    }
   ],
   "source": [
    "data_a_m1_p1 = pyemma.coordinates.load(['mod_1_path_1.xtc'], features=torsions_feat)\n",
    "data_a_m1_p2 = pyemma.coordinates.load(['mod_1_path_2.xtc'], features=torsions_feat)\n",
    "\n",
    "ttrajs_3_m1_p1 = tica_3.transform(data_a_m1_p1)\n",
    "dtrajs_3_m1_p1 = kmeans_3.transform(ttrajs_3_m1_p1)\n",
    "path_3_m1_p1 = msm_3.eigenvectors_left(2)[-1, :][dtrajs_3_m1_p1]\n",
    "\n",
    "fig, axes = plt.subplots(1, 2)\n",
    "axes[0].plot(paths[0]['min_rmsd']['proj'][:, 0])\n",
    "axes[0].plot(-1*path_3_m1_p1.flatten())\n",
    "\n",
    "ttrajs_3_m1_p2 = tica_3.transform(data_a_m1_p2)\n",
    "dtrajs_3_m1_p2 = kmeans_3.transform(ttrajs_3_m1_p2)\n",
    "path_3_m1_p2 = msm_3.eigenvectors_left(3)[-1, :][dtrajs_3_m1_p2]\n",
    "axes[1].plot(paths[1]['min_rmsd']['proj'][:, 1])\n",
    "axes[1].plot(-1*path_3_m1_p2.flatten())\n",
    "plt.tight_layout()"
   ]
  }
 ],
 "metadata": {
  "kernelspec": {
   "display_name": "Python 3 (ipykernel)",
   "language": "python",
   "name": "python3"
  },
  "language_info": {
   "codemirror_mode": {
    "name": "ipython",
    "version": 3
   },
   "file_extension": ".py",
   "mimetype": "text/x-python",
   "name": "python",
   "nbconvert_exporter": "python",
   "pygments_lexer": "ipython3",
   "version": "3.8.0"
  },
  "toc": {
   "base_numbering": 1,
   "nav_menu": {},
   "number_sections": false,
   "sideBar": true,
   "skip_h1_title": true,
   "title_cell": "Table of Contents",
   "title_sidebar": "Contents",
   "toc_cell": false,
   "toc_position": {},
   "toc_section_display": true,
   "toc_window_display": true
  }
 },
 "nbformat": 4,
 "nbformat_minor": 4
}
