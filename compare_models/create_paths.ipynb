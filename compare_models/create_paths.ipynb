{
 "cells": [
  {
   "cell_type": "code",
   "execution_count": 22,
   "id": "0fde075b-a84c-42ca-bd20-1f025ec5cda5",
   "metadata": {
    "tags": []
   },
   "outputs": [],
   "source": [
    "import pyemma as pm\n",
    "import mdtraj as md\n",
    "from molpx.generate import projection_paths\n",
    "import matplotlib.pyplot as plt\n",
    "import numpy as np\n",
    "from pathlib import Path\n",
    "import pandas as pd\n",
    "from typing import Dict, Union, List\n",
    "from msmsense.featurizers import dihedrals, distances\n",
    "from msmsense.bootstrap_cmatrices import get_sub_dict, get_trajs\n",
    "from functools import partial\n",
    "\n",
    "%matplotlib inline\n",
    "\n",
    "import pickle\n",
    "import time"
   ]
  },
  {
   "cell_type": "code",
   "execution_count": 23,
   "id": "2dc8158b-04e5-4684-a651-93e1661084a2",
   "metadata": {},
   "outputs": [],
   "source": [
    "def get_feature_dict(df, row_num):\n",
    "    row_dict = df.filter(regex='__', axis=1).loc[row_num, :].to_dict()\n",
    "    feature_dict = get_sub_dict(row_dict, 'feature')\n",
    "    if feature_dict['value'] == 'distances':\n",
    "        feature_dict.update(get_sub_dict(row_dict, 'distances'))\n",
    "    if feature_dict['value'] == 'dihedrals':\n",
    "        feature_dict.update(get_sub_dict(row_dict, 'dihedrals'))\n",
    "    return feature_dict\n",
    "\n",
    "def get_kws_dict(df, row_num, kws):\n",
    "    row_dict = df.filter(regex='__', axis=1).loc[row_num, :].to_dict()   \n",
    "    kws_dict = get_sub_dict(row_dict, kws)\n",
    "    return kws_dict\n",
    "\n",
    "def set_proper_dtypes(df):\n",
    "    \"\"\"\n",
    "    forgot to save integers as integers. Only the distances feature columns have true floats. \n",
    "    \"\"\"\n",
    "    potential_integer_cols = df.columns.difference(list(df.filter(regex='distances.*', axis=1)))\n",
    "    for col in potential_integer_cols:\n",
    "        if str(df[col].dtype) != 'object':\n",
    "            df[col] = df[col].astype(int)\n",
    "    return df\n",
    "\n",
    "def get_trajs_top(traj_dir: Path, protein_dir: str, rng: Union[np.random.Generator, None]=None):\n",
    "    trajs = list(traj_dir.rglob(f\"*{protein_dir.upper()}*/*.xtc\"))\n",
    "    trajs.sort()\n",
    "    \n",
    "    if rng is not None:\n",
    "        ix = rng.choice(np.arange(len(trajs)), size=10, replace=True)\n",
    "        trajs = [trajs[i] for i in ix]\n",
    "    \n",
    "    top = list(traj_dir.rglob(f\"*{protein_dir.upper()}*/*.pdb\"))[0]\n",
    "    \n",
    "    return {'trajs': trajs, 'top': top}\n",
    "    "
   ]
  },
  {
   "cell_type": "code",
   "execution_count": 76,
   "id": "02cebf72-cd33-4b86-9a1a-cee376c8c846",
   "metadata": {},
   "outputs": [],
   "source": [
    "class MSM(object):\n",
    "    \n",
    "    def __init__(self, lag: int, num_evs: int, trajs: List[md.Trajectory], top: md.Trajectory,\n",
    "                 feature_kws: Dict[str, Union[str, int, float]], tica_kws: Dict[str, Union[str, int, float]], cluster_kws: Dict[str, Union[str, int, float]]):\n",
    "        \"\"\"\n",
    "        Defines the whole MSM pipeline.\n",
    "        lag: markov lag time \n",
    "        num_evs: number of eigenvectors in VAMP score. This includes stationary distribution. note: all projections are done onto the processes 1 - num_evs, i.e., exclude the stationary distribution (process 0)\n",
    "        traj_top_paths: dictionary with 'trajs' - list of Paths to trajectories, and 'top' Path to topology file. \n",
    "        \n",
    "        \"\"\"\n",
    "        self.lag = lag\n",
    "        self.num_evs = num_evs\n",
    "        self.trajs = trajs\n",
    "        self.top = top\n",
    "        self.feature_kws = feature_kws\n",
    "        self.tica_kws = tica_kws\n",
    "        self.cluster_kws = cluster_kws\n",
    "        self.featurizer = None\n",
    "        self._set_featurizer()\n",
    "        \n",
    "        self.tica = None\n",
    "        self.cluster = None\n",
    "        self.msm = None\n",
    "        self.paths = None\n",
    "        \n",
    "    def _set_featurizer(self):\n",
    "        feature_kws = self.feature_kws.copy()\n",
    "        feature = feature_kws.pop('value')\n",
    "        \n",
    "        if feature == 'distances':\n",
    "            self.featurizer = partial(distances, **feature_kws)\n",
    "        elif feature == 'dihedrals':\n",
    "            self.featurizer = partial(dihedrals, **feature_kws)\n",
    "        else:\n",
    "            raise NotImplementedError('Unrecognized feature')\n",
    "        \n",
    "\n",
    "    def fit(self):\n",
    "        ftrajs = self.featurizer(self.trajs)\n",
    "        self.tica = pm.coordinates.tica(data=ftrajs, **self.tica_kws)\n",
    "        ttrajs = self.tica.get_output()\n",
    "        self.cluster = pm.coordinates.cluster_kmeans(data=ttrajs, **self.cluster_kws)\n",
    "        dtrajs = self.cluster.dtrajs\n",
    "        self.msm = pm.msm.estimate_markov_model(dtrajs=dtrajs, lag=self.lag)\n",
    "\n",
    "    \n",
    "    def _get_all_projections(self, num_procs: int, dtrajs: List[np.ndarray]) -> np.ndarray:\n",
    "        \"\"\" Project dtrajs onto first num_proc eigenvectors excluding stationary distribution. i.e., if num_proc=1 then project onto the slowest eigenvector only. \n",
    "        All projections ignore the stationary distribution\n",
    "        \"\"\"\n",
    "        evs = self.msm.eigenvectors_left(num_procs+1)\n",
    "        active_set = self.msm.active_set\n",
    "        NON_ACTIVE_PROJ_VAL = 0 # if the state is not in the active set, set the projection to this value. \n",
    "        NON_ACTIVE_IX_VAL = -1\n",
    "        evs = evs[1:, :] # remove the stationary distribution\n",
    "        proj_trajs = []\n",
    "        for dtraj in dtrajs:\n",
    "            all_procs = []\n",
    "            for proc_num in range(num_procs):\n",
    "                \n",
    "                tmp = np.ones(dtraj.shape[0], dtype=float)\n",
    "                tmp[:] = NON_ACTIVE_PROJ_VAL\n",
    "                \n",
    "                for i in range(dtraj.shape[0]):\n",
    "                    x = self.msm._full2active[dtraj[i]]\n",
    "                    if x != NON_ACTIVE_IX_VAL:\n",
    "                        tmp[i] = evs[proc_num, x]\n",
    "                    tmp = tmp.reshape(-1, 1)\n",
    "                \n",
    "                all_procs.append(tmp)\n",
    "            all_procs = np.concatenate(all_procs, axis=1)\n",
    "            proj_trajs.append(all_procs)\n",
    "        \n",
    "        return proj_trajs\n",
    "        \n",
    "        \n",
    "    def projection_paths(self, n_projs: Union[None, int]=None, proj_dim: Union[None, int]=None, n_points: int=100, n_geom_samples: int=100):\n",
    "        \"\"\"\n",
    "        n_projs: number of paths to create. Default = None = num_evs - 1 (i.e., exclude stationary distribution)\n",
    "        proj_dim: dimensionality of the space in which distances will be computed. Default = None = num_evs - 1 (i.e., exclude stationary distribution)\n",
    "        n_points: number of points along the path (there may be less than this.)\n",
    "        n_geom_samples: For each of the n_points along the projection path, n_geom_samples will be retrieved from the trajectory files. \n",
    "                        The higher this number, the smoother the minRMSD projection path. Also, the longer it takes for the path to be computed\n",
    "        \"\"\"\n",
    "        \n",
    "        if proj_dim is None:\n",
    "            proj_dim = self.num_evs - 1\n",
    "        if n_projs is None:\n",
    "            n_projs = self.num_evs - 1\n",
    "        \n",
    "        projections = self._get_all_projections(num_procs=proj_dim, dtrajs=self.msm.discrete_trajectories_active)\n",
    "        \n",
    "        paths, _ = projection_paths(MD_trajectories=self.trajs, MD_top = self.top, projected_trajectories=projections, \n",
    "                                    n_projs=n_projs, proj_dim=proj_dim, n_geom_samples=n_geom_samples, n_points=n_points)\n",
    "        self.paths = paths\n",
    "        \n",
    "        \n",
    "    \n",
    "    def get_projection_trajectory(self, proc_num: int, kind: str='min_rmsd') -> md.Trajectory:\n",
    "        \"\"\"\n",
    "        Returns the projection trajectory for a specific dimension\n",
    "        proc_num: the number process. Min value = 1\n",
    "        \"\"\"\n",
    "        if proc_num == 0:\n",
    "            raise ValueError(\"process_num must be >=1. Processes are indexed from 0 (stationary distribution). Process 1 is the slowest projected process.\")\n",
    "            \n",
    "        return self.paths[proc_num-1][kind]['geom']\n",
    "    \n",
    "    \n",
    "    def transform(self, new_trajectory: md.Trajectory) -> np.ndarray:\n",
    "        \"\"\"\n",
    "        projects new trajectory onto the self.num_proc eigenvectors of the MSM\n",
    "        \"\"\"\n",
    "        ftrajs = self.featurizer([new_trajectory])\n",
    "        ttrajs = self.tica.transform(ftrajs)\n",
    "        dtrajs = self.cluster.transform(ttrajs)\n",
    "        projections = self._get_all_projections(num_procs=self.num_evs - 1, dtrajs=dtrajs)\n",
    "        return projections\n",
    "        \n",
    "        \n",
    "    "
   ]
  },
  {
   "cell_type": "code",
   "execution_count": 87,
   "id": "77848960-46db-475e-9865-f24411a1931f",
   "metadata": {},
   "outputs": [],
   "source": [
    "traj_dir = Path('/Volumes/REA/MD/12FF/strided/')\n",
    "protein_dir = '1FME'\n",
    "out_dir = Path('/Volumes/REA/Data/fast_folders/model_comparisons/').joinpath(protein_dir)\n",
    "out_dir.mkdir(exist_ok=True, parents=True)\n",
    "comparator_ix = 0 # Always best because of sorting. \n",
    "num_bs_iter = 5\n",
    "n_points = 50 # points along path\n",
    "n_geom_samples = 50 # samples to create min rmsd"
   ]
  },
  {
   "cell_type": "code",
   "execution_count": 88,
   "id": "42912333-a473-4850-8eca-9613e3670ccd",
   "metadata": {},
   "outputs": [],
   "source": [
    "\n",
    "mod_defs = set_proper_dtypes(pd.read_hdf('../results/best_hps_per_feature.h5', key='best_hps_per_feature'))\n",
    "mod_defs = mod_defs.loc[mod_defs.protein_dir==protein_dir.lower(), :]\n",
    "mod_defs.sort_values(by=['protein', 'hp_rank'], inplace=True)\n",
    "mod_defs.reset_index(inplace=True, drop=True)"
   ]
  },
  {
   "cell_type": "code",
   "execution_count": 89,
   "id": "4faf7136-e6ac-4ad1-8bf1-953a67445eba",
   "metadata": {},
   "outputs": [],
   "source": [
    "mod_defs.to_hdf(out_dir.joinpath('model_definitions.h5'), key='model_definitions')"
   ]
  },
  {
   "cell_type": "code",
   "execution_count": 90,
   "id": "64e34096-b59b-4557-a7a9-4334996d47d7",
   "metadata": {
    "tags": []
   },
   "outputs": [
    {
     "name": "stdout",
     "output_type": "stream",
     "text": [
      "BS iteration  0\n",
      "\tfinished loading trajectories\n",
      "Model num  0\n"
     ]
    },
    {
     "data": {
      "application/vnd.jupyter.widget-view+json": {
       "model_id": "",
       "version_major": 2,
       "version_minor": 0
      },
      "text/plain": [
       "calculate covariances:   0%|                                                                                  …"
      ]
     },
     "metadata": {},
     "output_type": "display_data"
    },
    {
     "data": {
      "application/vnd.jupyter.widget-view+json": {
       "model_id": "",
       "version_major": 2,
       "version_minor": 0
      },
      "text/plain": [
       "getting output of TICA:   0%|                                                                                 …"
      ]
     },
     "metadata": {},
     "output_type": "display_data"
    },
    {
     "data": {
      "application/vnd.jupyter.widget-view+json": {
       "model_id": "",
       "version_major": 2,
       "version_minor": 0
      },
      "text/plain": [
       "initialize kmeans++ centers:   0%|                                                                            …"
      ]
     },
     "metadata": {},
     "output_type": "display_data"
    },
    {
     "data": {
      "application/vnd.jupyter.widget-view+json": {
       "model_id": "",
       "version_major": 2,
       "version_minor": 0
      },
      "text/plain": [
       "kmeans iterations:   0%|                                                                                      …"
      ]
     },
     "metadata": {},
     "output_type": "display_data"
    },
    {
     "data": {
      "application/vnd.jupyter.widget-view+json": {
       "model_id": "",
       "version_major": 2,
       "version_minor": 0
      },
      "text/plain": [
       "getting output of KmeansClustering:   0%|                                                                     …"
      ]
     },
     "metadata": {},
     "output_type": "display_data"
    },
    {
     "name": "stdout",
     "output_type": "stream",
     "text": [
      "\tfinished fitting model\n"
     ]
    },
    {
     "data": {
      "application/vnd.jupyter.widget-view+json": {
       "model_id": "",
       "version_major": 2,
       "version_minor": 0
      },
      "text/plain": [
       "getting output of RegularSpaceClustering:   0%|                                                               …"
      ]
     },
     "metadata": {},
     "output_type": "display_data"
    },
    {
     "name": "stdout",
     "output_type": "stream",
     "text": [
      "Strategy most_pop starting at 0.000892936 diffuses 0.00507244 in 3D proj-space\n",
      "\t most_pop  finished  0.01352833112080892\n",
      "Strategy smallest_Rgyr starting at -0.00341123 diffuses 0.00502331 in 3D proj-space\n",
      "\t smallest_Rgyr  finished  0.011997401714324951\n",
      "Strategy most_pop_x_smallest_Rgyr starting at 0.00033262 diffuses 0.00492101 in 3D proj-space\n",
      "\t most_pop_x_smallest_Rgyr  finished  0.013706612586975097\n",
      "Strategy bimodal_compact starting at -0.0273901 diffuses 0.0045504 in 3D proj-space\n",
      "\t bimodal_compact  finished  0.012230817476908367\n",
      "Sticking with bimodal_compact\n"
     ]
    },
    {
     "data": {
      "application/vnd.jupyter.widget-view+json": {
       "model_id": "",
       "version_major": 2,
       "version_minor": 0
      },
      "text/plain": [
       "getting output of RegularSpaceClustering:   0%|                                                               …"
      ]
     },
     "metadata": {},
     "output_type": "display_data"
    },
    {
     "name": "stdout",
     "output_type": "stream",
     "text": [
      "Strategy most_pop starting at 0.0224877 diffuses 0.0139116 in 3D proj-space\n",
      "\t most_pop  finished  0.013172916571299235\n",
      "Strategy smallest_Rgyr starting at 0.00168703 diffuses 0.0139888 in 3D proj-space\n",
      "\t smallest_Rgyr  finished  0.01263258457183838\n",
      "Strategy most_pop_x_smallest_Rgyr starting at 0.0224877 diffuses 0.0139116 in 3D proj-space\n",
      "\t most_pop_x_smallest_Rgyr  finished  0.014190769195556641\n",
      "Strategy bimodal_compact starting at 0.0159867 diffuses 0.0170017 in 3D proj-space\n",
      "\t bimodal_compact  finished  0.012267514069875082\n",
      "Sticking with most_pop\n"
     ]
    },
    {
     "data": {
      "application/vnd.jupyter.widget-view+json": {
       "model_id": "",
       "version_major": 2,
       "version_minor": 0
      },
      "text/plain": [
       "getting output of RegularSpaceClustering:   0%|                                                               …"
      ]
     },
     "metadata": {},
     "output_type": "display_data"
    },
    {
     "name": "stdout",
     "output_type": "stream",
     "text": [
      "Strategy most_pop starting at 0.0041847 diffuses 0.0176509 in 3D proj-space\n",
      "\t most_pop  finished  0.011872537930806478\n",
      "Strategy smallest_Rgyr starting at 0.00117461 diffuses 0.0172713 in 3D proj-space\n",
      "\t smallest_Rgyr  finished  0.01460576852162679\n",
      "Strategy most_pop_x_smallest_Rgyr starting at 0.0041847 diffuses 0.0176509 in 3D proj-space\n",
      "\t most_pop_x_smallest_Rgyr  finished  0.01253211498260498\n",
      "Strategy bimodal_compact starting at 0.00147488 diffuses 0.0182288 in 3D proj-space\n",
      "\t bimodal_compact  finished  0.014460619290669758\n",
      "Sticking with smallest_Rgyr\n",
      "\tfinished projecting paths\n",
      "\tfinished dumping paths\n",
      "Model num  1\n"
     ]
    },
    {
     "data": {
      "application/vnd.jupyter.widget-view+json": {
       "model_id": "",
       "version_major": 2,
       "version_minor": 0
      },
      "text/plain": [
       "calculate covariances:   0%|                                                                                  …"
      ]
     },
     "metadata": {},
     "output_type": "display_data"
    },
    {
     "data": {
      "application/vnd.jupyter.widget-view+json": {
       "model_id": "",
       "version_major": 2,
       "version_minor": 0
      },
      "text/plain": [
       "getting output of TICA:   0%|                                                                                 …"
      ]
     },
     "metadata": {},
     "output_type": "display_data"
    },
    {
     "data": {
      "application/vnd.jupyter.widget-view+json": {
       "model_id": "",
       "version_major": 2,
       "version_minor": 0
      },
      "text/plain": [
       "initialize kmeans++ centers:   0%|                                                                            …"
      ]
     },
     "metadata": {},
     "output_type": "display_data"
    },
    {
     "data": {
      "application/vnd.jupyter.widget-view+json": {
       "model_id": "",
       "version_major": 2,
       "version_minor": 0
      },
      "text/plain": [
       "kmeans iterations:   0%|                                                                                      …"
      ]
     },
     "metadata": {},
     "output_type": "display_data"
    },
    {
     "data": {
      "application/vnd.jupyter.widget-view+json": {
       "model_id": "",
       "version_major": 2,
       "version_minor": 0
      },
      "text/plain": [
       "getting output of KmeansClustering:   0%|                                                                     …"
      ]
     },
     "metadata": {},
     "output_type": "display_data"
    },
    {
     "name": "stdout",
     "output_type": "stream",
     "text": [
      "\tfinished fitting model\n"
     ]
    },
    {
     "data": {
      "application/vnd.jupyter.widget-view+json": {
       "model_id": "",
       "version_major": 2,
       "version_minor": 0
      },
      "text/plain": [
       "getting output of RegularSpaceClustering:   0%|                                                               …"
      ]
     },
     "metadata": {},
     "output_type": "display_data"
    },
    {
     "name": "stdout",
     "output_type": "stream",
     "text": [
      "Strategy most_pop starting at -0.00022354 diffuses 0.0028352 in 3D proj-space\n",
      "\t most_pop  finished  0.013195582230885823\n",
      "Strategy smallest_Rgyr starting at -0.00816378 diffuses 0.00318292 in 3D proj-space\n",
      "\t smallest_Rgyr  finished  0.011911797523498534\n",
      "Strategy most_pop_x_smallest_Rgyr starting at -0.00022354 diffuses 0.0028352 in 3D proj-space\n",
      "\t most_pop_x_smallest_Rgyr  finished  0.013758997122446695\n",
      "Strategy bimodal_compact starting at -0.0243844 diffuses 0.00310495 in 3D proj-space\n",
      "\t bimodal_compact  finished  0.012525566418965657\n",
      "Sticking with most_pop\n"
     ]
    },
    {
     "data": {
      "application/vnd.jupyter.widget-view+json": {
       "model_id": "",
       "version_major": 2,
       "version_minor": 0
      },
      "text/plain": [
       "getting output of RegularSpaceClustering:   0%|                                                               …"
      ]
     },
     "metadata": {},
     "output_type": "display_data"
    },
    {
     "name": "stdout",
     "output_type": "stream",
     "text": [
      "Strategy most_pop starting at -0.0207219 diffuses 0.0127868 in 3D proj-space\n",
      "\t most_pop  finished  0.013840881983439128\n",
      "Strategy smallest_Rgyr starting at -0.00400158 diffuses 0.0127972 in 3D proj-space\n",
      "\t smallest_Rgyr  finished  0.012266600131988525\n",
      "Strategy most_pop_x_smallest_Rgyr starting at -0.0207219 diffuses 0.0127868 in 3D proj-space\n",
      "\t most_pop_x_smallest_Rgyr  finished  0.014332985877990723\n",
      "Strategy bimodal_compact starting at -0.0207219 diffuses 0.0127868 in 3D proj-space\n",
      "\t bimodal_compact  finished  0.012110904852549235\n",
      "Sticking with bimodal_compact\n"
     ]
    },
    {
     "data": {
      "application/vnd.jupyter.widget-view+json": {
       "model_id": "",
       "version_major": 2,
       "version_minor": 0
      },
      "text/plain": [
       "getting output of RegularSpaceClustering:   0%|                                                               …"
      ]
     },
     "metadata": {},
     "output_type": "display_data"
    },
    {
     "name": "stdout",
     "output_type": "stream",
     "text": [
      "Strategy most_pop starting at -0.00231554 diffuses 0.0136095 in 3D proj-space\n",
      "\t most_pop  finished  0.012892015775044759\n",
      "Strategy smallest_Rgyr starting at -0.00207261 diffuses 0.0136699 in 3D proj-space\n",
      "\t smallest_Rgyr  finished  0.011934185028076172\n",
      "Strategy most_pop_x_smallest_Rgyr starting at -0.00231554 diffuses 0.0136095 in 3D proj-space\n",
      "\t most_pop_x_smallest_Rgyr  finished  0.01370999813079834\n",
      "Strategy bimodal_compact starting at -0.0011915 diffuses 0.0135631 in 3D proj-space\n",
      "\t bimodal_compact  finished  0.012100263436635336\n",
      "Sticking with bimodal_compact\n",
      "\tfinished projecting paths\n",
      "\tfinished dumping paths\n",
      "Model num  2\n"
     ]
    },
    {
     "data": {
      "application/vnd.jupyter.widget-view+json": {
       "model_id": "",
       "version_major": 2,
       "version_minor": 0
      },
      "text/plain": [
       "calculate covariances:   0%|                                                                                  …"
      ]
     },
     "metadata": {},
     "output_type": "display_data"
    },
    {
     "data": {
      "application/vnd.jupyter.widget-view+json": {
       "model_id": "",
       "version_major": 2,
       "version_minor": 0
      },
      "text/plain": [
       "getting output of TICA:   0%|                                                                                 …"
      ]
     },
     "metadata": {},
     "output_type": "display_data"
    },
    {
     "data": {
      "application/vnd.jupyter.widget-view+json": {
       "model_id": "",
       "version_major": 2,
       "version_minor": 0
      },
      "text/plain": [
       "initialize kmeans++ centers:   0%|                                                                            …"
      ]
     },
     "metadata": {},
     "output_type": "display_data"
    },
    {
     "data": {
      "application/vnd.jupyter.widget-view+json": {
       "model_id": "",
       "version_major": 2,
       "version_minor": 0
      },
      "text/plain": [
       "kmeans iterations:   0%|                                                                                      …"
      ]
     },
     "metadata": {},
     "output_type": "display_data"
    },
    {
     "data": {
      "application/vnd.jupyter.widget-view+json": {
       "model_id": "",
       "version_major": 2,
       "version_minor": 0
      },
      "text/plain": [
       "getting output of KmeansClustering:   0%|                                                                     …"
      ]
     },
     "metadata": {},
     "output_type": "display_data"
    },
    {
     "name": "stdout",
     "output_type": "stream",
     "text": [
      "\tfinished fitting model\n"
     ]
    },
    {
     "data": {
      "application/vnd.jupyter.widget-view+json": {
       "model_id": "",
       "version_major": 2,
       "version_minor": 0
      },
      "text/plain": [
       "getting output of RegularSpaceClustering:   0%|                                                               …"
      ]
     },
     "metadata": {},
     "output_type": "display_data"
    },
    {
     "name": "stdout",
     "output_type": "stream",
     "text": [
      "Strategy most_pop starting at -0.000676004 diffuses 0.00427372 in 3D proj-space\n",
      "\t most_pop  finished  0.013415284951527913\n",
      "Strategy smallest_Rgyr starting at 0.00694986 diffuses 0.00508006 in 3D proj-space\n",
      "\t smallest_Rgyr  finished  0.012191398938496908\n",
      "Strategy most_pop_x_smallest_Rgyr starting at -0.000992739 diffuses 0.00497566 in 3D proj-space\n",
      "\t most_pop_x_smallest_Rgyr  finished  0.014168532689412434\n",
      "Strategy bimodal_compact starting at -0.0013146 diffuses 0.00474293 in 3D proj-space\n",
      "\t bimodal_compact  finished  0.012054653962453206\n",
      "Sticking with most_pop\n"
     ]
    },
    {
     "data": {
      "application/vnd.jupyter.widget-view+json": {
       "model_id": "",
       "version_major": 2,
       "version_minor": 0
      },
      "text/plain": [
       "getting output of RegularSpaceClustering:   0%|                                                               …"
      ]
     },
     "metadata": {},
     "output_type": "display_data"
    },
    {
     "name": "stdout",
     "output_type": "stream",
     "text": [
      "Strategy most_pop starting at 0.000101121 diffuses 0.00611288 in 3D proj-space\n",
      "\t most_pop  finished  0.011436378955841065\n",
      "Strategy smallest_Rgyr starting at -0.00130197 diffuses 0.0077375 in 3D proj-space\n",
      "\t smallest_Rgyr  finished  0.014098167419433594\n",
      "Strategy most_pop_x_smallest_Rgyr starting at -0.00130197 diffuses 0.0077375 in 3D proj-space\n",
      "\t most_pop_x_smallest_Rgyr  finished  0.01221468448638916\n",
      "Strategy bimodal_compact starting at -0.00130197 diffuses 0.0077375 in 3D proj-space\n",
      "\t bimodal_compact  finished  0.012299581368764242\n",
      "Sticking with most_pop\n"
     ]
    },
    {
     "data": {
      "application/vnd.jupyter.widget-view+json": {
       "model_id": "",
       "version_major": 2,
       "version_minor": 0
      },
      "text/plain": [
       "getting output of RegularSpaceClustering:   0%|                                                               …"
      ]
     },
     "metadata": {},
     "output_type": "display_data"
    },
    {
     "name": "stdout",
     "output_type": "stream",
     "text": [
      "Strategy most_pop starting at 0.000210878 diffuses 0.00967525 in 3D proj-space\n",
      "\t most_pop  finished  0.01124340295791626\n",
      "Strategy smallest_Rgyr starting at 0.0021451 diffuses 0.0114705 in 3D proj-space\n",
      "\t smallest_Rgyr  finished  0.01203089952468872\n",
      "Strategy most_pop_x_smallest_Rgyr starting at 0.000210878 diffuses 0.00967525 in 3D proj-space\n",
      "\t most_pop_x_smallest_Rgyr  finished  0.014251434803009033\n",
      "Strategy bimodal_compact starting at -0.0117792 diffuses 0.0101576 in 3D proj-space\n",
      "\t bimodal_compact  finished  0.01232752005259196\n",
      "Sticking with most_pop\n",
      "\tfinished projecting paths\n",
      "\tfinished dumping paths\n",
      "\tcomparing path  0\n",
      "\tcomparing path  1\n",
      "\tcomparing path  2\n",
      "6.3586198846499125\n",
      "BS iteration  1\n",
      "\tfinished loading trajectories\n",
      "Model num  0\n"
     ]
    },
    {
     "data": {
      "application/vnd.jupyter.widget-view+json": {
       "model_id": "",
       "version_major": 2,
       "version_minor": 0
      },
      "text/plain": [
       "calculate covariances:   0%|                                                                                  …"
      ]
     },
     "metadata": {},
     "output_type": "display_data"
    },
    {
     "data": {
      "application/vnd.jupyter.widget-view+json": {
       "model_id": "",
       "version_major": 2,
       "version_minor": 0
      },
      "text/plain": [
       "getting output of TICA:   0%|                                                                                 …"
      ]
     },
     "metadata": {},
     "output_type": "display_data"
    },
    {
     "data": {
      "application/vnd.jupyter.widget-view+json": {
       "model_id": "",
       "version_major": 2,
       "version_minor": 0
      },
      "text/plain": [
       "initialize kmeans++ centers:   0%|                                                                            …"
      ]
     },
     "metadata": {},
     "output_type": "display_data"
    },
    {
     "data": {
      "application/vnd.jupyter.widget-view+json": {
       "model_id": "",
       "version_major": 2,
       "version_minor": 0
      },
      "text/plain": [
       "kmeans iterations:   0%|                                                                                      …"
      ]
     },
     "metadata": {},
     "output_type": "display_data"
    },
    {
     "data": {
      "application/vnd.jupyter.widget-view+json": {
       "model_id": "",
       "version_major": 2,
       "version_minor": 0
      },
      "text/plain": [
       "getting output of KmeansClustering:   0%|                                                                     …"
      ]
     },
     "metadata": {},
     "output_type": "display_data"
    },
    {
     "name": "stdout",
     "output_type": "stream",
     "text": [
      "\tfinished fitting model\n"
     ]
    },
    {
     "data": {
      "application/vnd.jupyter.widget-view+json": {
       "model_id": "",
       "version_major": 2,
       "version_minor": 0
      },
      "text/plain": [
       "getting output of RegularSpaceClustering:   0%|                                                               …"
      ]
     },
     "metadata": {},
     "output_type": "display_data"
    },
    {
     "ename": "KeyboardInterrupt",
     "evalue": "",
     "output_type": "error",
     "traceback": [
      "\u001b[0;31m---------------------------------------------------------------------------\u001b[0m",
      "\u001b[0;31mKeyboardInterrupt\u001b[0m                         Traceback (most recent call last)",
      "\u001b[0;32m/var/folders/b1/0b53wj0509376104__2tttb00000gn/T/ipykernel_27427/2966794417.py\u001b[0m in \u001b[0;36m<module>\u001b[0;34m\u001b[0m\n\u001b[1;32m     39\u001b[0m         \u001b[0;31m# Estimate all paths\u001b[0m\u001b[0;34m\u001b[0m\u001b[0;34m\u001b[0m\u001b[0;34m\u001b[0m\u001b[0m\n\u001b[1;32m     40\u001b[0m \u001b[0;34m\u001b[0m\u001b[0m\n\u001b[0;32m---> 41\u001b[0;31m         \u001b[0mmodel\u001b[0m\u001b[0;34m.\u001b[0m\u001b[0mprojection_paths\u001b[0m\u001b[0;34m(\u001b[0m\u001b[0mn_points\u001b[0m\u001b[0;34m=\u001b[0m\u001b[0mn_points\u001b[0m\u001b[0;34m,\u001b[0m \u001b[0mn_geom_samples\u001b[0m\u001b[0;34m=\u001b[0m\u001b[0mn_geom_samples\u001b[0m\u001b[0;34m)\u001b[0m\u001b[0;34m\u001b[0m\u001b[0;34m\u001b[0m\u001b[0m\n\u001b[0m\u001b[1;32m     42\u001b[0m         \u001b[0mprint\u001b[0m\u001b[0;34m(\u001b[0m\u001b[0;34m'\\tfinished projecting paths'\u001b[0m\u001b[0;34m)\u001b[0m\u001b[0;34m\u001b[0m\u001b[0;34m\u001b[0m\u001b[0m\n\u001b[1;32m     43\u001b[0m         \u001b[0mpickle\u001b[0m\u001b[0;34m.\u001b[0m\u001b[0mdump\u001b[0m\u001b[0;34m(\u001b[0m\u001b[0mfile\u001b[0m\u001b[0;34m=\u001b[0m\u001b[0miter_out_dir\u001b[0m\u001b[0;34m.\u001b[0m\u001b[0mjoinpath\u001b[0m\u001b[0;34m(\u001b[0m\u001b[0;34mf\"mod_{row_num}_hp_{hp_ix}_rank_{hp_rank}_paths.pkl\"\u001b[0m\u001b[0;34m)\u001b[0m\u001b[0;34m.\u001b[0m\u001b[0mopen\u001b[0m\u001b[0;34m(\u001b[0m\u001b[0;34m'wb'\u001b[0m\u001b[0;34m)\u001b[0m\u001b[0;34m,\u001b[0m \u001b[0mobj\u001b[0m\u001b[0;34m=\u001b[0m\u001b[0mmodel\u001b[0m\u001b[0;34m.\u001b[0m\u001b[0mpaths\u001b[0m\u001b[0;34m)\u001b[0m\u001b[0;34m\u001b[0m\u001b[0;34m\u001b[0m\u001b[0m\n",
      "\u001b[0;32m/var/folders/b1/0b53wj0509376104__2tttb00000gn/T/ipykernel_27427/3219211326.py\u001b[0m in \u001b[0;36mprojection_paths\u001b[0;34m(self, n_projs, proj_dim, n_points, n_geom_samples)\u001b[0m\n\u001b[1;32m     92\u001b[0m         \u001b[0mprojections\u001b[0m \u001b[0;34m=\u001b[0m \u001b[0mself\u001b[0m\u001b[0;34m.\u001b[0m\u001b[0m_get_all_projections\u001b[0m\u001b[0;34m(\u001b[0m\u001b[0mnum_procs\u001b[0m\u001b[0;34m=\u001b[0m\u001b[0mproj_dim\u001b[0m\u001b[0;34m,\u001b[0m \u001b[0mdtrajs\u001b[0m\u001b[0;34m=\u001b[0m\u001b[0mself\u001b[0m\u001b[0;34m.\u001b[0m\u001b[0mmsm\u001b[0m\u001b[0;34m.\u001b[0m\u001b[0mdiscrete_trajectories_active\u001b[0m\u001b[0;34m)\u001b[0m\u001b[0;34m\u001b[0m\u001b[0;34m\u001b[0m\u001b[0m\n\u001b[1;32m     93\u001b[0m \u001b[0;34m\u001b[0m\u001b[0m\n\u001b[0;32m---> 94\u001b[0;31m         paths, _ = projection_paths(MD_trajectories=self.trajs, MD_top = self.top, projected_trajectories=projections, \n\u001b[0m\u001b[1;32m     95\u001b[0m                                     n_projs=n_projs, proj_dim=proj_dim, n_geom_samples=n_geom_samples, n_points=n_points)\n\u001b[1;32m     96\u001b[0m         \u001b[0mself\u001b[0m\u001b[0;34m.\u001b[0m\u001b[0mpaths\u001b[0m \u001b[0;34m=\u001b[0m \u001b[0mpaths\u001b[0m\u001b[0;34m\u001b[0m\u001b[0;34m\u001b[0m\u001b[0m\n",
      "\u001b[0;32m~/Software/molPX/molpx/generate.py\u001b[0m in \u001b[0;36mprojection_paths\u001b[0;34m(MD_trajectories, MD_top, projected_trajectories, n_projs, proj_dim, proj_idxs, n_points, n_geom_samples, proj_stride, history_aware, verbose, minRMSD_selection, strats)\u001b[0m\n\u001b[1;32m    134\u001b[0m         \u001b[0msorts_coord\u001b[0m \u001b[0;34m=\u001b[0m \u001b[0m_np\u001b[0m\u001b[0;34m.\u001b[0m\u001b[0margsort\u001b[0m\u001b[0;34m(\u001b[0m\u001b[0mcl\u001b[0m\u001b[0;34m.\u001b[0m\u001b[0mclustercenters\u001b[0m\u001b[0;34m[\u001b[0m\u001b[0;34m:\u001b[0m\u001b[0;34m,\u001b[0m\u001b[0;36m0\u001b[0m\u001b[0;34m]\u001b[0m\u001b[0;34m)\u001b[0m \u001b[0;31m# again, here we're ALWAYS USING \"1\" because cl. is 1D\u001b[0m\u001b[0;34m\u001b[0m\u001b[0;34m\u001b[0m\u001b[0m\n\u001b[1;32m    135\u001b[0m         \u001b[0mcat_smpl\u001b[0m \u001b[0;34m=\u001b[0m \u001b[0mcl\u001b[0m\u001b[0;34m.\u001b[0m\u001b[0msample_indexes_by_cluster\u001b[0m\u001b[0;34m(\u001b[0m\u001b[0msorts_coord\u001b[0m\u001b[0;34m,\u001b[0m \u001b[0mn_geom_samples\u001b[0m\u001b[0;34m)\u001b[0m\u001b[0;34m\u001b[0m\u001b[0;34m\u001b[0m\u001b[0m\n\u001b[0;32m--> 136\u001b[0;31m         \u001b[0mgeom_smpl\u001b[0m \u001b[0;34m=\u001b[0m \u001b[0m_bmutils\u001b[0m\u001b[0;34m.\u001b[0m\u001b[0msave_traj_wrapper\u001b[0m\u001b[0;34m(\u001b[0m\u001b[0mMD_trajectories\u001b[0m\u001b[0;34m,\u001b[0m \u001b[0m_np\u001b[0m\u001b[0;34m.\u001b[0m\u001b[0mvstack\u001b[0m\u001b[0;34m(\u001b[0m\u001b[0mcat_smpl\u001b[0m\u001b[0;34m)\u001b[0m\u001b[0;34m,\u001b[0m \u001b[0;32mNone\u001b[0m\u001b[0;34m,\u001b[0m \u001b[0mstride\u001b[0m\u001b[0;34m=\u001b[0m\u001b[0mproj_stride\u001b[0m\u001b[0;34m)\u001b[0m\u001b[0;34m\u001b[0m\u001b[0;34m\u001b[0m\u001b[0m\n\u001b[0m\u001b[1;32m    137\u001b[0m         \u001b[0mgeom_smpl\u001b[0m \u001b[0;34m=\u001b[0m \u001b[0m_bmutils\u001b[0m\u001b[0;34m.\u001b[0m\u001b[0mre_warp\u001b[0m\u001b[0;34m(\u001b[0m\u001b[0mgeom_smpl\u001b[0m\u001b[0;34m,\u001b[0m \u001b[0;34m[\u001b[0m\u001b[0mn_geom_samples\u001b[0m\u001b[0;34m]\u001b[0m\u001b[0;34m*\u001b[0m\u001b[0mcl\u001b[0m\u001b[0;34m.\u001b[0m\u001b[0mn_clusters\u001b[0m\u001b[0;34m)\u001b[0m\u001b[0;34m\u001b[0m\u001b[0;34m\u001b[0m\u001b[0m\n\u001b[1;32m    138\u001b[0m \u001b[0;34m\u001b[0m\u001b[0m\n",
      "\u001b[0;32m~/Software/molPX/molpx/_bmutils.py\u001b[0m in \u001b[0;36msave_traj_wrapper\u001b[0;34m(traj_inp, indexes, outfile, top, stride, chunksize, image_molecules, verbose)\u001b[0m\n\u001b[1;32m    609\u001b[0m         \u001b[0mgeom_smpl\u001b[0m \u001b[0;34m=\u001b[0m \u001b[0mtraj_inp\u001b[0m\u001b[0;34m[\u001b[0m\u001b[0mfile_idx\u001b[0m\u001b[0;34m]\u001b[0m\u001b[0;34m[\u001b[0m\u001b[0mframe_idx\u001b[0m\u001b[0;34m]\u001b[0m\u001b[0;34m\u001b[0m\u001b[0;34m\u001b[0m\u001b[0m\n\u001b[1;32m    610\u001b[0m         \u001b[0;32mfor\u001b[0m \u001b[0mfile_idx\u001b[0m\u001b[0;34m,\u001b[0m \u001b[0mframe_idx\u001b[0m \u001b[0;32min\u001b[0m \u001b[0mindexes\u001b[0m\u001b[0;34m[\u001b[0m\u001b[0;36m1\u001b[0m\u001b[0;34m:\u001b[0m\u001b[0;34m]\u001b[0m\u001b[0;34m:\u001b[0m\u001b[0;34m\u001b[0m\u001b[0;34m\u001b[0m\u001b[0m\n\u001b[0;32m--> 611\u001b[0;31m             \u001b[0mgeom_smpl\u001b[0m \u001b[0;34m=\u001b[0m \u001b[0mgeom_smpl\u001b[0m\u001b[0;34m.\u001b[0m\u001b[0mjoin\u001b[0m\u001b[0;34m(\u001b[0m\u001b[0mtraj_inp\u001b[0m\u001b[0;34m[\u001b[0m\u001b[0mfile_idx\u001b[0m\u001b[0;34m]\u001b[0m\u001b[0;34m[\u001b[0m\u001b[0mframe_idx\u001b[0m\u001b[0;34m]\u001b[0m\u001b[0;34m)\u001b[0m\u001b[0;34m\u001b[0m\u001b[0;34m\u001b[0m\u001b[0m\n\u001b[0m\u001b[1;32m    612\u001b[0m     \u001b[0;32melse\u001b[0m\u001b[0;34m:\u001b[0m\u001b[0;34m\u001b[0m\u001b[0;34m\u001b[0m\u001b[0m\n\u001b[1;32m    613\u001b[0m         \u001b[0;32mraise\u001b[0m \u001b[0mTypeError\u001b[0m\u001b[0;34m(\u001b[0m\u001b[0;34m\"Cant handle input of type %s now\"\u001b[0m\u001b[0;34m%\u001b[0m\u001b[0;34m(\u001b[0m\u001b[0mtype\u001b[0m\u001b[0;34m(\u001b[0m\u001b[0mtraj_inp\u001b[0m\u001b[0;34m[\u001b[0m\u001b[0;36m0\u001b[0m\u001b[0;34m]\u001b[0m\u001b[0;34m)\u001b[0m\u001b[0;34m)\u001b[0m\u001b[0;34m)\u001b[0m\u001b[0;34m\u001b[0m\u001b[0;34m\u001b[0m\u001b[0m\n",
      "\u001b[0;32m~/opt/miniconda3/envs/msmsense/lib/python3.8/site-packages/mdtraj/core/trajectory.py\u001b[0m in \u001b[0;36mjoin\u001b[0;34m(self, other, check_topology, discard_overlapping_frames)\u001b[0m\n\u001b[1;32m   1057\u001b[0m         \u001b[0;31m# use this syntax so that if you subclass Trajectory,\u001b[0m\u001b[0;34m\u001b[0m\u001b[0;34m\u001b[0m\u001b[0;34m\u001b[0m\u001b[0m\n\u001b[1;32m   1058\u001b[0m         \u001b[0;31m# the subclass's join() will return an instance of the subclass\u001b[0m\u001b[0;34m\u001b[0m\u001b[0;34m\u001b[0m\u001b[0;34m\u001b[0m\u001b[0m\n\u001b[0;32m-> 1059\u001b[0;31m         return self.__class__(xyz, deepcopy(self._topology), time=time,\n\u001b[0m\u001b[1;32m   1060\u001b[0m             unitcell_lengths=lengths, unitcell_angles=angles)\n\u001b[1;32m   1061\u001b[0m \u001b[0;34m\u001b[0m\u001b[0m\n",
      "\u001b[0;32m~/opt/miniconda3/envs/msmsense/lib/python3.8/copy.py\u001b[0m in \u001b[0;36mdeepcopy\u001b[0;34m(x, memo, _nil)\u001b[0m\n\u001b[1;32m    151\u001b[0m             \u001b[0mcopier\u001b[0m \u001b[0;34m=\u001b[0m \u001b[0mgetattr\u001b[0m\u001b[0;34m(\u001b[0m\u001b[0mx\u001b[0m\u001b[0;34m,\u001b[0m \u001b[0;34m\"__deepcopy__\"\u001b[0m\u001b[0;34m,\u001b[0m \u001b[0;32mNone\u001b[0m\u001b[0;34m)\u001b[0m\u001b[0;34m\u001b[0m\u001b[0;34m\u001b[0m\u001b[0m\n\u001b[1;32m    152\u001b[0m             \u001b[0;32mif\u001b[0m \u001b[0mcopier\u001b[0m \u001b[0;32mis\u001b[0m \u001b[0;32mnot\u001b[0m \u001b[0;32mNone\u001b[0m\u001b[0;34m:\u001b[0m\u001b[0;34m\u001b[0m\u001b[0;34m\u001b[0m\u001b[0m\n\u001b[0;32m--> 153\u001b[0;31m                 \u001b[0my\u001b[0m \u001b[0;34m=\u001b[0m \u001b[0mcopier\u001b[0m\u001b[0;34m(\u001b[0m\u001b[0mmemo\u001b[0m\u001b[0;34m)\u001b[0m\u001b[0;34m\u001b[0m\u001b[0;34m\u001b[0m\u001b[0m\n\u001b[0m\u001b[1;32m    154\u001b[0m             \u001b[0;32melse\u001b[0m\u001b[0;34m:\u001b[0m\u001b[0;34m\u001b[0m\u001b[0;34m\u001b[0m\u001b[0m\n\u001b[1;32m    155\u001b[0m                 \u001b[0mreductor\u001b[0m \u001b[0;34m=\u001b[0m \u001b[0mdispatch_table\u001b[0m\u001b[0;34m.\u001b[0m\u001b[0mget\u001b[0m\u001b[0;34m(\u001b[0m\u001b[0mcls\u001b[0m\u001b[0;34m)\u001b[0m\u001b[0;34m\u001b[0m\u001b[0;34m\u001b[0m\u001b[0m\n",
      "\u001b[0;32m~/opt/miniconda3/envs/msmsense/lib/python3.8/site-packages/mdtraj/core/topology.py\u001b[0m in \u001b[0;36m__deepcopy__\u001b[0;34m(self, *args)\u001b[0m\n\u001b[1;32m    248\u001b[0m \u001b[0;34m\u001b[0m\u001b[0m\n\u001b[1;32m    249\u001b[0m     \u001b[0;32mdef\u001b[0m \u001b[0m__deepcopy__\u001b[0m\u001b[0;34m(\u001b[0m\u001b[0mself\u001b[0m\u001b[0;34m,\u001b[0m \u001b[0;34m*\u001b[0m\u001b[0margs\u001b[0m\u001b[0;34m)\u001b[0m\u001b[0;34m:\u001b[0m\u001b[0;34m\u001b[0m\u001b[0;34m\u001b[0m\u001b[0m\n\u001b[0;32m--> 250\u001b[0;31m         \u001b[0;32mreturn\u001b[0m \u001b[0mself\u001b[0m\u001b[0;34m.\u001b[0m\u001b[0mcopy\u001b[0m\u001b[0;34m(\u001b[0m\u001b[0;34m)\u001b[0m\u001b[0;34m\u001b[0m\u001b[0;34m\u001b[0m\u001b[0m\n\u001b[0m\u001b[1;32m    251\u001b[0m \u001b[0;34m\u001b[0m\u001b[0m\n\u001b[1;32m    252\u001b[0m     \u001b[0;32mdef\u001b[0m \u001b[0m__hash__\u001b[0m\u001b[0;34m(\u001b[0m\u001b[0mself\u001b[0m\u001b[0;34m)\u001b[0m\u001b[0;34m:\u001b[0m\u001b[0;34m\u001b[0m\u001b[0;34m\u001b[0m\u001b[0m\n",
      "\u001b[0;32m~/opt/miniconda3/envs/msmsense/lib/python3.8/site-packages/mdtraj/core/topology.py\u001b[0m in \u001b[0;36mcopy\u001b[0;34m(self)\u001b[0m\n\u001b[1;32m    239\u001b[0m \u001b[0;34m\u001b[0m\u001b[0m\n\u001b[1;32m    240\u001b[0m         \u001b[0;32mfor\u001b[0m \u001b[0mbond\u001b[0m \u001b[0;32min\u001b[0m \u001b[0mself\u001b[0m\u001b[0;34m.\u001b[0m\u001b[0mbonds\u001b[0m\u001b[0;34m:\u001b[0m\u001b[0;34m\u001b[0m\u001b[0;34m\u001b[0m\u001b[0m\n\u001b[0;32m--> 241\u001b[0;31m             \u001b[0ma1\u001b[0m\u001b[0;34m,\u001b[0m \u001b[0ma2\u001b[0m \u001b[0;34m=\u001b[0m \u001b[0mbond\u001b[0m\u001b[0;34m\u001b[0m\u001b[0;34m\u001b[0m\u001b[0m\n\u001b[0m\u001b[1;32m    242\u001b[0m             \u001b[0mout\u001b[0m\u001b[0;34m.\u001b[0m\u001b[0madd_bond\u001b[0m\u001b[0;34m(\u001b[0m\u001b[0ma1\u001b[0m\u001b[0;34m,\u001b[0m \u001b[0ma2\u001b[0m\u001b[0;34m,\u001b[0m \u001b[0mtype\u001b[0m\u001b[0;34m=\u001b[0m\u001b[0mbond\u001b[0m\u001b[0;34m.\u001b[0m\u001b[0mtype\u001b[0m\u001b[0;34m,\u001b[0m \u001b[0morder\u001b[0m\u001b[0;34m=\u001b[0m\u001b[0mbond\u001b[0m\u001b[0;34m.\u001b[0m\u001b[0morder\u001b[0m\u001b[0;34m)\u001b[0m\u001b[0;34m\u001b[0m\u001b[0;34m\u001b[0m\u001b[0m\n\u001b[1;32m    243\u001b[0m \u001b[0;34m\u001b[0m\u001b[0m\n",
      "\u001b[0;31mKeyboardInterrupt\u001b[0m: "
     ]
    }
   ],
   "source": [
    "rng = np.random.default_rng(12098345)\n",
    "\n",
    "for bs_num in range(num_bs_iter):\n",
    "    print('BS iteration ', bs_num)\n",
    "    tic = time.time()\n",
    "    \n",
    "    \n",
    "    # Create output directory\n",
    "    iter_out_dir = out_dir.joinpath(f\"iter_{bs_num}\")\n",
    "    iter_out_dir.mkdir(exist_ok=True)\n",
    "\n",
    "    # Sample traj paths and save results\n",
    "    traj_paths = get_trajs_top(traj_dir, protein_dir, rng)\n",
    "    assert len(traj_paths['trajs']) > 0, 'no trajectories found'\n",
    "    pickle.dump(file=iter_out_dir.joinpath('input_paths.pkl').open('wb'), obj=traj_paths)\n",
    "\n",
    "    top = md.load(str(traj_paths['top']))\n",
    "    trajs = [md.load(str(x), top=top) for x in traj_paths['trajs']]\n",
    "    print('\\tfinished loading trajectories')\n",
    "    \n",
    "    # Fit models and find paths\n",
    "    models = {}\n",
    "    for row_num in mod_defs.index:\n",
    "        print('Model num ', row_num)\n",
    "        hp_ix = mod_defs.hp_index[row_num]\n",
    "        hp_rank = mod_defs.hp_rank[row_num]\n",
    "        \n",
    "        # model hyperparameters\n",
    "        lag = mod_defs.lag[row_num]\n",
    "        num_evs = mod_defs.k[row_num]\n",
    "        feat_kws = get_feature_dict(mod_defs, row_num)\n",
    "        tica_kws = get_kws_dict(mod_defs, row_num, 'tica')\n",
    "        cluster_kws = get_kws_dict(mod_defs, row_num, 'cluster')\n",
    "\n",
    "        # Fit model\n",
    "        model = MSM(lag = lag, num_evs=num_evs, trajs=trajs, top=top,  feature_kws=feat_kws, tica_kws=tica_kws, cluster_kws=cluster_kws)\n",
    "        model.fit()\n",
    "        print('\\tfinished fitting model')\n",
    "        # Estimate all paths\n",
    "        \n",
    "        model.projection_paths(n_points=n_points, n_geom_samples=n_geom_samples)\n",
    "        print('\\tfinished projecting paths')\n",
    "        pickle.dump(file=iter_out_dir.joinpath(f\"mod_{row_num}_hp_{hp_ix}_rank_{hp_rank}_paths.pkl\").open('wb'), obj=model.paths)\n",
    "        print('\\tfinished dumping paths')\n",
    "        # Accumulate models for comparisons\n",
    "        models[row_num] = model\n",
    "    \n",
    "    \n",
    "    # Do model comparisons\n",
    "    for proc_num in list(models[comparator_ix].paths.keys()):  # shouldn't matter which model is used here. \n",
    "        print('\\tcomparing path ', proc_num)\n",
    "        paths = {k: v.get_projection_trajectory(proc_num+1) for k, v in models.items()}\n",
    "        projs = {f\"mod_{k}_on_mod_{comparator_ix}\": models[comparator_ix].transform(v)[0] for k, v in paths.items()}\n",
    "        pickle.dump(file=iter_out_dir.joinpath(f'path_{proc_num}_comparison.pkl').open('wb'), obj=projs)\n",
    "        \n",
    "    print((time.time() - tic)/60)"
   ]
  },
  {
   "cell_type": "code",
   "execution_count": 91,
   "id": "805039bb-96df-49b9-826a-177f796fbb80",
   "metadata": {},
   "outputs": [],
   "source": [
    "comp = pickle.load(open('/Volumes/REA/Data/fast_folders/model_comparisons/1FME/iter_0/path_0_comparison.pkl', 'rb'))"
   ]
  },
  {
   "cell_type": "markdown",
   "id": "fa03f1da-a063-4441-9363-1fd3eca9c4a8",
   "metadata": {},
   "source": [
    "some timings regarding options for projection_paths: \n",
    "\n",
    "with only one strategy (`most_pop`) the following times were observed for three modesl with three paths each. \n",
    "`n_geom_samples = 100` = 14mins\n",
    "`n_geom_samples = 50` = 6mins\n",
    "\n",
    "so it appears that `n_geom_samples` scales linearly or just worse. \n",
    "\n",
    "Each strategy only takes a couple of seconds so not really a problem to try all four. Bimodal_compact does seem to be the most popular though (for 1fme anyway). \n",
    "\n"
   ]
  },
  {
   "cell_type": "code",
   "execution_count": 92,
   "id": "942aa5cb-66c6-46d9-83c6-14aafad74059",
   "metadata": {},
   "outputs": [
    {
     "data": {
      "text/plain": [
       "[<matplotlib.lines.Line2D at 0x7fea66074e80>,\n",
       " <matplotlib.lines.Line2D at 0x7fea66074c40>,\n",
       " <matplotlib.lines.Line2D at 0x7fea66074fa0>]"
      ]
     },
     "execution_count": 92,
     "metadata": {},
     "output_type": "execute_result"
    },
    {
     "data": {
      "image/png": "[encoded data removed]",
      "text/plain": [
       "<Figure size 432x288 with 1 Axes>"
      ]
     },
     "metadata": {
      "needs_background": "light"
     },
     "output_type": "display_data"
    }
   ],
   "source": [
    "plt.plot(comp['mod_0_on_mod_0'])"
   ]
  },
  {
   "cell_type": "code",
   "execution_count": 93,
   "id": "0b693c97-3db6-4d6d-aeb2-17974ca956f7",
   "metadata": {},
   "outputs": [
    {
     "data": {
      "text/plain": [
       "[<matplotlib.lines.Line2D at 0x7fea03270e50>,\n",
       " <matplotlib.lines.Line2D at 0x7fea032703d0>,\n",
       " <matplotlib.lines.Line2D at 0x7fea653d1850>]"
      ]
     },
     "execution_count": 93,
     "metadata": {},
     "output_type": "execute_result"
    },
    {
     "data": {
      "image/png": "[encoded data removed]",
      "text/plain": [
       "<Figure size 432x288 with 1 Axes>"
      ]
     },
     "metadata": {
      "needs_background": "light"
     },
     "output_type": "display_data"
    }
   ],
   "source": [
    "plt.plot(comp['mod_1_on_mod_0'])"
   ]
  },
  {
   "cell_type": "code",
   "execution_count": 94,
   "id": "d05f3347-1a9d-4f0d-a314-cab8b45e7def",
   "metadata": {},
   "outputs": [
    {
     "data": {
      "text/plain": [
       "[<matplotlib.lines.Line2D at 0x7fea71d53610>,\n",
       " <matplotlib.lines.Line2D at 0x7fea71d531c0>,\n",
       " <matplotlib.lines.Line2D at 0x7fea71d53e20>]"
      ]
     },
     "execution_count": 94,
     "metadata": {},
     "output_type": "execute_result"
    },
    {
     "data": {
      "image/png": "[encoded data removed]",
      "text/plain": [
       "<Figure size 432x288 with 1 Axes>"
      ]
     },
     "metadata": {
      "needs_background": "light"
     },
     "output_type": "display_data"
    }
   ],
   "source": [
    "plt.plot(comp['mod_2_on_mod_0'])"
   ]
  },
  {
   "cell_type": "code",
   "execution_count": null,
   "id": "6889572d-7269-4207-80ad-c53993ab3bf5",
   "metadata": {},
   "outputs": [],
   "source": []
  }
 ],
 "metadata": {
  "kernelspec": {
   "display_name": "Python 3 (ipykernel)",
   "language": "python",
   "name": "python3"
  },
  "language_info": {
   "codemirror_mode": {
    "name": "ipython",
    "version": 3
   },
   "file_extension": ".py",
   "mimetype": "text/x-python",
   "name": "python",
   "nbconvert_exporter": "python",
   "pygments_lexer": "ipython3",
   "version": "3.8.0"
  }
 },
 "nbformat": 4,
 "nbformat_minor": 5
}
