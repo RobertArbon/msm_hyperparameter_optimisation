{
 "cells": [
  {
   "cell_type": "code",
   "execution_count": 109,
   "id": "08e84806-60cb-4265-a20b-cd722dcfa9c4",
   "metadata": {},
   "outputs": [],
   "source": [
    "import pyemma as pm\n",
    "import mdtraj as md\n",
    "from molpx.generate import projection_paths\n",
    "import matplotlib.pyplot as plt\n",
    "import numpy as np\n",
    "from pathlib import Path\n",
    "import pandas as pd\n",
    "from typing import Dict, Union, List\n",
    "from msmsense.featurizers import dihedrals, distances\n",
    "from msmsense.bootstrap_cmatrices import get_sub_dict, get_trajs\n",
    "from functools import partial"
   ]
  },
  {
   "cell_type": "code",
   "execution_count": 110,
   "id": "2dc8158b-04e5-4684-a651-93e1661084a2",
   "metadata": {},
   "outputs": [],
   "source": [
    "def get_feature_dict(df, row_num):\n",
    "    row_dict = df.filter(regex='__', axis=1).loc[row_num, :].to_dict()\n",
    "    feature_dict = get_sub_dict(row_dict, 'feature')\n",
    "    if feature_dict['value'] == 'distances':\n",
    "        feature_dict.update(get_sub_dict(row_dict, 'distances'))\n",
    "    if feature_dict['value'] == 'dihedrals':\n",
    "        feature_dict.update(get_sub_dict(row_dict, 'dihedrals'))\n",
    "    return feature_dict\n",
    "\n",
    "def get_kws_dict(df, row_num, kws):\n",
    "    row_dict = df.filter(regex='__', axis=1).loc[row_num, :].to_dict()   \n",
    "    kws_dict = get_sub_dict(row_dict, kws)\n",
    "    return kws_dict\n",
    "\n",
    "def set_proper_dtypes(df):\n",
    "    \"\"\"\n",
    "    forgot to save integers as integers. Only the distances feature columns have true floats. \n",
    "    \"\"\"\n",
    "    potential_integer_cols = df.columns.difference(list(df.filter(regex='distances.*', axis=1)))\n",
    "    for col in potential_integer_cols:\n",
    "        if str(df[col].dtype) != 'object':\n",
    "            df[col] = df[col].astype(int)\n",
    "    return df\n",
    "\n",
    "def get_trajs_top(traj_dir: Path, protein_dir: str):\n",
    "    trajs = list(traj_dir.rglob(f\"*{protein_dir.upper()}*/*.xtc\"))\n",
    "    trajs.sort()\n",
    "    top = list(traj_dir.rglob(f\"*{protein_dir.upper()}*/*.pdb\"))[0]\n",
    "    \n",
    "    return {'trajs': trajs, 'top': top}\n",
    "    "
   ]
  },
  {
   "cell_type": "code",
   "execution_count": 125,
   "id": "02cebf72-cd33-4b86-9a1a-cee376c8c846",
   "metadata": {},
   "outputs": [],
   "source": [
    "class MSM(object):\n",
    "    \n",
    "    def __init__(self, lag: int, num_procs: int, traj_top_paths: Dict[str,List[Path]], feature_kws: Dict[str, Union[str, int, float]], tica_kws: Dict[str, Union[str, int, float]], cluster_kws: Dict[str, Union[str, int, float]]):\n",
    "        self.lag = lag\n",
    "        self.num_proc = num_procs\n",
    "        self.traj_top_paths = traj_top_paths\n",
    "        self.feature_kws = feature_kws\n",
    "        self.tica_kws = tica_kws\n",
    "        self.cluster_kws = cluster_kws\n",
    "        self.featurizer = None\n",
    "        self._set_featurizer()\n",
    "        \n",
    "        self.tica = None\n",
    "        self.cluster = None\n",
    "        self.msm = None\n",
    "        \n",
    "        \n",
    "    def _set_featurizer(self):\n",
    "        feature_kws = self.feature_kws.copy()\n",
    "        feature = feature_kws.pop('value')\n",
    "        \n",
    "        if feature == 'distances':\n",
    "            self.featurizer = partial(distances, **feature_kws)\n",
    "        elif feature == 'dihedrals':\n",
    "            self.featurizer = partial(dihedrals, **feature_kws)\n",
    "        else:\n",
    "            raise NotImplementedError('Unrecognized feature')\n",
    "        \n",
    "\n",
    "    def fit(self):\n",
    "        trajs = get_trajs(self.traj_top_paths)\n",
    "        ftrajs = self.featurizer(trajs)\n",
    "        self.tica = pm.coordinates.tica(data=ftrajs, **self.tica_kws)\n",
    "        ttrajs = self.tica.get_output()\n",
    "        self.cluster = pm.coordinates.cluster_kmeans(data=ttrajs, **self.cluster_kws)\n",
    "        dtrajs = self.cluster.dtrajs\n",
    "        self.msm = pm.msm.estimate_markov_model(dtrajs=dtrajs, lag=self.lag)\n",
    "\n",
    "    def projection_paths(self, num_points: int=100):\n",
    "        \n",
    "\n",
    "        \n",
    "        \n",
    "            \n",
    "        \n",
    "    "
   ]
  },
  {
   "cell_type": "code",
   "execution_count": 126,
   "id": "2e2c6bdc-74cb-4a7d-a092-c4f263e77dc1",
   "metadata": {},
   "outputs": [],
   "source": [
    "mod_defs = set_proper_dtypes(pd.read_hdf('../results/best_hps_per_feature.h5', key='best_hps_per_feature'))"
   ]
  },
  {
   "cell_type": "code",
   "execution_count": 127,
   "id": "445c63cd-6543-40a1-9155-40237a00898d",
   "metadata": {},
   "outputs": [],
   "source": [
    "traj_dir = Path('/Volumes/REA/MD/12FF/strided/')"
   ]
  },
  {
   "cell_type": "code",
   "execution_count": 128,
   "id": "5e3aa233-7e66-4b71-9ae1-db762fb39633",
   "metadata": {},
   "outputs": [],
   "source": [
    "row_num = 0\n",
    "protein_dir = mod_defs.protein_dir[row_num].upper()\n",
    "lag = mod_defs.lag[row_num]\n",
    "num_procs = mod_defs.k[row_num]\n",
    "\n",
    "traj_dict = get_trajs_top(traj_dir, protein_dir)\n",
    "feat_kws = get_feature_dict(mod_defs, row_num)\n",
    "tica_kws = get_kws_dict(mod_defs, row_num, 'tica')\n",
    "cluster_kws = get_kws_dict(mod_defs, row_num, 'cluster')\n",
    "\n",
    "model = MSM(lag = lag, num_procs=num_procs, traj_top_paths=traj_dict, feature_kws=feat_kws, tica_kws=tica_kws, cluster_kws=cluster_kws)"
   ]
  },
  {
   "cell_type": "code",
   "execution_count": 129,
   "id": "8677df55-f0f7-4425-ac4a-a40f5d412941",
   "metadata": {},
   "outputs": [
    {
     "name": "stdout",
     "output_type": "stream",
     "text": [
      "Loaded 164 trajectories\n",
      "Featurized trajectories\n"
     ]
    },
    {
     "data": {
      "application/vnd.jupyter.widget-view+json": {
       "model_id": "",
       "version_major": 2,
       "version_minor": 0
      },
      "text/plain": [
       "calculate covariances:   0%|                                                                                  …"
      ]
     },
     "metadata": {},
     "output_type": "display_data"
    },
    {
     "name": "stdout",
     "output_type": "stream",
     "text": [
      "TICA finished\n"
     ]
    },
    {
     "data": {
      "application/vnd.jupyter.widget-view+json": {
       "model_id": "",
       "version_major": 2,
       "version_minor": 0
      },
      "text/plain": [
       "getting output of TICA:   0%|                                                                                 …"
      ]
     },
     "metadata": {},
     "output_type": "display_data"
    },
    {
     "data": {
      "application/vnd.jupyter.widget-view+json": {
       "model_id": "",
       "version_major": 2,
       "version_minor": 0
      },
      "text/plain": [
       "initialize kmeans++ centers:   0%|                                                                            …"
      ]
     },
     "metadata": {},
     "output_type": "display_data"
    },
    {
     "data": {
      "application/vnd.jupyter.widget-view+json": {
       "model_id": "",
       "version_major": 2,
       "version_minor": 0
      },
      "text/plain": [
       "kmeans iterations:   0%|                                                                                      …"
      ]
     },
     "metadata": {},
     "output_type": "display_data"
    },
    {
     "data": {
      "application/vnd.jupyter.widget-view+json": {
       "model_id": "",
       "version_major": 2,
       "version_minor": 0
      },
      "text/plain": [
       "getting output of KmeansClustering:   0%|                                                                     …"
      ]
     },
     "metadata": {},
     "output_type": "display_data"
    },
    {
     "name": "stdout",
     "output_type": "stream",
     "text": [
      "clutered trajectories\n",
      "Fitted MSM\n"
     ]
    }
   ],
   "source": [
    "model.fit()"
   ]
  },
  {
   "cell_type": "code",
   "execution_count": null,
   "id": "4aed2ec0-ff39-494d-b17f-099543e9f3cf",
   "metadata": {},
   "outputs": [],
   "source": []
  }
 ],
 "metadata": {
  "kernelspec": {
   "display_name": "Python 3 (ipykernel)",
   "language": "python",
   "name": "python3"
  },
  "language_info": {
   "codemirror_mode": {
    "name": "ipython",
    "version": 3
   },
   "file_extension": ".py",
   "mimetype": "text/x-python",
   "name": "python",
   "nbconvert_exporter": "python",
   "pygments_lexer": "ipython3",
   "version": "3.8.0"
  }
 },
 "nbformat": 4,
 "nbformat_minor": 5
}
