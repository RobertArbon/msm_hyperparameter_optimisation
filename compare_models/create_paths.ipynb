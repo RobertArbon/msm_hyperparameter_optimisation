{
 "cells": [
  {
   "cell_type": "code",
   "execution_count": 2,
   "id": "0fde075b-a84c-42ca-bd20-1f025ec5cda5",
   "metadata": {
    "tags": []
   },
   "outputs": [
    {
     "data": {
      "application/vnd.jupyter.widget-view+json": {
       "model_id": "083beea2ba7b4af1b06402b51ca4bb84",
       "version_major": 2,
       "version_minor": 0
      },
      "text/plain": []
     },
     "metadata": {},
     "output_type": "display_data"
    }
   ],
   "source": [
    "import pyemma as pm\n",
    "import mdtraj as md\n",
    "from molpx.generate import projection_paths\n",
    "import matplotlib.pyplot as plt\n",
    "import numpy as np\n",
    "from pathlib import Path\n",
    "import pandas as pd\n",
    "from typing import Dict, Union, List\n",
    "from msmsense.featurizers import dihedrals, distances\n",
    "from msmsense.bootstrap_cmatrices import get_sub_dict, get_trajs\n",
    "from functools import partial\n",
    "\n",
    "%matplotlib inline\n",
    "\n",
    "import pickle\n",
    "import time"
   ]
  },
  {
   "cell_type": "code",
   "execution_count": 3,
   "id": "2dc8158b-04e5-4684-a651-93e1661084a2",
   "metadata": {},
   "outputs": [],
   "source": [
    "def get_feature_dict(df, row_num):\n",
    "    row_dict = df.filter(regex='__', axis=1).loc[row_num, :].to_dict()\n",
    "    feature_dict = get_sub_dict(row_dict, 'feature')\n",
    "    if feature_dict['value'] == 'distances':\n",
    "        feature_dict.update(get_sub_dict(row_dict, 'distances'))\n",
    "    if feature_dict['value'] == 'dihedrals':\n",
    "        feature_dict.update(get_sub_dict(row_dict, 'dihedrals'))\n",
    "    return feature_dict\n",
    "\n",
    "def get_kws_dict(df, row_num, kws):\n",
    "    row_dict = df.filter(regex='__', axis=1).loc[row_num, :].to_dict()   \n",
    "    kws_dict = get_sub_dict(row_dict, kws)\n",
    "    return kws_dict\n",
    "\n",
    "def set_proper_dtypes(df):\n",
    "    \"\"\"\n",
    "    forgot to save integers as integers. Only the distances feature columns have true floats. \n",
    "    \"\"\"\n",
    "    potential_integer_cols = df.columns.difference(list(df.filter(regex='distances.*', axis=1)))\n",
    "    for col in potential_integer_cols:\n",
    "        if str(df[col].dtype) != 'object':\n",
    "            df[col] = df[col].astype(int)\n",
    "    return df\n",
    "\n",
    "def get_trajs_top(traj_dir: Path, protein_dir: str, rng: Union[np.random.Generator, None]=None):\n",
    "    trajs = list(traj_dir.rglob(f\"*{protein_dir.upper()}*/*.xtc\"))\n",
    "    trajs.sort()\n",
    "    \n",
    "    if rng is not None:\n",
    "        ix = rng.choice(np.arange(len(trajs)), size=10, replace=True)\n",
    "        trajs = [trajs[i] for i in ix]\n",
    "    \n",
    "    top = list(traj_dir.rglob(f\"*{protein_dir.upper()}*/*.pdb\"))[0]\n",
    "    \n",
    "    return {'trajs': trajs, 'top': top}\n",
    "    "
   ]
  },
  {
   "cell_type": "code",
   "execution_count": 4,
   "id": "02cebf72-cd33-4b86-9a1a-cee376c8c846",
   "metadata": {},
   "outputs": [],
   "source": [
    "class MSM(object):\n",
    "    \n",
    "    def __init__(self, lag: int, num_evs: int, trajs: List[md.Trajectory], top: md.Trajectory,\n",
    "                 feature_kws: Dict[str, Union[str, int, float]], tica_kws: Dict[str, Union[str, int, float]], cluster_kws: Dict[str, Union[str, int, float]]):\n",
    "        \"\"\"\n",
    "        Defines the whole MSM pipeline.\n",
    "        lag: markov lag time \n",
    "        num_evs: number of eigenvectors in VAMP score. This includes stationary distribution. note: all projections are done onto the processes 1 - num_evs, i.e., exclude the stationary distribution (process 0)\n",
    "        traj_top_paths: dictionary with 'trajs' - list of Paths to trajectories, and 'top' Path to topology file. \n",
    "        \n",
    "        \"\"\"\n",
    "        self.lag = lag\n",
    "        self.num_evs = num_evs\n",
    "        self.trajs = trajs\n",
    "        self.top = top\n",
    "        self.feature_kws = feature_kws\n",
    "        self.tica_kws = tica_kws\n",
    "        self.cluster_kws = cluster_kws\n",
    "        self.featurizer = None\n",
    "        self._set_featurizer()\n",
    "        \n",
    "        self.tica = None\n",
    "        self.cluster = None\n",
    "        self.msm = None\n",
    "        self.paths = None\n",
    "        \n",
    "    def _set_featurizer(self):\n",
    "        feature_kws = self.feature_kws.copy()\n",
    "        feature = feature_kws.pop('value')\n",
    "        \n",
    "        if feature == 'distances':\n",
    "            self.featurizer = partial(distances, **feature_kws)\n",
    "        elif feature == 'dihedrals':\n",
    "            self.featurizer = partial(dihedrals, **feature_kws)\n",
    "        else:\n",
    "            raise NotImplementedError('Unrecognized feature')\n",
    "        \n",
    "\n",
    "    def fit(self):\n",
    "        ftrajs = self.featurizer(self.trajs)\n",
    "        self.tica = pm.coordinates.tica(data=ftrajs, **self.tica_kws)\n",
    "        ttrajs = self.tica.get_output()\n",
    "        self.cluster = pm.coordinates.cluster_kmeans(data=ttrajs, **self.cluster_kws)\n",
    "        dtrajs = self.cluster.dtrajs\n",
    "        self.msm = pm.msm.estimate_markov_model(dtrajs=dtrajs, lag=self.lag)\n",
    "\n",
    "    \n",
    "    def _get_all_projections(self, num_procs: int, dtrajs: List[np.ndarray]) -> np.ndarray:\n",
    "        \"\"\" Project dtrajs onto first num_proc eigenvectors excluding stationary distribution. i.e., if num_proc=1 then project onto the slowest eigenvector only. \n",
    "        All projections ignore the stationary distribution\n",
    "        \"\"\"\n",
    "        evs = self.msm.eigenvectors_left(num_procs+1)\n",
    "        active_set = self.msm.active_set\n",
    "        non_active_set_val = 0 # if the state is not in the active set, set the projection to this value. \n",
    "        \n",
    "        evs = evs[1:, :] # remove the stationary distribution\n",
    "        proj_trajs = []\n",
    "        for dtraj in dtrajs:\n",
    "            all_procs = []\n",
    "            for proc_num in range(num_procs):\n",
    "                \n",
    "                tmp = np.zeros(dtraj.shape[0], dtype=float)\n",
    "                for i in range(dtraj.shape[0]):\n",
    "                    x = dtraj[i]\n",
    "                    if x in active_set:\n",
    "                        tmp[i] = evs[proc_num, x]\n",
    "                    else:\n",
    "                        tmp[i] = non_active_set_val\n",
    "                tmp = tmp.reshape(-1, 1)\n",
    "                \n",
    "                all_procs.append(tmp)\n",
    "            all_procs = np.concatenate(all_procs, axis=1)\n",
    "            proj_trajs.append(all_procs)\n",
    "        \n",
    "        return proj_trajs\n",
    "        \n",
    "        \n",
    "    def projection_paths(self, n_projs: Union[None, int]=None, proj_dim: Union[None, int]=None, n_points: int=100, n_geom_samples: int=100):\n",
    "        \"\"\"\n",
    "        n_projs: number of paths to create. Default = None = num_evs - 1 (i.e., exclude stationary distribution)\n",
    "        proj_dim: dimensionality of the space in which distances will be computed. Default = None = num_evs - 1 (i.e., exclude stationary distribution)\n",
    "        n_points: number of points along the path (there may be less than this.)\n",
    "        n_geom_samples: For each of the n_points along the projection path, n_geom_samples will be retrieved from the trajectory files. \n",
    "                        The higher this number, the smoother the minRMSD projection path. Also, the longer it takes for the path to be computed\n",
    "        \"\"\"\n",
    "        \n",
    "        if proj_dim is None:\n",
    "            proj_dim = self.num_evs - 1\n",
    "        if n_projs is None:\n",
    "            n_projs = self.num_evs - 1\n",
    "        \n",
    "        projections = self._get_all_projections(num_procs=proj_dim, dtrajs=self.msm.discrete_trajectories_active)\n",
    "        \n",
    "        paths, _ = projection_paths(MD_trajectories=self.trajs, MD_top = self.top, projected_trajectories=projections, \n",
    "                                    n_projs=n_projs, proj_dim=proj_dim, n_geom_samples=n_geom_samples, n_points=n_points)\n",
    "        self.paths = paths\n",
    "        \n",
    "        \n",
    "    \n",
    "    def get_projection_trajectory(self, proc_num: int, kind: str='min_rmsd') -> md.Trajectory:\n",
    "        \"\"\"\n",
    "        Returns the projection trajectory for a specific dimension\n",
    "        proc_num: the number process. Min value = 1\n",
    "        \"\"\"\n",
    "        if proc_num == 0:\n",
    "            raise ValueError(\"process_num must be >=1. Processes are indexed from 0 (stationary distribution). Process 1 is the slowest projected process.\")\n",
    "            \n",
    "        return self.paths[proc_num-1][kind]['geom']\n",
    "    \n",
    "    \n",
    "    def transform(self, new_trajectory: md.Trajectory) -> np.ndarray:\n",
    "        \"\"\"\n",
    "        projects new trajectory onto the self.num_proc eigenvectors of the MSM\n",
    "        \"\"\"\n",
    "        ftrajs = self.featurizer([new_trajectory])\n",
    "        ttrajs = self.tica.transform(ftrajs)\n",
    "        dtrajs = self.cluster.transform(ttrajs)\n",
    "        projections = self._get_all_projections(num_procs=self.num_evs - 1, dtrajs=dtrajs)\n",
    "        return projections\n",
    "        \n",
    "        \n",
    "    "
   ]
  },
  {
   "cell_type": "code",
   "execution_count": 5,
   "id": "77848960-46db-475e-9865-f24411a1931f",
   "metadata": {},
   "outputs": [],
   "source": [
    "traj_dir = Path('/Volumes/REA/MD/12FF/strided/')\n",
    "protein_dir = '1FME'\n",
    "out_dir = Path('/Volumes/REA/Data/fast_folders/model_comparisons/').joinpath(protein_dir)\n",
    "out_dir.mkdir(exist_ok=True, parents=True)\n",
    "comparator_ix = 0 # Always best because of sorting. \n",
    "num_bs_iter = 2\n",
    "n_points = 50 # points along path\n",
    "n_geom_samples = 50 # samples to create min rmsd"
   ]
  },
  {
   "cell_type": "code",
   "execution_count": 6,
   "id": "42912333-a473-4850-8eca-9613e3670ccd",
   "metadata": {},
   "outputs": [],
   "source": [
    "\n",
    "mod_defs = set_proper_dtypes(pd.read_hdf('../results/best_hps_per_feature.h5', key='best_hps_per_feature'))\n",
    "mod_defs = mod_defs.loc[mod_defs.protein_dir==protein_dir.lower(), :]\n",
    "mod_defs.sort_values(by=['protein', 'hp_rank'], inplace=True)\n",
    "mod_defs.reset_index(inplace=True, drop=True)"
   ]
  },
  {
   "cell_type": "code",
   "execution_count": 7,
   "id": "4faf7136-e6ac-4ad1-8bf1-953a67445eba",
   "metadata": {},
   "outputs": [],
   "source": [
    "mod_defs.to_hdf(out_dir.joinpath('model_definitions.h5'), key='model_definitions')"
   ]
  },
  {
   "cell_type": "code",
   "execution_count": 8,
   "id": "64e34096-b59b-4557-a7a9-4334996d47d7",
   "metadata": {},
   "outputs": [
    {
     "name": "stdout",
     "output_type": "stream",
     "text": [
      "BS iteration  0\n",
      "\tfinished loading trajectories\n",
      "Model num  0\n"
     ]
    },
    {
     "data": {
      "application/vnd.jupyter.widget-view+json": {
       "model_id": "",
       "version_major": 2,
       "version_minor": 0
      },
      "text/plain": [
       "calculate covariances:   0%|                                                                                  …"
      ]
     },
     "metadata": {},
     "output_type": "display_data"
    },
    {
     "data": {
      "application/vnd.jupyter.widget-view+json": {
       "model_id": "",
       "version_major": 2,
       "version_minor": 0
      },
      "text/plain": [
       "getting output of TICA:   0%|                                                                                 …"
      ]
     },
     "metadata": {},
     "output_type": "display_data"
    },
    {
     "data": {
      "application/vnd.jupyter.widget-view+json": {
       "model_id": "",
       "version_major": 2,
       "version_minor": 0
      },
      "text/plain": [
       "initialize kmeans++ centers:   0%|                                                                            …"
      ]
     },
     "metadata": {},
     "output_type": "display_data"
    },
    {
     "data": {
      "application/vnd.jupyter.widget-view+json": {
       "model_id": "",
       "version_major": 2,
       "version_minor": 0
      },
      "text/plain": [
       "kmeans iterations:   0%|                                                                                      …"
      ]
     },
     "metadata": {},
     "output_type": "display_data"
    },
    {
     "data": {
      "application/vnd.jupyter.widget-view+json": {
       "model_id": "",
       "version_major": 2,
       "version_minor": 0
      },
      "text/plain": [
       "getting output of KmeansClustering:   0%|                                                                     …"
      ]
     },
     "metadata": {},
     "output_type": "display_data"
    },
    {
     "name": "stdout",
     "output_type": "stream",
     "text": [
      "\tfinished fitting model\n"
     ]
    },
    {
     "data": {
      "application/vnd.jupyter.widget-view+json": {
       "model_id": "",
       "version_major": 2,
       "version_minor": 0
      },
      "text/plain": [
       "getting output of RegularSpaceClustering:   0%|                                                               …"
      ]
     },
     "metadata": {},
     "output_type": "display_data"
    },
    {
     "name": "stdout",
     "output_type": "stream",
     "text": [
      "Strategy most_pop starting at 0.00144311 diffuses 0.00452834 in 3D proj-space\n",
      "\t most_pop  finished  0.011820316314697266\n",
      "Strategy smallest_Rgyr starting at -0.00136987 diffuses 0.00441648 in 3D proj-space\n",
      "\t smallest_Rgyr  finished  0.011693235238393147\n",
      "Strategy most_pop_x_smallest_Rgyr starting at -0.0242235 diffuses 0.00439018 in 3D proj-space\n",
      "\t most_pop_x_smallest_Rgyr  finished  0.011913446585337321\n",
      "Strategy bimodal_compact starting at -0.0242235 diffuses 0.00439018 in 3D proj-space\n",
      "\t bimodal_compact  finished  0.012691871325174967\n",
      "Sticking with bimodal_compact\n"
     ]
    },
    {
     "data": {
      "application/vnd.jupyter.widget-view+json": {
       "model_id": "",
       "version_major": 2,
       "version_minor": 0
      },
      "text/plain": [
       "getting output of RegularSpaceClustering:   0%|                                                               …"
      ]
     },
     "metadata": {},
     "output_type": "display_data"
    },
    {
     "name": "stdout",
     "output_type": "stream",
     "text": [
      "Strategy most_pop starting at 0.000119176 diffuses 0.0161254 in 3D proj-space\n",
      "\t most_pop  finished  0.011771019299825032\n",
      "Strategy smallest_Rgyr starting at -0.00395598 diffuses 0.0161346 in 3D proj-space\n",
      "\t smallest_Rgyr  finished  0.011680301030476887\n",
      "Strategy most_pop_x_smallest_Rgyr starting at -0.022813 diffuses 0.0159734 in 3D proj-space\n",
      "\t most_pop_x_smallest_Rgyr  finished  0.01196448008219401\n",
      "Strategy bimodal_compact starting at -0.0137735 diffuses 0.0159691 in 3D proj-space\n",
      "\t bimodal_compact  finished  0.012843644618988037\n",
      "Sticking with bimodal_compact\n"
     ]
    },
    {
     "data": {
      "application/vnd.jupyter.widget-view+json": {
       "model_id": "",
       "version_major": 2,
       "version_minor": 0
      },
      "text/plain": [
       "getting output of RegularSpaceClustering:   0%|                                                               …"
      ]
     },
     "metadata": {},
     "output_type": "display_data"
    },
    {
     "name": "stdout",
     "output_type": "stream",
     "text": [
      "Strategy most_pop starting at -8.33529e-05 diffuses 0.0158895 in 3D proj-space\n",
      "\t most_pop  finished  0.011069150765736897\n",
      "Strategy smallest_Rgyr starting at 0.00128203 diffuses 0.0148777 in 3D proj-space\n",
      "\t smallest_Rgyr  finished  0.012804834047953288\n",
      "Strategy most_pop_x_smallest_Rgyr starting at -8.33529e-05 diffuses 0.0158895 in 3D proj-space\n",
      "\t most_pop_x_smallest_Rgyr  finished  0.011843999226888021\n",
      "Strategy bimodal_compact starting at 0.000356882 diffuses 0.014442 in 3D proj-space\n",
      "\t bimodal_compact  finished  0.011712332566579184\n",
      "Sticking with bimodal_compact\n",
      "\tfinished projecting paths\n",
      "\tfinished dumping paths\n",
      "Model num  1\n"
     ]
    },
    {
     "data": {
      "application/vnd.jupyter.widget-view+json": {
       "model_id": "",
       "version_major": 2,
       "version_minor": 0
      },
      "text/plain": [
       "calculate covariances:   0%|                                                                                  …"
      ]
     },
     "metadata": {},
     "output_type": "display_data"
    },
    {
     "data": {
      "application/vnd.jupyter.widget-view+json": {
       "model_id": "",
       "version_major": 2,
       "version_minor": 0
      },
      "text/plain": [
       "getting output of TICA:   0%|                                                                                 …"
      ]
     },
     "metadata": {},
     "output_type": "display_data"
    },
    {
     "data": {
      "application/vnd.jupyter.widget-view+json": {
       "model_id": "",
       "version_major": 2,
       "version_minor": 0
      },
      "text/plain": [
       "initialize kmeans++ centers:   0%|                                                                            …"
      ]
     },
     "metadata": {},
     "output_type": "display_data"
    },
    {
     "data": {
      "application/vnd.jupyter.widget-view+json": {
       "model_id": "",
       "version_major": 2,
       "version_minor": 0
      },
      "text/plain": [
       "kmeans iterations:   0%|                                                                                      …"
      ]
     },
     "metadata": {},
     "output_type": "display_data"
    },
    {
     "data": {
      "application/vnd.jupyter.widget-view+json": {
       "model_id": "",
       "version_major": 2,
       "version_minor": 0
      },
      "text/plain": [
       "getting output of KmeansClustering:   0%|                                                                     …"
      ]
     },
     "metadata": {},
     "output_type": "display_data"
    },
    {
     "name": "stdout",
     "output_type": "stream",
     "text": [
      "\tfinished fitting model\n"
     ]
    },
    {
     "data": {
      "application/vnd.jupyter.widget-view+json": {
       "model_id": "",
       "version_major": 2,
       "version_minor": 0
      },
      "text/plain": [
       "getting output of RegularSpaceClustering:   0%|                                                               …"
      ]
     },
     "metadata": {},
     "output_type": "display_data"
    },
    {
     "name": "stdout",
     "output_type": "stream",
     "text": [
      "Strategy most_pop starting at 0.000160961 diffuses 0.00227745 in 3D proj-space\n",
      "\t most_pop  finished  0.011453835169474284\n",
      "Strategy smallest_Rgyr starting at 0.00640552 diffuses 0.00192888 in 3D proj-space\n",
      "\t smallest_Rgyr  finished  0.011868937810262045\n",
      "Strategy most_pop_x_smallest_Rgyr starting at 0 diffuses 0.00222819 in 3D proj-space\n",
      "\t most_pop_x_smallest_Rgyr  finished  0.013257614771525065\n",
      "Strategy bimodal_compact starting at 0.0246258 diffuses 0.00235846 in 3D proj-space\n",
      "\t bimodal_compact  finished  0.012111147244771322\n",
      "Sticking with smallest_Rgyr\n"
     ]
    },
    {
     "data": {
      "application/vnd.jupyter.widget-view+json": {
       "model_id": "",
       "version_major": 2,
       "version_minor": 0
      },
      "text/plain": [
       "getting output of RegularSpaceClustering:   0%|                                                               …"
      ]
     },
     "metadata": {},
     "output_type": "display_data"
    },
    {
     "name": "stdout",
     "output_type": "stream",
     "text": [
      "Strategy most_pop starting at 0 diffuses 0.0187437 in 3D proj-space\n",
      "\t most_pop  finished  0.011627594629923502\n",
      "Strategy smallest_Rgyr starting at 0.00443754 diffuses 0.0186003 in 3D proj-space\n",
      "\t smallest_Rgyr  finished  0.013278130690256755\n",
      "Strategy most_pop_x_smallest_Rgyr starting at 0 diffuses 0.0187437 in 3D proj-space\n",
      "\t most_pop_x_smallest_Rgyr  finished  0.012799465656280517\n",
      "Strategy bimodal_compact starting at 0.0193154 diffuses 0.0184664 in 3D proj-space\n",
      "\t bimodal_compact  finished  0.012890231609344483\n",
      "Sticking with bimodal_compact\n"
     ]
    },
    {
     "data": {
      "application/vnd.jupyter.widget-view+json": {
       "model_id": "",
       "version_major": 2,
       "version_minor": 0
      },
      "text/plain": [
       "getting output of RegularSpaceClustering:   0%|                                                               …"
      ]
     },
     "metadata": {},
     "output_type": "display_data"
    },
    {
     "name": "stdout",
     "output_type": "stream",
     "text": [
      "Strategy most_pop starting at 0 diffuses 0.0125427 in 3D proj-space\n",
      "\t most_pop  finished  0.011464933554331461\n",
      "Strategy smallest_Rgyr starting at -0.00161178 diffuses 0.0132769 in 3D proj-space\n",
      "\t smallest_Rgyr  finished  0.012229832013448079\n",
      "Strategy most_pop_x_smallest_Rgyr starting at -0.00181371 diffuses 0.0125541 in 3D proj-space\n",
      "\t most_pop_x_smallest_Rgyr  finished  0.013165966669718424\n",
      "Strategy bimodal_compact starting at -0.00677879 diffuses 0.0120528 in 3D proj-space\n",
      "\t bimodal_compact  finished  0.01257717212041219\n",
      "Sticking with bimodal_compact\n",
      "\tfinished projecting paths\n",
      "\tfinished dumping paths\n",
      "Model num  2\n"
     ]
    },
    {
     "data": {
      "application/vnd.jupyter.widget-view+json": {
       "model_id": "",
       "version_major": 2,
       "version_minor": 0
      },
      "text/plain": [
       "calculate covariances:   0%|                                                                                  …"
      ]
     },
     "metadata": {},
     "output_type": "display_data"
    },
    {
     "data": {
      "application/vnd.jupyter.widget-view+json": {
       "model_id": "",
       "version_major": 2,
       "version_minor": 0
      },
      "text/plain": [
       "getting output of TICA:   0%|                                                                                 …"
      ]
     },
     "metadata": {},
     "output_type": "display_data"
    },
    {
     "data": {
      "application/vnd.jupyter.widget-view+json": {
       "model_id": "",
       "version_major": 2,
       "version_minor": 0
      },
      "text/plain": [
       "initialize kmeans++ centers:   0%|                                                                            …"
      ]
     },
     "metadata": {},
     "output_type": "display_data"
    },
    {
     "data": {
      "application/vnd.jupyter.widget-view+json": {
       "model_id": "",
       "version_major": 2,
       "version_minor": 0
      },
      "text/plain": [
       "kmeans iterations:   0%|                                                                                      …"
      ]
     },
     "metadata": {},
     "output_type": "display_data"
    },
    {
     "data": {
      "application/vnd.jupyter.widget-view+json": {
       "model_id": "",
       "version_major": 2,
       "version_minor": 0
      },
      "text/plain": [
       "getting output of KmeansClustering:   0%|                                                                     …"
      ]
     },
     "metadata": {},
     "output_type": "display_data"
    },
    {
     "name": "stdout",
     "output_type": "stream",
     "text": [
      "\tfinished fitting model\n"
     ]
    },
    {
     "data": {
      "application/vnd.jupyter.widget-view+json": {
       "model_id": "",
       "version_major": 2,
       "version_minor": 0
      },
      "text/plain": [
       "getting output of RegularSpaceClustering:   0%|                                                               …"
      ]
     },
     "metadata": {},
     "output_type": "display_data"
    },
    {
     "name": "stdout",
     "output_type": "stream",
     "text": [
      "Strategy most_pop starting at 0.0142436 diffuses 0.00925139 in 3D proj-space\n",
      "\t most_pop  finished  0.012267796198527019\n",
      "Strategy smallest_Rgyr starting at 0.00682115 diffuses 0.00726126 in 3D proj-space\n",
      "\t smallest_Rgyr  finished  0.012466967105865479\n",
      "Strategy most_pop_x_smallest_Rgyr starting at 0.0142436 diffuses 0.00925139 in 3D proj-space\n",
      "\t most_pop_x_smallest_Rgyr  finished  0.012589863936106364\n",
      "Strategy bimodal_compact starting at 0.000517897 diffuses 0.00909398 in 3D proj-space\n",
      "\t bimodal_compact  finished  0.014047054449717204\n",
      "Sticking with smallest_Rgyr\n"
     ]
    },
    {
     "data": {
      "application/vnd.jupyter.widget-view+json": {
       "model_id": "",
       "version_major": 2,
       "version_minor": 0
      },
      "text/plain": [
       "getting output of RegularSpaceClustering:   0%|                                                               …"
      ]
     },
     "metadata": {},
     "output_type": "display_data"
    },
    {
     "name": "stdout",
     "output_type": "stream",
     "text": [
      "Strategy most_pop starting at 0.00452329 diffuses 0.00799864 in 3D proj-space\n",
      "\t most_pop  finished  0.01253946622212728\n",
      "Strategy smallest_Rgyr starting at 0.000783842 diffuses 0.00801188 in 3D proj-space\n",
      "\t smallest_Rgyr  finished  0.01218649943669637\n",
      "Strategy most_pop_x_smallest_Rgyr starting at 0.00452329 diffuses 0.00799864 in 3D proj-space\n",
      "\t most_pop_x_smallest_Rgyr  finished  0.012266465028127034\n",
      "Strategy bimodal_compact starting at 0.000567523 diffuses 0.00806085 in 3D proj-space\n",
      "\t bimodal_compact  finished  0.011939247449239096\n",
      "Sticking with most_pop\n"
     ]
    },
    {
     "data": {
      "application/vnd.jupyter.widget-view+json": {
       "model_id": "",
       "version_major": 2,
       "version_minor": 0
      },
      "text/plain": [
       "getting output of RegularSpaceClustering:   0%|                                                               …"
      ]
     },
     "metadata": {},
     "output_type": "display_data"
    },
    {
     "name": "stdout",
     "output_type": "stream",
     "text": [
      "Strategy most_pop starting at 0.00380196 diffuses 0.0127252 in 3D proj-space\n",
      "\t most_pop  finished  0.011534933249155681\n",
      "Strategy smallest_Rgyr starting at 0.00428536 diffuses 0.0121168 in 3D proj-space\n",
      "\t smallest_Rgyr  finished  0.013573698202768962\n",
      "Strategy most_pop_x_smallest_Rgyr starting at 0.00380196 diffuses 0.0127252 in 3D proj-space\n",
      "\t most_pop_x_smallest_Rgyr  finished  0.01232052246729533\n",
      "Strategy bimodal_compact starting at 0.002288 diffuses 0.0122463 in 3D proj-space\n",
      "\t bimodal_compact  finished  0.012700831890106202\n",
      "Sticking with smallest_Rgyr\n",
      "\tfinished projecting paths\n",
      "\tfinished dumping paths\n",
      "\tcomparing path  0\n",
      "\tcomparing path  1\n",
      "\tcomparing path  2\n",
      "6.031042512257894\n",
      "BS iteration  1\n",
      "\tfinished loading trajectories\n",
      "Model num  0\n"
     ]
    },
    {
     "data": {
      "application/vnd.jupyter.widget-view+json": {
       "model_id": "",
       "version_major": 2,
       "version_minor": 0
      },
      "text/plain": [
       "calculate covariances:   0%|                                                                                  …"
      ]
     },
     "metadata": {},
     "output_type": "display_data"
    },
    {
     "data": {
      "application/vnd.jupyter.widget-view+json": {
       "model_id": "",
       "version_major": 2,
       "version_minor": 0
      },
      "text/plain": [
       "getting output of TICA:   0%|                                                                                 …"
      ]
     },
     "metadata": {},
     "output_type": "display_data"
    },
    {
     "data": {
      "application/vnd.jupyter.widget-view+json": {
       "model_id": "",
       "version_major": 2,
       "version_minor": 0
      },
      "text/plain": [
       "initialize kmeans++ centers:   0%|                                                                            …"
      ]
     },
     "metadata": {},
     "output_type": "display_data"
    },
    {
     "data": {
      "application/vnd.jupyter.widget-view+json": {
       "model_id": "",
       "version_major": 2,
       "version_minor": 0
      },
      "text/plain": [
       "kmeans iterations:   0%|                                                                                      …"
      ]
     },
     "metadata": {},
     "output_type": "display_data"
    },
    {
     "data": {
      "application/vnd.jupyter.widget-view+json": {
       "model_id": "",
       "version_major": 2,
       "version_minor": 0
      },
      "text/plain": [
       "getting output of KmeansClustering:   0%|                                                                     …"
      ]
     },
     "metadata": {},
     "output_type": "display_data"
    },
    {
     "name": "stdout",
     "output_type": "stream",
     "text": [
      "\tfinished fitting model\n"
     ]
    },
    {
     "data": {
      "application/vnd.jupyter.widget-view+json": {
       "model_id": "",
       "version_major": 2,
       "version_minor": 0
      },
      "text/plain": [
       "getting output of RegularSpaceClustering:   0%|                                                               …"
      ]
     },
     "metadata": {},
     "output_type": "display_data"
    },
    {
     "name": "stdout",
     "output_type": "stream",
     "text": [
      "Strategy most_pop starting at 0.00055689 diffuses 0.00787919 in 3D proj-space\n",
      "\t most_pop  finished  0.01099461317062378\n",
      "Strategy smallest_Rgyr starting at 0.00529977 diffuses 0.00733582 in 3D proj-space\n",
      "\t smallest_Rgyr  finished  0.013273048400878906\n",
      "Strategy most_pop_x_smallest_Rgyr starting at 0.00055689 diffuses 0.00787919 in 3D proj-space\n",
      "\t most_pop_x_smallest_Rgyr  finished  0.01234140396118164\n",
      "Strategy bimodal_compact starting at 0.0024501 diffuses 0.00721885 in 3D proj-space\n",
      "\t bimodal_compact  finished  0.01264185110727946\n",
      "Sticking with bimodal_compact\n"
     ]
    },
    {
     "data": {
      "application/vnd.jupyter.widget-view+json": {
       "model_id": "",
       "version_major": 2,
       "version_minor": 0
      },
      "text/plain": [
       "getting output of RegularSpaceClustering:   0%|                                                               …"
      ]
     },
     "metadata": {},
     "output_type": "display_data"
    },
    {
     "name": "stdout",
     "output_type": "stream",
     "text": [
      "Strategy most_pop starting at 0.000331829 diffuses 0.0195145 in 3D proj-space\n",
      "\t most_pop  finished  0.01144115130106608\n",
      "Strategy smallest_Rgyr starting at 0.00975184 diffuses 0.0195516 in 3D proj-space\n",
      "\t smallest_Rgyr  finished  0.013440485795338948\n",
      "Strategy most_pop_x_smallest_Rgyr starting at 0.000331829 diffuses 0.0195145 in 3D proj-space\n",
      "\t most_pop_x_smallest_Rgyr  finished  0.012167867024739583\n",
      "Strategy bimodal_compact starting at 0.00154227 diffuses 0.01952 in 3D proj-space\n",
      "\t bimodal_compact  finished  0.01218241850535075\n",
      "Sticking with most_pop\n"
     ]
    },
    {
     "data": {
      "application/vnd.jupyter.widget-view+json": {
       "model_id": "",
       "version_major": 2,
       "version_minor": 0
      },
      "text/plain": [
       "getting output of RegularSpaceClustering:   0%|                                                               …"
      ]
     },
     "metadata": {},
     "output_type": "display_data"
    },
    {
     "name": "stdout",
     "output_type": "stream",
     "text": [
      "Strategy most_pop starting at -0.000285196 diffuses 0.0249935 in 3D proj-space\n",
      "\t most_pop  finished  0.01142415205637614\n",
      "Strategy smallest_Rgyr starting at 0.00332917 diffuses 0.0195574 in 3D proj-space\n",
      "\t smallest_Rgyr  finished  0.01224953333536784\n",
      "Strategy most_pop_x_smallest_Rgyr starting at -1.94991e-05 diffuses 0.0250275 in 3D proj-space\n",
      "\t most_pop_x_smallest_Rgyr  finished  0.013154248396555582\n",
      "Strategy bimodal_compact starting at 0.00703741 diffuses 0.0205751 in 3D proj-space\n",
      "\t bimodal_compact  finished  0.012427767117818197\n",
      "Sticking with smallest_Rgyr\n",
      "\tfinished projecting paths\n",
      "\tfinished dumping paths\n",
      "Model num  1\n"
     ]
    },
    {
     "data": {
      "application/vnd.jupyter.widget-view+json": {
       "model_id": "",
       "version_major": 2,
       "version_minor": 0
      },
      "text/plain": [
       "calculate covariances:   0%|                                                                                  …"
      ]
     },
     "metadata": {},
     "output_type": "display_data"
    },
    {
     "data": {
      "application/vnd.jupyter.widget-view+json": {
       "model_id": "",
       "version_major": 2,
       "version_minor": 0
      },
      "text/plain": [
       "getting output of TICA:   0%|                                                                                 …"
      ]
     },
     "metadata": {},
     "output_type": "display_data"
    },
    {
     "data": {
      "application/vnd.jupyter.widget-view+json": {
       "model_id": "",
       "version_major": 2,
       "version_minor": 0
      },
      "text/plain": [
       "initialize kmeans++ centers:   0%|                                                                            …"
      ]
     },
     "metadata": {},
     "output_type": "display_data"
    },
    {
     "data": {
      "application/vnd.jupyter.widget-view+json": {
       "model_id": "",
       "version_major": 2,
       "version_minor": 0
      },
      "text/plain": [
       "kmeans iterations:   0%|                                                                                      …"
      ]
     },
     "metadata": {},
     "output_type": "display_data"
    },
    {
     "data": {
      "application/vnd.jupyter.widget-view+json": {
       "model_id": "",
       "version_major": 2,
       "version_minor": 0
      },
      "text/plain": [
       "getting output of KmeansClustering:   0%|                                                                     …"
      ]
     },
     "metadata": {},
     "output_type": "display_data"
    },
    {
     "name": "stdout",
     "output_type": "stream",
     "text": [
      "\tfinished fitting model\n"
     ]
    },
    {
     "data": {
      "application/vnd.jupyter.widget-view+json": {
       "model_id": "",
       "version_major": 2,
       "version_minor": 0
      },
      "text/plain": [
       "getting output of RegularSpaceClustering:   0%|                                                               …"
      ]
     },
     "metadata": {},
     "output_type": "display_data"
    },
    {
     "name": "stdout",
     "output_type": "stream",
     "text": [
      "Strategy most_pop starting at -0.000978624 diffuses 0.00946371 in 3D proj-space\n",
      "\t most_pop  finished  0.011836286385854084\n",
      "Strategy smallest_Rgyr starting at -0.0206544 diffuses 0.00950932 in 3D proj-space\n",
      "\t smallest_Rgyr  finished  0.012820931275685628\n",
      "Strategy most_pop_x_smallest_Rgyr starting at -0.00895024 diffuses 0.00950726 in 3D proj-space\n",
      "\t most_pop_x_smallest_Rgyr  finished  0.012377583980560302\n",
      "Strategy bimodal_compact starting at -0.0035995 diffuses 0.0116386 in 3D proj-space\n",
      "\t bimodal_compact  finished  0.01191384792327881\n",
      "Sticking with most_pop\n"
     ]
    },
    {
     "data": {
      "application/vnd.jupyter.widget-view+json": {
       "model_id": "",
       "version_major": 2,
       "version_minor": 0
      },
      "text/plain": [
       "getting output of RegularSpaceClustering:   0%|                                                               …"
      ]
     },
     "metadata": {},
     "output_type": "display_data"
    },
    {
     "name": "stdout",
     "output_type": "stream",
     "text": [
      "Strategy most_pop starting at -0.000351279 diffuses 0.01569 in 3D proj-space\n",
      "\t most_pop  finished  0.01148080031077067\n",
      "Strategy smallest_Rgyr starting at 0.00395648 diffuses 0.0155343 in 3D proj-space\n",
      "\t smallest_Rgyr  finished  0.012472081184387206\n",
      "Strategy most_pop_x_smallest_Rgyr starting at -0.000351279 diffuses 0.01569 in 3D proj-space\n",
      "\t most_pop_x_smallest_Rgyr  finished  0.012125980854034425\n",
      "Strategy bimodal_compact starting at 0.0135498 diffuses 0.0155385 in 3D proj-space\n",
      "\t bimodal_compact  finished  0.012242782115936279\n",
      "Sticking with smallest_Rgyr\n"
     ]
    },
    {
     "data": {
      "application/vnd.jupyter.widget-view+json": {
       "model_id": "",
       "version_major": 2,
       "version_minor": 0
      },
      "text/plain": [
       "getting output of RegularSpaceClustering:   0%|                                                               …"
      ]
     },
     "metadata": {},
     "output_type": "display_data"
    },
    {
     "name": "stdout",
     "output_type": "stream",
     "text": [
      "Strategy most_pop starting at 0.000434907 diffuses 0.0208422 in 3D proj-space\n",
      "\t most_pop  finished  0.01185673475265503\n",
      "Strategy smallest_Rgyr starting at -0.00792089 diffuses 0.0186508 in 3D proj-space\n",
      "\t smallest_Rgyr  finished  0.012431395053863526\n",
      "Strategy most_pop_x_smallest_Rgyr starting at 0.000803308 diffuses 0.013028 in 3D proj-space\n",
      "\t most_pop_x_smallest_Rgyr  finished  0.014466353257497152\n",
      "Strategy bimodal_compact starting at -0.00792089 diffuses 0.0186508 in 3D proj-space\n",
      "\t bimodal_compact  finished  0.012934712568918864\n",
      "Sticking with most_pop_x_smallest_Rgyr\n",
      "\tfinished projecting paths\n",
      "\tfinished dumping paths\n",
      "Model num  2\n"
     ]
    },
    {
     "data": {
      "application/vnd.jupyter.widget-view+json": {
       "model_id": "",
       "version_major": 2,
       "version_minor": 0
      },
      "text/plain": [
       "calculate covariances:   0%|                                                                                  …"
      ]
     },
     "metadata": {},
     "output_type": "display_data"
    },
    {
     "data": {
      "application/vnd.jupyter.widget-view+json": {
       "model_id": "",
       "version_major": 2,
       "version_minor": 0
      },
      "text/plain": [
       "getting output of TICA:   0%|                                                                                 …"
      ]
     },
     "metadata": {},
     "output_type": "display_data"
    },
    {
     "data": {
      "application/vnd.jupyter.widget-view+json": {
       "model_id": "",
       "version_major": 2,
       "version_minor": 0
      },
      "text/plain": [
       "initialize kmeans++ centers:   0%|                                                                            …"
      ]
     },
     "metadata": {},
     "output_type": "display_data"
    },
    {
     "data": {
      "application/vnd.jupyter.widget-view+json": {
       "model_id": "",
       "version_major": 2,
       "version_minor": 0
      },
      "text/plain": [
       "kmeans iterations:   0%|                                                                                      …"
      ]
     },
     "metadata": {},
     "output_type": "display_data"
    },
    {
     "data": {
      "application/vnd.jupyter.widget-view+json": {
       "model_id": "",
       "version_major": 2,
       "version_minor": 0
      },
      "text/plain": [
       "getting output of KmeansClustering:   0%|                                                                     …"
      ]
     },
     "metadata": {},
     "output_type": "display_data"
    },
    {
     "name": "stdout",
     "output_type": "stream",
     "text": [
      "\tfinished fitting model\n"
     ]
    },
    {
     "data": {
      "application/vnd.jupyter.widget-view+json": {
       "model_id": "",
       "version_major": 2,
       "version_minor": 0
      },
      "text/plain": [
       "getting output of RegularSpaceClustering:   0%|                                                               …"
      ]
     },
     "metadata": {},
     "output_type": "display_data"
    },
    {
     "name": "stdout",
     "output_type": "stream",
     "text": [
      "Strategy most_pop starting at 0.00081196 diffuses 0.00874617 in 3D proj-space\n",
      "\t most_pop  finished  0.011871663729349773\n",
      "Strategy smallest_Rgyr starting at -0.017185 diffuses 0.00874868 in 3D proj-space\n",
      "\t smallest_Rgyr  finished  0.012318905194600422\n",
      "Strategy most_pop_x_smallest_Rgyr starting at -0.0220671 diffuses 0.00889738 in 3D proj-space\n",
      "\t most_pop_x_smallest_Rgyr  finished  0.012331899007161458\n",
      "Strategy bimodal_compact starting at -0.0188928 diffuses 0.00813405 in 3D proj-space\n",
      "\t bimodal_compact  finished  0.012181699275970459\n",
      "Sticking with bimodal_compact\n"
     ]
    },
    {
     "data": {
      "application/vnd.jupyter.widget-view+json": {
       "model_id": "",
       "version_major": 2,
       "version_minor": 0
      },
      "text/plain": [
       "getting output of RegularSpaceClustering:   0%|                                                               …"
      ]
     },
     "metadata": {},
     "output_type": "display_data"
    },
    {
     "name": "stdout",
     "output_type": "stream",
     "text": [
      "Strategy most_pop starting at -0.000986665 diffuses 0.0104813 in 3D proj-space\n",
      "\t most_pop  finished  0.011440316836039225\n",
      "Strategy smallest_Rgyr starting at 0.00564713 diffuses 0.0104515 in 3D proj-space\n",
      "\t smallest_Rgyr  finished  0.012417952219645182\n",
      "Strategy most_pop_x_smallest_Rgyr starting at 0.00456503 diffuses 0.0101846 in 3D proj-space\n",
      "\t most_pop_x_smallest_Rgyr  finished  0.012445632616678875\n",
      "Strategy bimodal_compact starting at 0.00456503 diffuses 0.0101846 in 3D proj-space\n",
      "\t bimodal_compact  finished  0.012800296147664389\n",
      "Sticking with bimodal_compact\n"
     ]
    },
    {
     "data": {
      "application/vnd.jupyter.widget-view+json": {
       "model_id": "",
       "version_major": 2,
       "version_minor": 0
      },
      "text/plain": [
       "getting output of RegularSpaceClustering:   0%|                                                               …"
      ]
     },
     "metadata": {},
     "output_type": "display_data"
    },
    {
     "name": "stdout",
     "output_type": "stream",
     "text": [
      "Strategy most_pop starting at 0.000588265 diffuses 0.0245727 in 3D proj-space\n",
      "\t most_pop  finished  0.012835681438446045\n",
      "Strategy smallest_Rgyr starting at 0.00486895 diffuses 0.0243013 in 3D proj-space\n",
      "\t smallest_Rgyr  finished  0.012789785861968994\n",
      "Strategy most_pop_x_smallest_Rgyr starting at -0.00348884 diffuses 0.0242297 in 3D proj-space\n",
      "\t most_pop_x_smallest_Rgyr  finished  0.012838669617970784\n",
      "Strategy bimodal_compact starting at -0.00471082 diffuses 0.0242235 in 3D proj-space\n",
      "\t bimodal_compact  finished  0.012419815858205159\n",
      "Sticking with bimodal_compact\n",
      "\tfinished projecting paths\n",
      "\tfinished dumping paths\n",
      "\tcomparing path  0\n",
      "\tcomparing path  1\n",
      "\tcomparing path  2\n",
      "6.012823029359182\n"
     ]
    }
   ],
   "source": [
    "rng = np.random.default_rng(12098345)\n",
    "\n",
    "for bs_num in range(num_bs_iter):\n",
    "    print('BS iteration ', bs_num)\n",
    "    tic = time.time()\n",
    "    \n",
    "    \n",
    "    # Create output directory\n",
    "    iter_out_dir = out_dir.joinpath(f\"iter_{bs_num}\")\n",
    "    iter_out_dir.mkdir(exist_ok=True)\n",
    "\n",
    "    # Sample traj paths and save results\n",
    "    traj_paths = get_trajs_top(traj_dir, protein_dir, rng)\n",
    "    assert len(traj_paths['trajs']) > 0, 'no trajectories found'\n",
    "    pickle.dump(file=iter_out_dir.joinpath('input_paths.pkl').open('wb'), obj=traj_paths)\n",
    "\n",
    "    top = md.load(str(traj_paths['top']))\n",
    "    trajs = [md.load(str(x), top=top) for x in traj_paths['trajs']]\n",
    "    print('\\tfinished loading trajectories')\n",
    "    \n",
    "    # Fit models and find paths\n",
    "    models = {}\n",
    "    for row_num in mod_defs.index:\n",
    "        print('Model num ', row_num)\n",
    "        hp_ix = mod_defs.hp_index[row_num]\n",
    "        hp_rank = mod_defs.hp_rank[row_num]\n",
    "        \n",
    "        # model hyperparameters\n",
    "        lag = mod_defs.lag[row_num]\n",
    "        num_evs = mod_defs.k[row_num]\n",
    "        feat_kws = get_feature_dict(mod_defs, row_num)\n",
    "        tica_kws = get_kws_dict(mod_defs, row_num, 'tica')\n",
    "        cluster_kws = get_kws_dict(mod_defs, row_num, 'cluster')\n",
    "\n",
    "        # Fit model\n",
    "        model = MSM(lag = lag, num_evs=num_evs, trajs=trajs, top=top,  feature_kws=feat_kws, tica_kws=tica_kws, cluster_kws=cluster_kws)\n",
    "        model.fit()\n",
    "        print('\\tfinished fitting model')\n",
    "        # Estimate all paths\n",
    "        \n",
    "        model.projection_paths(n_points=n_points, n_geom_samples=n_geom_samples)\n",
    "        print('\\tfinished projecting paths')\n",
    "        pickle.dump(file=iter_out_dir.joinpath(f\"mod_{row_num}_hp_{hp_ix}_rank_{hp_rank}_paths.pkl\").open('wb'), obj=model.paths)\n",
    "        print('\\tfinished dumping paths')\n",
    "        # Accumulate models for comparisons\n",
    "        models[row_num] = model\n",
    "    \n",
    "    \n",
    "    # Do model comparisons\n",
    "    for proc_num in list(models[comparator_ix].paths.keys()):  # shouldn't matter which model is used here. \n",
    "        print('\\tcomparing path ', proc_num)\n",
    "        paths = {k: v.get_projection_trajectory(proc_num+1) for k, v in models.items()}\n",
    "        projs = {f\"mod_{k}_on_mod_{comparator_ix}\": models[comparator_ix].transform(v)[0] for k, v in paths.items()}\n",
    "        pickle.dump(file=iter_out_dir.joinpath(f'path_{proc_num}_comparison.pkl').open('wb'), obj=projs)\n",
    "        \n",
    "    print((time.time() - tic)/60)"
   ]
  },
  {
   "cell_type": "markdown",
   "id": "fa03f1da-a063-4441-9363-1fd3eca9c4a8",
   "metadata": {},
   "source": [
    "some timings regarding options for projection_paths: \n",
    "\n",
    "with only one strategy (`most_pop`) the following times were observed for three modesl with three paths each. \n",
    "`n_geom_samples = 100` = 14mins\n",
    "`n_geom_samples = 50` = 6mins\n",
    "\n",
    "so it appears that `n_geom_samples` scales linearly or just worse. \n",
    "\n",
    "Each strategy only takes a couple of seconds so not really a problem to try all four. Bimodal_compact does seem to be the most popular though (for 1fme anyway). \n",
    "\n"
   ]
  },
  {
   "cell_type": "code",
   "execution_count": 21,
   "id": "7e376c1a-a486-415a-b260-e7cdbd458241",
   "metadata": {},
   "outputs": [
    {
     "data": {
      "text/plain": [
       "{0: {'min_rmsd': defaultdict(dict,\n",
       "              {'proj': array([[-3.95382992e-02, -2.28130385e-02,  2.24580747e-03],\n",
       "                      [-2.94196861e-02, -1.69723161e-02,  1.67131253e-03],\n",
       "                      [-2.78944691e-02, -1.61480745e-02,  1.59524506e-03],\n",
       "                      [-2.42235384e-02, -1.35008004e-02,  1.28202828e-03],\n",
       "                      [-2.18644021e-02, -1.26476466e-02,  1.24856286e-03],\n",
       "                      [-2.05713889e-02, -1.20088314e-02,  1.19703092e-03],\n",
       "                      [-1.81873208e-02, -1.04959757e-02,  1.03399093e-03],\n",
       "                      [-1.63525447e-02, -9.27561787e-03,  8.96956626e-04],\n",
       "                      [-1.59616478e-02, -9.23660737e-03,  9.12428294e-04],\n",
       "                      [-1.27444067e-02, -7.40298841e-03,  7.33581222e-04],\n",
       "                      [-1.17123915e-02, -2.83034137e-03, -1.06095174e-04],\n",
       "                      [-1.09061862e-02, -6.00419133e-03,  5.61475861e-04],\n",
       "                      [-7.41009955e-03, -3.95597958e-03,  3.56881915e-04],\n",
       "                      [-6.64641030e-03, -2.26843291e-03,  6.75022405e-05],\n",
       "                      [-5.91195714e-03, -2.67228356e-03,  1.87458699e-04],\n",
       "                      [-5.41663150e-03, -3.49291385e-04, -2.26194492e-04],\n",
       "                      [-4.86134193e-03, -2.84533410e-03,  2.84887551e-04],\n",
       "                      [-4.25013445e-03, -2.51943408e-03,  2.55355695e-04],\n",
       "                      [-3.93285565e-03, -1.03532562e-03, -1.87301014e-05],\n",
       "                      [-3.65258938e-03, -1.36171919e-03,  6.13688486e-05],\n",
       "                      [-2.73581428e-03, -1.33509316e-03,  1.06190586e-04],\n",
       "                      [-2.10984376e-03,  1.14751052e-03, -3.25794372e-04],\n",
       "                      [-1.72771256e-03,  5.88103951e-04, -2.02856241e-04],\n",
       "                      [-1.23413926e-03, -6.39243155e-04,  5.55708797e-05],\n",
       "                      [-9.80845616e-04,  3.75094904e-04, -1.17032509e-04],\n",
       "                      [-4.10218926e-04, -1.03479868e-04, -1.81798040e-06],\n",
       "                      [-1.27968316e-04, -7.47675701e-05,  7.45967200e-06],\n",
       "                      [ 4.30123542e-04,  6.57465556e-04, -1.26667386e-04],\n",
       "                      [ 1.03833557e-03,  1.69614077e-03, -3.59850518e-04],\n",
       "                      [ 1.34956901e-03,  2.23887093e-03, -2.99893751e-04],\n",
       "                      [ 1.72668653e-03,  3.04605051e-03, -4.21008132e-04],\n",
       "                      [ 2.42177392e-03,  3.44618288e-03, -6.06036669e-04],\n",
       "                      [ 2.63413940e-03,  4.30622268e-03, -7.21692742e-04],\n",
       "                      [ 3.19798785e-03, -2.47559229e-03,  1.77647371e-04],\n",
       "                      [ 3.55538260e-03,  5.71586333e-03, -8.18768932e-04],\n",
       "                      [ 4.74606530e-03, -3.65405786e-03,  2.59940626e-04],\n",
       "                      [ 5.24799391e-03,  7.54865820e-03, -1.47155335e-03],\n",
       "                      [ 5.94948423e-03,  8.71681578e-03, -1.70779127e-03],\n",
       "                      [ 6.16459781e-03, -4.65858178e-03,  3.30317220e-04],\n",
       "                      [ 7.09104566e-03, -5.43086188e-03,  3.84778959e-04],\n",
       "                      [ 7.53033442e-03, -5.93773097e-03,  4.35578587e-04],\n",
       "                      [ 8.04601643e-03, -6.24750910e-03,  4.47310265e-04],\n",
       "                      [ 9.87580145e-03, -7.56793214e-03,  5.40549733e-04],\n",
       "                      [ 1.10742160e-02, -8.62288385e-03,  6.24591631e-04],\n",
       "                      [ 1.22309808e-02, -9.61254427e-03,  7.02030160e-04],\n",
       "                      [ 1.37760814e-02, -1.08135096e-02,  7.84235976e-04],\n",
       "                      [ 1.41332001e-02, -1.05480505e-02,  7.34065558e-04],\n",
       "                      [ 1.83485718e-02, -1.36281705e-02,  9.28856015e-04],\n",
       "                      [ 3.83562576e-02, -3.01526139e-02,  2.19685252e-03]]),\n",
       "               'geom': <mdtraj.Trajectory with 49 frames, 504 atoms, 28 residues, and unitcells at 0x7fea709c04f0>}),\n",
       "  'min_disp': defaultdict(dict, {})},\n",
       " 1: {'min_rmsd': defaultdict(dict,\n",
       "              {'proj': array([[ 3.83562576e-02, -3.01526139e-02,  2.19685252e-03],\n",
       "                      [-3.95382992e-02, -2.28130385e-02,  2.24580747e-03],\n",
       "                      [-2.94196861e-02, -1.69723161e-02,  1.67131253e-03],\n",
       "                      [-2.78944691e-02, -1.61480745e-02,  1.59524506e-03],\n",
       "                      [-2.39949981e-02, -1.37735214e-02,  1.34873771e-03],\n",
       "                      [-2.42235384e-02, -1.35008004e-02,  1.28202828e-03],\n",
       "                      [-2.18953123e-02, -1.30906294e-02,  1.33858852e-03],\n",
       "                      [-2.18644021e-02, -1.26476466e-02,  1.24856286e-03],\n",
       "                      [-2.05713889e-02, -1.20088314e-02,  1.19703092e-03],\n",
       "                      [ 1.37760814e-02, -1.08135096e-02,  7.84235976e-04],\n",
       "                      [-1.81873208e-02, -1.04959757e-02,  1.03399093e-03],\n",
       "                      [ 1.22309808e-02, -9.61254427e-03,  7.02030160e-04],\n",
       "                      [-1.59616478e-02, -9.23660737e-03,  9.12428294e-04],\n",
       "                      [ 1.10742160e-02, -8.62288385e-03,  6.24591631e-04],\n",
       "                      [-1.27444067e-02, -7.40298841e-03,  7.33581222e-04],\n",
       "                      [-1.09061862e-02, -6.00419133e-03,  5.61475861e-04],\n",
       "                      [ 7.09104566e-03, -5.43086188e-03,  3.84778959e-04],\n",
       "                      [ 6.35577071e-03, -4.94106367e-03,  3.56195620e-04],\n",
       "                      [ 6.16459781e-03, -4.65858178e-03,  3.30317220e-04],\n",
       "                      [-7.27806366e-03, -4.22588382e-03,  4.19148063e-04],\n",
       "                      [-7.41009955e-03, -3.95597958e-03,  3.56881915e-04],\n",
       "                      [ 4.89772268e-03, -3.74925557e-03,  2.68998464e-04],\n",
       "                      [ 3.92611721e-03, -3.12459559e-03,  2.31461706e-04],\n",
       "                      [-4.86134193e-03, -2.84533410e-03,  2.84887551e-04],\n",
       "                      [-4.25013445e-03, -2.51943408e-03,  2.55355695e-04],\n",
       "                      [-6.64641030e-03, -2.26843291e-03,  6.75022405e-05],\n",
       "                      [-6.76145279e-03, -1.68820482e-03, -5.40701537e-05],\n",
       "                      [-3.65258938e-03, -1.36171919e-03,  6.13688486e-05],\n",
       "                      [-5.52377598e-03, -1.11293872e-03, -8.77496041e-05],\n",
       "                      [-1.23413926e-03, -6.39243155e-04,  5.55708797e-05],\n",
       "                      [-5.41663150e-03, -3.49291385e-04, -2.26194492e-04],\n",
       "                      [-7.66155291e-04,  2.74699652e-04, -8.98094724e-05],\n",
       "                      [ 1.03582274e-04,  3.95417073e-04, -3.03910677e-05],\n",
       "                      [-2.12856293e-04,  9.28136254e-04, -1.72215970e-04],\n",
       "                      [ 3.30228264e-04,  1.18548101e-03, -1.64390726e-04],\n",
       "                      [ 8.85979201e-04,  1.45103396e-03, -3.06536681e-04],\n",
       "                      [-3.67441237e-04,  1.66044787e-03, -3.09802411e-04],\n",
       "                      [ 1.26169458e-03,  2.04048470e-03, -4.04942244e-04],\n",
       "                      [ 1.28503506e-03,  2.29490811e-03, -5.19430790e-04],\n",
       "                      [ 1.85009435e-03,  2.93150590e-03, -5.08701913e-04],\n",
       "                      [ 1.81056898e-03,  3.23387310e-03, -5.27264653e-04],\n",
       "                      [ 2.18945432e-03,  3.75991229e-03, -5.91613185e-04],\n",
       "                      [ 2.74325081e-03,  3.95708369e-03, -4.78334044e-04],\n",
       "                      [ 2.63413940e-03,  4.30622268e-03, -7.21692742e-04],\n",
       "                      [ 2.88840280e-03,  4.79182191e-03, -6.74557873e-04],\n",
       "                      [ 3.59317008e-03,  5.42834082e-03, -9.76697927e-04],\n",
       "                      [ 3.86025495e-03,  5.83380575e-03, -1.13828658e-03],\n",
       "                      [ 5.24799391e-03,  7.54865820e-03, -1.47155335e-03],\n",
       "                      [ 5.94948423e-03,  8.71681578e-03, -1.70779127e-03]]),\n",
       "               'geom': <mdtraj.Trajectory with 49 frames, 504 atoms, 28 residues, and unitcells at 0x7fea662b8550>}),\n",
       "  'min_disp': defaultdict(dict, {})},\n",
       " 2: {'min_rmsd': defaultdict(dict,\n",
       "              {'proj': array([[ 2.15669148e-03,  5.45022045e-03, -3.35173295e-03],\n",
       "                      [ 2.29750965e-03,  5.37358988e-03, -3.04533229e-03],\n",
       "                      [ 1.61400150e-03,  4.12329330e-03, -2.56897201e-03],\n",
       "                      [ 1.32367533e-03,  3.41949964e-03, -2.15539190e-03],\n",
       "                      [ 1.27754934e-03,  3.27638433e-03, -2.04799786e-03],\n",
       "                      [ 5.94948423e-03,  8.71681578e-03, -1.70779127e-03],\n",
       "                      [ 5.24799391e-03,  7.54865820e-03, -1.47155335e-03],\n",
       "                      [ 8.08056680e-04,  2.13773031e-03, -1.38168119e-03],\n",
       "                      [ 5.11307149e-03,  7.56878707e-03, -1.30617512e-03],\n",
       "                      [ 3.86025495e-03,  5.83380575e-03, -1.13828658e-03],\n",
       "                      [ 6.40209630e-04,  1.64689296e-03, -1.03395523e-03],\n",
       "                      [ 3.59317008e-03,  5.42834082e-03, -9.76697927e-04],\n",
       "                      [ 3.61098578e-03,  4.32125190e-03, -8.30658439e-04],\n",
       "                      [ 2.63413940e-03,  4.30622268e-03, -7.21692742e-04],\n",
       "                      [ 2.05086359e-03,  3.29788499e-03, -6.72497616e-04],\n",
       "                      [ 1.98571392e-03,  3.57831643e-03, -5.73605028e-04],\n",
       "                      [ 1.85009435e-03,  2.93150590e-03, -5.08701913e-04],\n",
       "                      [ 1.03833557e-03,  1.69614077e-03, -3.59850518e-04],\n",
       "                      [-2.10984376e-03,  1.14751052e-03, -3.25794372e-04],\n",
       "                      [-2.70147919e-04,  1.09499573e-03, -2.07970954e-04],\n",
       "                      [ 3.30228264e-04,  1.18548101e-03, -1.64390726e-04],\n",
       "                      [-1.06245670e-02, -2.51752187e-03, -1.04755725e-04],\n",
       "                      [-3.93285565e-03, -1.03532562e-03, -1.87301014e-05],\n",
       "                      [-1.23413926e-03, -6.39243155e-04,  5.55708797e-05],\n",
       "                      [-2.73581428e-03, -1.33509316e-03,  1.06190586e-04],\n",
       "                      [-5.91195714e-03, -2.67228356e-03,  1.87458699e-04],\n",
       "                      [-4.25013445e-03, -2.51943408e-03,  2.55355695e-04],\n",
       "                      [ 1.43302819e-05,  5.94234846e-05,  3.87286763e-04],\n",
       "                      [ 6.76886544e-04,  1.40262475e-03,  4.38799879e-04],\n",
       "                      [ 1.78006590e-05,  7.48996107e-05,  4.96042249e-04],\n",
       "                      [-1.09061862e-02, -6.00419133e-03,  5.61475861e-04],\n",
       "                      [ 2.61288957e-05,  1.04680444e-04,  6.58952622e-04],\n",
       "                      [-1.27444067e-02, -7.40298841e-03,  7.33581222e-04],\n",
       "                      [ 4.18506727e-05,  1.52314027e-04,  8.20796156e-04],\n",
       "                      [-1.63525447e-02, -9.27561787e-03,  8.96956626e-04],\n",
       "                      [-1.81873208e-02, -1.04959757e-02,  1.03399093e-03],\n",
       "                      [ 4.01675656e-05,  1.67501195e-04,  1.09835261e-03],\n",
       "                      [-2.05713889e-02, -1.20088314e-02,  1.19703092e-03],\n",
       "                      [-2.42235384e-02, -1.35008004e-02,  1.28202828e-03],\n",
       "                      [-2.39949981e-02, -1.37735214e-02,  1.34873771e-03],\n",
       "                      [ 6.07824304e-05,  2.34465693e-04,  1.41404810e-03],\n",
       "                      [ 2.55390616e-03,  5.45814900e-03,  1.49241188e-03],\n",
       "                      [ 6.52144701e-05,  2.60120594e-04,  1.62682771e-03],\n",
       "                      [-2.94196861e-02, -1.69723161e-02,  1.67131253e-03],\n",
       "                      [ 7.58557429e-05,  3.08612906e-04,  1.96949480e-03],\n",
       "                      [ 8.25358722e-05,  3.32467257e-04,  2.09717407e-03],\n",
       "                      [-3.95382992e-02, -2.28130385e-02,  2.24580747e-03],\n",
       "                      [ 1.20641351e-04,  4.82132687e-04,  3.01965799e-03],\n",
       "                      [ 1.39529134e-04,  5.47417387e-04,  3.37643930e-03]]),\n",
       "               'geom': <mdtraj.Trajectory with 49 frames, 504 atoms, 28 residues, and unitcells at 0x7fea63ee7d00>}),\n",
       "  'min_disp': defaultdict(dict, {})}}"
      ]
     },
     "execution_count": 21,
     "metadata": {},
     "output_type": "execute_result"
    }
   ],
   "source": [
    "paths = pickle.load(open('/Volumes/REA/Data/fast_folders/model_comparisons/1fme/iter_0/mod_0_hp_81_rank_1_paths.pkl', 'rb'))\n",
    "paths"
   ]
  },
  {
   "cell_type": "code",
   "execution_count": 17,
   "id": "805039bb-96df-49b9-826a-177f796fbb80",
   "metadata": {},
   "outputs": [],
   "source": [
    "comp = pickle.load(open('/Volumes/REA/Data/fast_folders/model_comparisons/1fme/iter_0/path_2_comparison.pkl', 'rb'))"
   ]
  },
  {
   "cell_type": "code",
   "execution_count": 18,
   "id": "942aa5cb-66c6-46d9-83c6-14aafad74059",
   "metadata": {},
   "outputs": [
    {
     "data": {
      "text/plain": [
       "[<matplotlib.lines.Line2D at 0x7fea6846e730>,\n",
       " <matplotlib.lines.Line2D at 0x7fea6846e550>,\n",
       " <matplotlib.lines.Line2D at 0x7fea6846e280>]"
      ]
     },
     "execution_count": 18,
     "metadata": {},
     "output_type": "execute_result"
    },
    {
     "data": {
      "image/png": "[encoded data removed]",
      "text/plain": [
       "<Figure size 432x288 with 1 Axes>"
      ]
     },
     "metadata": {
      "needs_background": "light"
     },
     "output_type": "display_data"
    }
   ],
   "source": [
    "plt.plot(comp['mod_0_on_mod_0'])"
   ]
  },
  {
   "cell_type": "code",
   "execution_count": 19,
   "id": "0b693c97-3db6-4d6d-aeb2-17974ca956f7",
   "metadata": {},
   "outputs": [
    {
     "data": {
      "text/plain": [
       "[<matplotlib.lines.Line2D at 0x7fea81427cd0>,\n",
       " <matplotlib.lines.Line2D at 0x7fea81427b20>,\n",
       " <matplotlib.lines.Line2D at 0x7fea71293700>]"
      ]
     },
     "execution_count": 19,
     "metadata": {},
     "output_type": "execute_result"
    },
    {
     "data": {
      "image/png": "[encoded data removed]",
      "text/plain": [
       "<Figure size 432x288 with 1 Axes>"
      ]
     },
     "metadata": {
      "needs_background": "light"
     },
     "output_type": "display_data"
    }
   ],
   "source": [
    "plt.plot(comp['mod_1_on_mod_0'])"
   ]
  },
  {
   "cell_type": "code",
   "execution_count": 20,
   "id": "d05f3347-1a9d-4f0d-a314-cab8b45e7def",
   "metadata": {},
   "outputs": [
    {
     "data": {
      "text/plain": [
       "[<matplotlib.lines.Line2D at 0x7fea70848d90>,\n",
       " <matplotlib.lines.Line2D at 0x7fea70848ca0>,\n",
       " <matplotlib.lines.Line2D at 0x7fea70848eb0>]"
      ]
     },
     "execution_count": 20,
     "metadata": {},
     "output_type": "execute_result"
    },
    {
     "data": {
      "image/png": "[encoded data removed]",
      "text/plain": [
       "<Figure size 432x288 with 1 Axes>"
      ]
     },
     "metadata": {
      "needs_background": "light"
     },
     "output_type": "display_data"
    }
   ],
   "source": [
    "plt.plot(comp['mod_2_on_mod_0'])"
   ]
  },
  {
   "cell_type": "code",
   "execution_count": null,
   "id": "6889572d-7269-4207-80ad-c53993ab3bf5",
   "metadata": {},
   "outputs": [],
   "source": []
  }
 ],
 "metadata": {
  "kernelspec": {
   "display_name": "Python 3 (ipykernel)",
   "language": "python",
   "name": "python3"
  },
  "language_info": {
   "codemirror_mode": {
    "name": "ipython",
    "version": 3
   },
   "file_extension": ".py",
   "mimetype": "text/x-python",
   "name": "python",
   "nbconvert_exporter": "python",
   "pygments_lexer": "ipython3",
   "version": "3.8.0"
  }
 },
 "nbformat": 4,
 "nbformat_minor": 5
}
