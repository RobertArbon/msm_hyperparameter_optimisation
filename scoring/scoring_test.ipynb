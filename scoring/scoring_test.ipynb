{
 "cells": [
  {
   "cell_type": "code",
   "execution_count": 139,
   "id": "8b6abb3c-cdda-46ce-ac15-15b1f6b4a139",
   "metadata": {},
   "outputs": [],
   "source": [
    "# import h5py as hp\n",
    "import pickle\n",
    "from msmtools.estimation import transition_matrix as _transition_matrix\n",
    "from msmtools.analysis import timescales as _timescales\n",
    "from pyemma.util.metrics import vamp_score\n",
    "import numpy as np\n",
    "from pathlib import Path\n",
    "import pandas as pd"
   ]
  },
  {
   "cell_type": "markdown",
   "id": "5f664be1-f598-422f-aa6f-0073c27c7945",
   "metadata": {},
   "source": [
    "This notebook tests some code for extracting timescale and vamp scores from the bootstrapped count matrices"
   ]
  },
  {
   "cell_type": "code",
   "execution_count": 6,
   "id": "922cd035-c58e-46e0-9d65-2bb5037c2d76",
   "metadata": {},
   "outputs": [],
   "source": [
    "def vamp(cmat, T, method, k):\n",
    "\n",
    "    C0t = cmat\n",
    "    C00 = np.diag(C0t.sum(axis=1))\n",
    "    Ctt = np.diag(C0t.sum(axis=0))\n",
    "    return vamp_score(T, C00, C0t, Ctt, C00, C0t, Ctt,\n",
    "                          k=k, score=method)\n",
    "    "
   ]
  },
  {
   "cell_type": "code",
   "execution_count": 119,
   "id": "8bd4f80b-0415-4a36-852f-17b3d0627720",
   "metadata": {},
   "outputs": [],
   "source": [
    "data_dir = Path('/Volumes/REA/Data/fast_folders/')\n",
    "protein = '1fme'\n",
    "hp_ix = 0\n",
    "hp_dir = f\"hp_{hp_ix}\""
   ]
  },
  {
   "cell_type": "code",
   "execution_count": 120,
   "id": "969569d3-0f46-49f1-b405-a41f4e1ae864",
   "metadata": {},
   "outputs": [],
   "source": [
    "bs_paths = data_dir.joinpath(protein, hp_dir).glob('*.pkl')\n",
    "bs_results = [pickle.load(path.open('rb')) for path in bs_paths]\n"
   ]
  },
  {
   "cell_type": "code",
   "execution_count": 132,
   "id": "55ba6c40-4078-41d9-affd-99f3ef1ba1d1",
   "metadata": {},
   "outputs": [
    {
     "name": "stdout",
     "output_type": "stream",
     "text": [
      "0, 1, "
     ]
    }
   ],
   "source": [
    "vamp_ks = [2, 3, 4, 5, 6, 7, 8, 9, 10]\n",
    "vamp_methods = ['VAMP1', 'VAMP2', 'VAMPE']\n",
    "\n",
    "num_iters = len(bs_results)\n",
    "num_lags = max([len(x['lags']) for x in bs_results])\n",
    "\n",
    "\n",
    "num_vamp_ks  = len(vamp_ks)\n",
    "num_vamp_methods = len(vamp_methods)\n",
    "num_its = 10\n",
    "\n",
    "timescales_values = np.zeros((num_iters, num_lags, num_its))\n",
    "lag_values = np.empty((num_iters, num_lags, num_its))\n",
    "its_values = np.empty((num_iters, num_lags, num_its))\n",
    "iter_values = np.empty((num_iters, num_lags, num_its))\n",
    "\n",
    "vamp_values = np.zeros((num_iters, num_lags, num_vamp_methods, num_vamp_ks))\n",
    "vamp_lag_values = np.empty((num_iters, num_lags, num_vamp_methods, num_vamp_ks))\n",
    "vamp_method_values = np.empty((num_iters, num_lags, num_vamp_methods, num_vamp_ks), dtype='object')\n",
    "vamp_ks_values = np.empty((num_iters, num_lags, num_vamp_methods, num_vamp_ks))\n",
    "vamp_iter_values = np.empty((num_iters, num_lags, num_vamp_methods, num_vamp_ks))\n",
    "\n",
    "for bs_idx in range(num_iters):\n",
    "    print(bs_idx, end=', ')\n",
    "    results = bs_results[bs_idx]\n",
    "    lags = results['lags']\n",
    "    for lag_idx in range(len(lags)):\n",
    "        lag = lags[lag_idx]\n",
    "        \n",
    "        cmat = results['count_matrices'][lag_idx]\n",
    "        T = _transition_matrix(cmat, reversible=True)\n",
    "        \n",
    "        # accumulated timescales\n",
    "        ts = _timescales(T, tau=lag)\n",
    "        n_its= min(num_its, ts.shape[0])\n",
    "        timescales_values[bs_idx, lag_idx][:n_its] = ts[1:n_its+1]        \n",
    "        \n",
    "        lag_values[bs_idx, lag_idx][:n_its] = lag\n",
    "        its_values[bs_idx, lag_idx][:n_its] = np.arange(n_its)+2\n",
    "        iter_values[bs_idx, lag_idx][:n_its] = bs_idx\n",
    "        \n",
    "        for meth_idx, method in enumerate(vamp_methods):\n",
    "            for k_idx, k in enumerate(vamp_ks):\n",
    "                vamp_values[bs_idx, lag_idx, meth_idx, k_idx] = vamp(cmat, T, method, k)\n",
    "                vamp_lag_values[bs_idx, lag_idx, meth_idx, k_idx] = lag\n",
    "                vamp_method_values[bs_idx, lag_idx, meth_idx, k_idx] = method\n",
    "                vamp_ks_values[bs_idx, lag_idx, meth_idx, k_idx] = k\n",
    "                vamp_iter_values[bs_idx, lag_idx, meth_idx, k_idx] = bs_idx\n"
   ]
  },
  {
   "cell_type": "code",
   "execution_count": 133,
   "id": "2f313999-42c2-4218-bd42-6c09679f60b3",
   "metadata": {},
   "outputs": [],
   "source": [
    "ts = pd.DataFrame(data={'value': timescales_values.flatten(), \n",
    "                       'lag': lag_values.flatten(),\n",
    "                       'num_its': its_values.flatten(), \n",
    "                       'iteration': iter_values.flatten()})\n",
    "\n",
    "vamps = pd.DataFrame(data={'value': vamp_values.flatten(), \n",
    "                          'lag': vamp_lag_values.flatten(), \n",
    "                          'method': vamp_method_values.flatten(), \n",
    "                          'k': vamp_ks_values.flatten(), \n",
    "                          'iteration': vamp_iter_values.flatten()})\n",
    "\n",
    "hp = pd.DataFrame(data=bs_results[0]['hp'], index=[0])"
   ]
  },
  {
   "cell_type": "code",
   "execution_count": 135,
   "id": "b6876aff-b1c0-490f-b735-088f32830961",
   "metadata": {},
   "outputs": [],
   "source": [
    "out_file = data_dir.joinpath(protein, hp_dir, 'summary.h5')\n",
    "\n",
    "ts.to_hdf(out_file, key='timescales')\n",
    "vamps.to_hdf(out_file, key='vamps')\n",
    "hp.to_hdf(out_file, key='hp')"
   ]
  },
  {
   "cell_type": "code",
   "execution_count": null,
   "id": "f19c7d51-2ba4-45c0-b6c7-f328c91229bb",
   "metadata": {},
   "outputs": [],
   "source": []
  }
 ],
 "metadata": {
  "kernelspec": {
   "display_name": "Python 3",
   "language": "python",
   "name": "python3"
  },
  "language_info": {
   "codemirror_mode": {
    "name": "ipython",
    "version": 3
   },
   "file_extension": ".py",
   "mimetype": "text/x-python",
   "name": "python",
   "nbconvert_exporter": "python",
   "pygments_lexer": "ipython3",
   "version": "3.7.4"
  }
 },
 "nbformat": 4,
 "nbformat_minor": 5
}
